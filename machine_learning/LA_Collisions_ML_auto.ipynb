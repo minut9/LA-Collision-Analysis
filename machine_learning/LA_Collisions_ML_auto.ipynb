{
 "cells": [
  {
   "cell_type": "code",
   "execution_count": 1,
   "id": "9cfae6b0-1e2b-408b-9253-c1c79b5356ca",
   "metadata": {},
   "outputs": [],
   "source": [
    "import warnings\n",
    "warnings.filterwarnings('ignore')"
   ]
  },
  {
   "cell_type": "code",
   "execution_count": 66,
   "id": "f8f0c16c-4226-4cbf-b452-aa5d9219af97",
   "metadata": {},
   "outputs": [],
   "source": [
    "%matplotlib inline\n",
    "# Import dependancies\n",
    "import numpy as np\n",
    "import pandas as pd\n",
    "from pathlib import Path\n",
    "from collections import Counter\n",
    "from matplotlib import pyplot as plt\n"
   ]
  },
  {
   "cell_type": "markdown",
   "id": "8a68441d-f2ab-4a8c-a8ad-c1540e521c98",
   "metadata": {},
   "source": [
    "# Machine learning on car collision data"
   ]
  },
  {
   "cell_type": "code",
   "execution_count": 5,
   "id": "3ca26272-2c89-420d-bb74-6f62c6615b9e",
   "metadata": {},
   "outputs": [
    {
     "data": {
      "text/html": [
       "<div>\n",
       "<style scoped>\n",
       "    .dataframe tbody tr th:only-of-type {\n",
       "        vertical-align: middle;\n",
       "    }\n",
       "\n",
       "    .dataframe tbody tr th {\n",
       "        vertical-align: top;\n",
       "    }\n",
       "\n",
       "    .dataframe thead th {\n",
       "        text-align: right;\n",
       "    }\n",
       "</style>\n",
       "<table border=\"1\" class=\"dataframe\">\n",
       "  <thead>\n",
       "    <tr style=\"text-align: right;\">\n",
       "      <th></th>\n",
       "      <th>case_id</th>\n",
       "      <th>party_number</th>\n",
       "      <th>victim_number</th>\n",
       "      <th>accident_year</th>\n",
       "      <th>collision_time</th>\n",
       "      <th>day_of_week</th>\n",
       "      <th>weather_1</th>\n",
       "      <th>primary_coll_factor</th>\n",
       "      <th>type_of_collision</th>\n",
       "      <th>at_fault</th>\n",
       "      <th>...</th>\n",
       "      <th>road_cond_1</th>\n",
       "      <th>lighting</th>\n",
       "      <th>point_x</th>\n",
       "      <th>point_y</th>\n",
       "      <th>victim_age</th>\n",
       "      <th>severe_injury</th>\n",
       "      <th>safety_equip_used</th>\n",
       "      <th>victim_sex</th>\n",
       "      <th>victim_seating_postion</th>\n",
       "      <th>victim_ejected</th>\n",
       "    </tr>\n",
       "  </thead>\n",
       "  <tbody>\n",
       "    <tr>\n",
       "      <th>0</th>\n",
       "      <td>90600867</td>\n",
       "      <td>1</td>\n",
       "      <td>1</td>\n",
       "      <td>2017</td>\n",
       "      <td>1955</td>\n",
       "      <td>7</td>\n",
       "      <td>A</td>\n",
       "      <td>A</td>\n",
       "      <td>B</td>\n",
       "      <td>N</td>\n",
       "      <td>...</td>\n",
       "      <td>H</td>\n",
       "      <td>C</td>\n",
       "      <td>-118.280930</td>\n",
       "      <td>34.009389</td>\n",
       "      <td>30</td>\n",
       "      <td>0</td>\n",
       "      <td>GM</td>\n",
       "      <td>M</td>\n",
       "      <td>3</td>\n",
       "      <td>0</td>\n",
       "    </tr>\n",
       "    <tr>\n",
       "      <th>1</th>\n",
       "      <td>90600867</td>\n",
       "      <td>1</td>\n",
       "      <td>2</td>\n",
       "      <td>2017</td>\n",
       "      <td>1955</td>\n",
       "      <td>7</td>\n",
       "      <td>A</td>\n",
       "      <td>A</td>\n",
       "      <td>B</td>\n",
       "      <td>N</td>\n",
       "      <td>...</td>\n",
       "      <td>H</td>\n",
       "      <td>C</td>\n",
       "      <td>-118.280930</td>\n",
       "      <td>34.009389</td>\n",
       "      <td>29</td>\n",
       "      <td>0</td>\n",
       "      <td>GM</td>\n",
       "      <td>M</td>\n",
       "      <td>1</td>\n",
       "      <td>0</td>\n",
       "    </tr>\n",
       "    <tr>\n",
       "      <th>2</th>\n",
       "      <td>8539423</td>\n",
       "      <td>1</td>\n",
       "      <td>1</td>\n",
       "      <td>2018</td>\n",
       "      <td>2350</td>\n",
       "      <td>6</td>\n",
       "      <td>A</td>\n",
       "      <td>A</td>\n",
       "      <td>C</td>\n",
       "      <td>Y</td>\n",
       "      <td>...</td>\n",
       "      <td>H</td>\n",
       "      <td>C</td>\n",
       "      <td>-118.394562</td>\n",
       "      <td>34.141647</td>\n",
       "      <td>21</td>\n",
       "      <td>0</td>\n",
       "      <td>GL</td>\n",
       "      <td>F</td>\n",
       "      <td>1</td>\n",
       "      <td>0</td>\n",
       "    </tr>\n",
       "    <tr>\n",
       "      <th>3</th>\n",
       "      <td>9002091</td>\n",
       "      <td>2</td>\n",
       "      <td>1</td>\n",
       "      <td>2019</td>\n",
       "      <td>630</td>\n",
       "      <td>2</td>\n",
       "      <td>A</td>\n",
       "      <td>A</td>\n",
       "      <td>D</td>\n",
       "      <td>N</td>\n",
       "      <td>...</td>\n",
       "      <td>H</td>\n",
       "      <td>A</td>\n",
       "      <td>-118.518204</td>\n",
       "      <td>34.041370</td>\n",
       "      <td>55</td>\n",
       "      <td>0</td>\n",
       "      <td>GM</td>\n",
       "      <td>M</td>\n",
       "      <td>1</td>\n",
       "      <td>0</td>\n",
       "    </tr>\n",
       "    <tr>\n",
       "      <th>4</th>\n",
       "      <td>90798337</td>\n",
       "      <td>2</td>\n",
       "      <td>1</td>\n",
       "      <td>2018</td>\n",
       "      <td>2011</td>\n",
       "      <td>6</td>\n",
       "      <td>A</td>\n",
       "      <td>A</td>\n",
       "      <td>B</td>\n",
       "      <td>N</td>\n",
       "      <td>...</td>\n",
       "      <td>H</td>\n",
       "      <td>D</td>\n",
       "      <td>-118.228332</td>\n",
       "      <td>33.825619</td>\n",
       "      <td>22</td>\n",
       "      <td>0</td>\n",
       "      <td>GL</td>\n",
       "      <td>F</td>\n",
       "      <td>1</td>\n",
       "      <td>0</td>\n",
       "    </tr>\n",
       "    <tr>\n",
       "      <th>...</th>\n",
       "      <td>...</td>\n",
       "      <td>...</td>\n",
       "      <td>...</td>\n",
       "      <td>...</td>\n",
       "      <td>...</td>\n",
       "      <td>...</td>\n",
       "      <td>...</td>\n",
       "      <td>...</td>\n",
       "      <td>...</td>\n",
       "      <td>...</td>\n",
       "      <td>...</td>\n",
       "      <td>...</td>\n",
       "      <td>...</td>\n",
       "      <td>...</td>\n",
       "      <td>...</td>\n",
       "      <td>...</td>\n",
       "      <td>...</td>\n",
       "      <td>...</td>\n",
       "      <td>...</td>\n",
       "      <td>...</td>\n",
       "      <td>...</td>\n",
       "    </tr>\n",
       "    <tr>\n",
       "      <th>172347</th>\n",
       "      <td>8292798</td>\n",
       "      <td>1</td>\n",
       "      <td>1</td>\n",
       "      <td>2017</td>\n",
       "      <td>1815</td>\n",
       "      <td>5</td>\n",
       "      <td>A</td>\n",
       "      <td>A</td>\n",
       "      <td>D</td>\n",
       "      <td>Y</td>\n",
       "      <td>...</td>\n",
       "      <td>H</td>\n",
       "      <td>A</td>\n",
       "      <td>-118.428810</td>\n",
       "      <td>34.221670</td>\n",
       "      <td>53</td>\n",
       "      <td>0</td>\n",
       "      <td>GL</td>\n",
       "      <td>M</td>\n",
       "      <td>1</td>\n",
       "      <td>0</td>\n",
       "    </tr>\n",
       "    <tr>\n",
       "      <th>172348</th>\n",
       "      <td>8626600</td>\n",
       "      <td>1</td>\n",
       "      <td>1</td>\n",
       "      <td>2018</td>\n",
       "      <td>2200</td>\n",
       "      <td>4</td>\n",
       "      <td>A</td>\n",
       "      <td>A</td>\n",
       "      <td>D</td>\n",
       "      <td>Y</td>\n",
       "      <td>...</td>\n",
       "      <td>C</td>\n",
       "      <td>C</td>\n",
       "      <td>-118.335121</td>\n",
       "      <td>34.010929</td>\n",
       "      <td>32</td>\n",
       "      <td>0</td>\n",
       "      <td>BL</td>\n",
       "      <td>M</td>\n",
       "      <td>1</td>\n",
       "      <td>0</td>\n",
       "    </tr>\n",
       "    <tr>\n",
       "      <th>172349</th>\n",
       "      <td>8799235</td>\n",
       "      <td>1</td>\n",
       "      <td>1</td>\n",
       "      <td>2018</td>\n",
       "      <td>815</td>\n",
       "      <td>5</td>\n",
       "      <td>A</td>\n",
       "      <td>A</td>\n",
       "      <td>B</td>\n",
       "      <td>Y</td>\n",
       "      <td>...</td>\n",
       "      <td>H</td>\n",
       "      <td>A</td>\n",
       "      <td>-118.244209</td>\n",
       "      <td>34.032078</td>\n",
       "      <td>31</td>\n",
       "      <td>0</td>\n",
       "      <td>GM</td>\n",
       "      <td>M</td>\n",
       "      <td>1</td>\n",
       "      <td>0</td>\n",
       "    </tr>\n",
       "    <tr>\n",
       "      <th>172350</th>\n",
       "      <td>90470136</td>\n",
       "      <td>2</td>\n",
       "      <td>1</td>\n",
       "      <td>2017</td>\n",
       "      <td>1010</td>\n",
       "      <td>6</td>\n",
       "      <td>A</td>\n",
       "      <td>A</td>\n",
       "      <td>C</td>\n",
       "      <td>N</td>\n",
       "      <td>...</td>\n",
       "      <td>H</td>\n",
       "      <td>A</td>\n",
       "      <td>-118.090101</td>\n",
       "      <td>34.072212</td>\n",
       "      <td>25</td>\n",
       "      <td>0</td>\n",
       "      <td>GL</td>\n",
       "      <td>F</td>\n",
       "      <td>1</td>\n",
       "      <td>0</td>\n",
       "    </tr>\n",
       "    <tr>\n",
       "      <th>172351</th>\n",
       "      <td>91046010</td>\n",
       "      <td>1</td>\n",
       "      <td>1</td>\n",
       "      <td>2019</td>\n",
       "      <td>1450</td>\n",
       "      <td>1</td>\n",
       "      <td>A</td>\n",
       "      <td>A</td>\n",
       "      <td>E</td>\n",
       "      <td>Y</td>\n",
       "      <td>...</td>\n",
       "      <td>H</td>\n",
       "      <td>A</td>\n",
       "      <td>-117.985176</td>\n",
       "      <td>33.981491</td>\n",
       "      <td>53</td>\n",
       "      <td>0</td>\n",
       "      <td>GL</td>\n",
       "      <td>F</td>\n",
       "      <td>1</td>\n",
       "      <td>0</td>\n",
       "    </tr>\n",
       "  </tbody>\n",
       "</table>\n",
       "<p>172352 rows × 29 columns</p>\n",
       "</div>"
      ],
      "text/plain": [
       "         case_id  party_number  victim_number  accident_year  collision_time  \\\n",
       "0       90600867             1              1           2017            1955   \n",
       "1       90600867             1              2           2017            1955   \n",
       "2        8539423             1              1           2018            2350   \n",
       "3        9002091             2              1           2019             630   \n",
       "4       90798337             2              1           2018            2011   \n",
       "...          ...           ...            ...            ...             ...   \n",
       "172347   8292798             1              1           2017            1815   \n",
       "172348   8626600             1              1           2018            2200   \n",
       "172349   8799235             1              1           2018             815   \n",
       "172350  90470136             2              1           2017            1010   \n",
       "172351  91046010             1              1           2019            1450   \n",
       "\n",
       "        day_of_week weather_1 primary_coll_factor type_of_collision at_fault  \\\n",
       "0                 7         A                   A                 B        N   \n",
       "1                 7         A                   A                 B        N   \n",
       "2                 6         A                   A                 C        Y   \n",
       "3                 2         A                   A                 D        N   \n",
       "4                 6         A                   A                 B        N   \n",
       "...             ...       ...                 ...               ...      ...   \n",
       "172347            5         A                   A                 D        Y   \n",
       "172348            4         A                   A                 D        Y   \n",
       "172349            5         A                   A                 B        Y   \n",
       "172350            6         A                   A                 C        N   \n",
       "172351            1         A                   A                 E        Y   \n",
       "\n",
       "        ... road_cond_1 lighting     point_x    point_y  victim_age  \\\n",
       "0       ...           H        C -118.280930  34.009389          30   \n",
       "1       ...           H        C -118.280930  34.009389          29   \n",
       "2       ...           H        C -118.394562  34.141647          21   \n",
       "3       ...           H        A -118.518204  34.041370          55   \n",
       "4       ...           H        D -118.228332  33.825619          22   \n",
       "...     ...         ...      ...         ...        ...         ...   \n",
       "172347  ...           H        A -118.428810  34.221670          53   \n",
       "172348  ...           C        C -118.335121  34.010929          32   \n",
       "172349  ...           H        A -118.244209  34.032078          31   \n",
       "172350  ...           H        A -118.090101  34.072212          25   \n",
       "172351  ...           H        A -117.985176  33.981491          53   \n",
       "\n",
       "       severe_injury safety_equip_used victim_sex victim_seating_postion  \\\n",
       "0                  0                GM          M                      3   \n",
       "1                  0                GM          M                      1   \n",
       "2                  0                GL          F                      1   \n",
       "3                  0                GM          M                      1   \n",
       "4                  0                GL          F                      1   \n",
       "...              ...               ...        ...                    ...   \n",
       "172347             0                GL          M                      1   \n",
       "172348             0                BL          M                      1   \n",
       "172349             0                GM          M                      1   \n",
       "172350             0                GL          F                      1   \n",
       "172351             0                GL          F                      1   \n",
       "\n",
       "       victim_ejected  \n",
       "0                   0  \n",
       "1                   0  \n",
       "2                   0  \n",
       "3                   0  \n",
       "4                   0  \n",
       "...               ...  \n",
       "172347              0  \n",
       "172348              0  \n",
       "172349              0  \n",
       "172350              0  \n",
       "172351              0  \n",
       "\n",
       "[172352 rows x 29 columns]"
      ]
     },
     "execution_count": 5,
     "metadata": {},
     "output_type": "execute_result"
    }
   ],
   "source": [
    "# Load the data\n",
    "file_path = Path('collision_data_ml_auto.csv')\n",
    "ml_df = pd.read_csv(file_path)\n",
    "ml_df"
   ]
  },
  {
   "cell_type": "code",
   "execution_count": 6,
   "id": "8b1293b4-7183-4783-8f8d-cf348d9b9eff",
   "metadata": {},
   "outputs": [
    {
     "data": {
      "text/html": [
       "<div>\n",
       "<style scoped>\n",
       "    .dataframe tbody tr th:only-of-type {\n",
       "        vertical-align: middle;\n",
       "    }\n",
       "\n",
       "    .dataframe tbody tr th {\n",
       "        vertical-align: top;\n",
       "    }\n",
       "\n",
       "    .dataframe thead th {\n",
       "        text-align: right;\n",
       "    }\n",
       "</style>\n",
       "<table border=\"1\" class=\"dataframe\">\n",
       "  <thead>\n",
       "    <tr style=\"text-align: right;\">\n",
       "      <th></th>\n",
       "      <th>collision_time</th>\n",
       "      <th>day_of_week</th>\n",
       "      <th>weather_1</th>\n",
       "      <th>type_of_collision</th>\n",
       "      <th>party_soberiety</th>\n",
       "      <th>move_pre_acc</th>\n",
       "      <th>vehicle_year</th>\n",
       "      <th>road_surface</th>\n",
       "      <th>road_cond_1</th>\n",
       "      <th>lighting</th>\n",
       "      <th>severe_injury</th>\n",
       "      <th>safety_equip_used</th>\n",
       "      <th>victim_seating_postion</th>\n",
       "      <th>victim_ejected</th>\n",
       "    </tr>\n",
       "  </thead>\n",
       "  <tbody>\n",
       "    <tr>\n",
       "      <th>0</th>\n",
       "      <td>1955</td>\n",
       "      <td>7</td>\n",
       "      <td>A</td>\n",
       "      <td>B</td>\n",
       "      <td>C</td>\n",
       "      <td>B</td>\n",
       "      <td>2012</td>\n",
       "      <td>A</td>\n",
       "      <td>H</td>\n",
       "      <td>C</td>\n",
       "      <td>0</td>\n",
       "      <td>GM</td>\n",
       "      <td>3</td>\n",
       "      <td>0</td>\n",
       "    </tr>\n",
       "    <tr>\n",
       "      <th>1</th>\n",
       "      <td>1955</td>\n",
       "      <td>7</td>\n",
       "      <td>A</td>\n",
       "      <td>B</td>\n",
       "      <td>C</td>\n",
       "      <td>B</td>\n",
       "      <td>2012</td>\n",
       "      <td>A</td>\n",
       "      <td>H</td>\n",
       "      <td>C</td>\n",
       "      <td>0</td>\n",
       "      <td>GM</td>\n",
       "      <td>1</td>\n",
       "      <td>0</td>\n",
       "    </tr>\n",
       "    <tr>\n",
       "      <th>2</th>\n",
       "      <td>2350</td>\n",
       "      <td>6</td>\n",
       "      <td>A</td>\n",
       "      <td>C</td>\n",
       "      <td>A</td>\n",
       "      <td>B</td>\n",
       "      <td>2012</td>\n",
       "      <td>A</td>\n",
       "      <td>H</td>\n",
       "      <td>C</td>\n",
       "      <td>0</td>\n",
       "      <td>GL</td>\n",
       "      <td>1</td>\n",
       "      <td>0</td>\n",
       "    </tr>\n",
       "    <tr>\n",
       "      <th>3</th>\n",
       "      <td>630</td>\n",
       "      <td>2</td>\n",
       "      <td>A</td>\n",
       "      <td>D</td>\n",
       "      <td>A</td>\n",
       "      <td>B</td>\n",
       "      <td>2018</td>\n",
       "      <td>A</td>\n",
       "      <td>H</td>\n",
       "      <td>A</td>\n",
       "      <td>0</td>\n",
       "      <td>GM</td>\n",
       "      <td>1</td>\n",
       "      <td>0</td>\n",
       "    </tr>\n",
       "    <tr>\n",
       "      <th>4</th>\n",
       "      <td>2011</td>\n",
       "      <td>6</td>\n",
       "      <td>A</td>\n",
       "      <td>B</td>\n",
       "      <td>A</td>\n",
       "      <td>B</td>\n",
       "      <td>2013</td>\n",
       "      <td>A</td>\n",
       "      <td>H</td>\n",
       "      <td>D</td>\n",
       "      <td>0</td>\n",
       "      <td>GL</td>\n",
       "      <td>1</td>\n",
       "      <td>0</td>\n",
       "    </tr>\n",
       "    <tr>\n",
       "      <th>...</th>\n",
       "      <td>...</td>\n",
       "      <td>...</td>\n",
       "      <td>...</td>\n",
       "      <td>...</td>\n",
       "      <td>...</td>\n",
       "      <td>...</td>\n",
       "      <td>...</td>\n",
       "      <td>...</td>\n",
       "      <td>...</td>\n",
       "      <td>...</td>\n",
       "      <td>...</td>\n",
       "      <td>...</td>\n",
       "      <td>...</td>\n",
       "      <td>...</td>\n",
       "    </tr>\n",
       "    <tr>\n",
       "      <th>172347</th>\n",
       "      <td>1815</td>\n",
       "      <td>5</td>\n",
       "      <td>A</td>\n",
       "      <td>D</td>\n",
       "      <td>A</td>\n",
       "      <td>B</td>\n",
       "      <td>2012</td>\n",
       "      <td>A</td>\n",
       "      <td>H</td>\n",
       "      <td>A</td>\n",
       "      <td>0</td>\n",
       "      <td>GL</td>\n",
       "      <td>1</td>\n",
       "      <td>0</td>\n",
       "    </tr>\n",
       "    <tr>\n",
       "      <th>172348</th>\n",
       "      <td>2200</td>\n",
       "      <td>4</td>\n",
       "      <td>A</td>\n",
       "      <td>D</td>\n",
       "      <td>G</td>\n",
       "      <td>B</td>\n",
       "      <td>2006</td>\n",
       "      <td>A</td>\n",
       "      <td>C</td>\n",
       "      <td>C</td>\n",
       "      <td>0</td>\n",
       "      <td>BL</td>\n",
       "      <td>1</td>\n",
       "      <td>0</td>\n",
       "    </tr>\n",
       "    <tr>\n",
       "      <th>172349</th>\n",
       "      <td>815</td>\n",
       "      <td>5</td>\n",
       "      <td>A</td>\n",
       "      <td>B</td>\n",
       "      <td>A</td>\n",
       "      <td>J</td>\n",
       "      <td>2012</td>\n",
       "      <td>A</td>\n",
       "      <td>H</td>\n",
       "      <td>A</td>\n",
       "      <td>0</td>\n",
       "      <td>GM</td>\n",
       "      <td>1</td>\n",
       "      <td>0</td>\n",
       "    </tr>\n",
       "    <tr>\n",
       "      <th>172350</th>\n",
       "      <td>1010</td>\n",
       "      <td>6</td>\n",
       "      <td>A</td>\n",
       "      <td>C</td>\n",
       "      <td>A</td>\n",
       "      <td>A</td>\n",
       "      <td>2013</td>\n",
       "      <td>A</td>\n",
       "      <td>H</td>\n",
       "      <td>A</td>\n",
       "      <td>0</td>\n",
       "      <td>GL</td>\n",
       "      <td>1</td>\n",
       "      <td>0</td>\n",
       "    </tr>\n",
       "    <tr>\n",
       "      <th>172351</th>\n",
       "      <td>1450</td>\n",
       "      <td>1</td>\n",
       "      <td>A</td>\n",
       "      <td>E</td>\n",
       "      <td>A</td>\n",
       "      <td>M</td>\n",
       "      <td>2005</td>\n",
       "      <td>A</td>\n",
       "      <td>H</td>\n",
       "      <td>A</td>\n",
       "      <td>0</td>\n",
       "      <td>GL</td>\n",
       "      <td>1</td>\n",
       "      <td>0</td>\n",
       "    </tr>\n",
       "  </tbody>\n",
       "</table>\n",
       "<p>172352 rows × 14 columns</p>\n",
       "</div>"
      ],
      "text/plain": [
       "        collision_time  day_of_week weather_1 type_of_collision  \\\n",
       "0                 1955            7         A                 B   \n",
       "1                 1955            7         A                 B   \n",
       "2                 2350            6         A                 C   \n",
       "3                  630            2         A                 D   \n",
       "4                 2011            6         A                 B   \n",
       "...                ...          ...       ...               ...   \n",
       "172347            1815            5         A                 D   \n",
       "172348            2200            4         A                 D   \n",
       "172349             815            5         A                 B   \n",
       "172350            1010            6         A                 C   \n",
       "172351            1450            1         A                 E   \n",
       "\n",
       "       party_soberiety move_pre_acc  vehicle_year road_surface road_cond_1  \\\n",
       "0                    C            B          2012            A           H   \n",
       "1                    C            B          2012            A           H   \n",
       "2                    A            B          2012            A           H   \n",
       "3                    A            B          2018            A           H   \n",
       "4                    A            B          2013            A           H   \n",
       "...                ...          ...           ...          ...         ...   \n",
       "172347               A            B          2012            A           H   \n",
       "172348               G            B          2006            A           C   \n",
       "172349               A            J          2012            A           H   \n",
       "172350               A            A          2013            A           H   \n",
       "172351               A            M          2005            A           H   \n",
       "\n",
       "       lighting  severe_injury safety_equip_used  victim_seating_postion  \\\n",
       "0             C              0                GM                       3   \n",
       "1             C              0                GM                       1   \n",
       "2             C              0                GL                       1   \n",
       "3             A              0                GM                       1   \n",
       "4             D              0                GL                       1   \n",
       "...         ...            ...               ...                     ...   \n",
       "172347        A              0                GL                       1   \n",
       "172348        C              0                BL                       1   \n",
       "172349        A              0                GM                       1   \n",
       "172350        A              0                GL                       1   \n",
       "172351        A              0                GL                       1   \n",
       "\n",
       "        victim_ejected  \n",
       "0                    0  \n",
       "1                    0  \n",
       "2                    0  \n",
       "3                    0  \n",
       "4                    0  \n",
       "...                ...  \n",
       "172347               0  \n",
       "172348               0  \n",
       "172349               0  \n",
       "172350               0  \n",
       "172351               0  \n",
       "\n",
       "[172352 rows x 14 columns]"
      ]
     },
     "execution_count": 6,
     "metadata": {},
     "output_type": "execute_result"
    }
   ],
   "source": [
    "ml_df = ml_df.drop(columns=[\"case_id\", \"party_number\", \"victim_number\", \n",
    "                            \"accident_year\", \"vehicle_make\", \"point_x\", \n",
    "                            \"point_y\", \"stwd_vehicle_type\", \"oaf_1\", \n",
    "                            \"primary_coll_factor\", \"party_sex\", \"at_fault\",\n",
    "                           \"victim_age\", \"victim_sex\", \"race\"])\n",
    "ml_df\n",
    "            \n",
    "                   "
   ]
  },
  {
   "cell_type": "code",
   "execution_count": 7,
   "id": "758e5953-954c-4525-8f69-88166c016dc5",
   "metadata": {},
   "outputs": [
    {
     "data": {
      "text/plain": [
       "weather_1            object\n",
       "type_of_collision    object\n",
       "party_soberiety      object\n",
       "move_pre_acc         object\n",
       "road_surface         object\n",
       "road_cond_1          object\n",
       "lighting             object\n",
       "safety_equip_used    object\n",
       "dtype: object"
      ]
     },
     "execution_count": 7,
     "metadata": {},
     "output_type": "execute_result"
    }
   ],
   "source": [
    "ml_df.dtypes[ml_df.dtypes != 'int64'][ml_df.dtypes != 'float64']"
   ]
  },
  {
   "cell_type": "code",
   "execution_count": 8,
   "id": "bafe66ca-b0a7-45e3-9462-213dbabbacc2",
   "metadata": {},
   "outputs": [
    {
     "data": {
      "text/plain": [
       "A    152306\n",
       "B     15508\n",
       "C      4233\n",
       "E       185\n",
       "G        79\n",
       "F        27\n",
       "D        14\n",
       "Name: weather_1, dtype: int64"
      ]
     },
     "execution_count": 8,
     "metadata": {},
     "output_type": "execute_result"
    }
   ],
   "source": [
    "# Check weather data\n",
    "ml_df[\"weather_1\"].value_counts()"
   ]
  },
  {
   "cell_type": "markdown",
   "id": "219f3b66-393f-44bf-9a53-12d9f71677ec",
   "metadata": {},
   "source": [
    "A - Clear\n",
    "B - Cloudy\n",
    "C - Raining\n",
    "D - Snowing\n",
    "E - Fog\n",
    "F - Other\n",
    "G - Wind"
   ]
  },
  {
   "cell_type": "code",
   "execution_count": null,
   "id": "5edd9eee-76f6-4259-9961-61792268b4d4",
   "metadata": {},
   "outputs": [],
   "source": []
  },
  {
   "cell_type": "markdown",
   "id": "24f31609-4f75-4ead-96ba-ae69fd8859cf",
   "metadata": {},
   "source": [
    "A - (Vehicle) Code Violation\n",
    "B - Other Improper Driving"
   ]
  },
  {
   "cell_type": "code",
   "execution_count": 8,
   "id": "46086bde-e146-4676-b7d3-4fe4b7cfa18b",
   "metadata": {},
   "outputs": [
    {
     "data": {
      "text/plain": [
       "C    67260\n",
       "D    60381\n",
       "B    17369\n",
       "A    14195\n",
       "E     9565\n",
       "G     1387\n",
       "F     1320\n",
       "H      875\n",
       "Name: type_of_collision, dtype: int64"
      ]
     },
     "execution_count": 8,
     "metadata": {},
     "output_type": "execute_result"
    }
   ],
   "source": [
    "# Check type of collision\n",
    "ml_df[\"type_of_collision\"].value_counts()"
   ]
  },
  {
   "cell_type": "markdown",
   "id": "516eaca9-9096-41c1-8c06-5528958fb257",
   "metadata": {},
   "source": [
    "A - Head-On\n",
    "B - Sideswipe\n",
    "C - Rear End\n",
    "D - Broadside\n",
    "E - Hit Object\n",
    "F - Overturned\n",
    "G - Vehicle/Pedestrian\n",
    "H - Other"
   ]
  },
  {
   "cell_type": "code",
   "execution_count": null,
   "id": "ec673cba-11c1-4381-a619-13718b0ea77e",
   "metadata": {},
   "outputs": [],
   "source": []
  },
  {
   "cell_type": "code",
   "execution_count": null,
   "id": "94972ac9-aeeb-4de1-bf0a-45a37bba96cc",
   "metadata": {},
   "outputs": [],
   "source": []
  },
  {
   "cell_type": "code",
   "execution_count": 10,
   "id": "fc74966b-6123-4faa-a4a0-80a5a6649a08",
   "metadata": {},
   "outputs": [
    {
     "data": {
      "text/plain": [
       "A    158264\n",
       "B      6170\n",
       "H      3327\n",
       "G      2674\n",
       "C      1548\n",
       "D       369\n",
       "Name: party_soberiety, dtype: int64"
      ]
     },
     "execution_count": 10,
     "metadata": {},
     "output_type": "execute_result"
    }
   ],
   "source": [
    "# Check sobriety factor\n",
    "ml_df[\"party_soberiety\"].value_counts()"
   ]
  },
  {
   "cell_type": "markdown",
   "id": "b62658e4-da8d-4a0b-97f0-92ec4faab363",
   "metadata": {},
   "source": [
    "A - Had not been Drinking\n",
    "B - Had been Drinking, Under Influence\n",
    "C - Had been Drinking, Not Under Influence\n",
    "D - Had been Drinking, Impairment Unknown\n",
    "G - Impairment Unknown\n",
    "H - Not Applicable"
   ]
  },
  {
   "cell_type": "code",
   "execution_count": null,
   "id": "9466501d-f5e5-4880-9b91-77dc22385dd5",
   "metadata": {},
   "outputs": [],
   "source": []
  },
  {
   "cell_type": "markdown",
   "id": "b5a8df96-bc39-4a27-aacb-c9b751f18c4a",
   "metadata": {},
   "source": [
    "A - Violation\n",
    "E - Vision Obscurements\n",
    "F - Inattention (beginning 1/1/01; see Inattention Item Name near end of record for A-K, P values)\n",
    "G - Stop and Go Traffic\n",
    "H - Entering/Leaving Ramp\n",
    "I - Previous Collision\n",
    "J - Unfamiliar With Road\n",
    "K - Defective Vehicle Equipment\n",
    "L - Uninvolved Vehicle\n",
    "M - Other\n",
    "N - None Apparent\n",
    "O - Runaway Vehicle\n",
    "P - Inattention, Cell Phone (1/1/01)\n",
    "Q - Inattention, Electronic Equip.(1/1/01)\n",
    "R - Inattention, Radio/CD (1/1/01)\n",
    "S - Inattention, Smoking (1/1/01)\n",
    "T - Inattention, Eating (1/1/01)\n",
    "U - Inattention, Children (1/1/01)\n",
    "V - Inattention, Animal (1/1/01)\n",
    "W - Inattention, Personal Hygiene (1/1/01)\n",
    "X - Inattention, Reading (1/1/01)\n",
    "Y - Inattention, Other (1/1/01)\n",
    "- - Not Stated"
   ]
  },
  {
   "cell_type": "code",
   "execution_count": null,
   "id": "6723b082-1903-44a8-a647-ab8159cb59d8",
   "metadata": {},
   "outputs": [],
   "source": []
  },
  {
   "cell_type": "code",
   "execution_count": 11,
   "id": "34d2ee41-13f7-4857-a29a-5f4cb06929b5",
   "metadata": {},
   "outputs": [
    {
     "data": {
      "text/plain": [
       "B    86346\n",
       "A    33118\n",
       "E    20182\n",
       "H    11334\n",
       "R     4446\n",
       "J     3300\n",
       "D     2914\n",
       "M     2801\n",
       "L     2775\n",
       "F     1519\n",
       "C     1373\n",
       "G      527\n",
       "N      508\n",
       "I      384\n",
       "P      282\n",
       "Q      269\n",
       "O      169\n",
       "K      105\n",
       "Name: move_pre_acc, dtype: int64"
      ]
     },
     "execution_count": 11,
     "metadata": {},
     "output_type": "execute_result"
    }
   ],
   "source": [
    "# Check movement pre accident factor\n",
    "move_pre_acc = ml_df[\"move_pre_acc\"].value_counts()\n",
    "move_pre_acc"
   ]
  },
  {
   "cell_type": "code",
   "execution_count": 12,
   "id": "384989ea-ecc7-4b47-b782-0bb2f6e2727b",
   "metadata": {},
   "outputs": [
    {
     "data": {
      "image/png": "[encoded data removed]",
      "text/plain": [
       "<Figure size 432x288 with 1 Axes>"
      ]
     },
     "metadata": {
      "needs_background": "light"
     },
     "output_type": "display_data"
    }
   ],
   "source": [
    "# Visualize the value counts of move_pre_acc\n",
    "plot = move_pre_acc.plot.density()\n",
    "fig = plot.get_figure()\n"
   ]
  },
  {
   "cell_type": "markdown",
   "id": "d980bcbd-9b64-4803-9772-094e704ebe9a",
   "metadata": {},
   "source": [
    "A - Stopped\n",
    "B - Proceeding Straight\n",
    "C - Ran Off Road\n",
    "D - Making Right Turn\n",
    "E - Making Left Turn\n",
    "F - Making U-Turn\n",
    "G - Backing\n",
    "H - Slowing/Stopping\n",
    "I - Passing Other Vehicle\n",
    "J - Changing Lanes\n",
    "K - Parking Maneuver\n",
    "L - Entering Traffic\n",
    "M - Other Unsafe Turning\n",
    "N - Crossed Into Opposing Lane\n",
    "O - Parked\n",
    "P - Merging\n",
    "Q - Traveling Wrong Way\n",
    "R - Other\n",
    "- - Not Stated"
   ]
  },
  {
   "cell_type": "code",
   "execution_count": null,
   "id": "043bc793-8f9c-4cfd-a839-273151e37c65",
   "metadata": {},
   "outputs": [],
   "source": []
  },
  {
   "cell_type": "code",
   "execution_count": 14,
   "id": "996794db-e8ca-45d9-b564-22e74cee0cc2",
   "metadata": {},
   "outputs": [
    {
     "data": {
      "text/plain": [
       "A    163158\n",
       "B      9079\n",
       "C        73\n",
       "D        42\n",
       "Name: road_surface, dtype: int64"
      ]
     },
     "execution_count": 14,
     "metadata": {},
     "output_type": "execute_result"
    }
   ],
   "source": [
    "# Check road type factor\n",
    "road_surface = ml_df[\"road_surface\"].value_counts()\n",
    "road_surface"
   ]
  },
  {
   "cell_type": "code",
   "execution_count": 16,
   "id": "2d3d96a0-ff9d-42ee-9709-e9ac9f31f7bc",
   "metadata": {},
   "outputs": [
    {
     "data": {
      "text/plain": [
       "A           163158\n",
       "slippery      9194\n",
       "Name: road_surface, dtype: int64"
      ]
     },
     "execution_count": 16,
     "metadata": {},
     "output_type": "execute_result"
    }
   ],
   "source": [
    "# Determine which values to replace if counts are less than ...?\n",
    "replace_road_surface = list(road_surface[road_surface < 10000].index)\n",
    "\n",
    "# Replace in dataframe\n",
    "for app in replace_road_surface:\n",
    "    ml_df.road_surface = ml_df.road_surface.replace(app,\"slippery\")\n",
    "    \n",
    "# Check to make sure binning was successful\n",
    "ml_df.road_surface.value_counts()"
   ]
  },
  {
   "cell_type": "markdown",
   "id": "656554f3-76fe-4357-8d84-71572f2defff",
   "metadata": {},
   "source": [
    "A - Dry\n",
    "B - Wet\n",
    "C - Snowy or Icy\n",
    "D - Slippery (Muddy, Oily, etc.)"
   ]
  },
  {
   "cell_type": "code",
   "execution_count": 17,
   "id": "200d8294-b7c8-45f4-a6fa-c811eb0d497c",
   "metadata": {},
   "outputs": [
    {
     "data": {
      "text/plain": [
       "H    168956\n",
       "D      2185\n",
       "G       366\n",
       "C       361\n",
       "A       266\n",
       "F        80\n",
       "E        70\n",
       "B        68\n",
       "Name: road_cond_1, dtype: int64"
      ]
     },
     "execution_count": 17,
     "metadata": {},
     "output_type": "execute_result"
    }
   ],
   "source": [
    "# Check road conditions factor\n",
    "ml_df[\"road_cond_1\"].value_counts()"
   ]
  },
  {
   "cell_type": "markdown",
   "id": "8c7f6199-d831-4cba-a35c-d85ac8733810",
   "metadata": {},
   "source": [
    "\t\n",
    "A - Holes, Deep Ruts\n",
    "B - Loose Material on Roadway\n",
    "C - Obstruction on Roadway\n",
    "D - Construction or Repair Zone\n",
    "E - Reduced Roadway Width\n",
    "F - Flooded\n",
    "G - Other\n",
    "H - No Unusual Condition"
   ]
  },
  {
   "cell_type": "code",
   "execution_count": 20,
   "id": "ac657762-6bb2-42d8-a928-a1471a350106",
   "metadata": {},
   "outputs": [
    {
     "data": {
      "text/plain": [
       "A    117235\n",
       "C     42915\n",
       "D      6547\n",
       "B      5383\n",
       "E       272\n",
       "Name: lighting, dtype: int64"
      ]
     },
     "execution_count": 20,
     "metadata": {},
     "output_type": "execute_result"
    }
   ],
   "source": [
    "# Check lighting conditions factor\n",
    "ml_df[\"lighting\"].value_counts()"
   ]
  },
  {
   "cell_type": "markdown",
   "id": "c5f20a3c-9958-4c19-9fee-8b20b41b0272",
   "metadata": {},
   "source": [
    "\t\n",
    "A - Daylight\n",
    "B - Dusk - Dawn\n",
    "C - Dark - Street Lights\n",
    "D - Dark - No Street Lights\n",
    "E - Dark - Street Lights Not "
   ]
  },
  {
   "cell_type": "code",
   "execution_count": 21,
   "id": "872f18ac-6394-4651-898d-84870b3d5bd2",
   "metadata": {},
   "outputs": [
    {
     "data": {
      "text/plain": [
       "GM    90031\n",
       "GL    62324\n",
       "GP     5722\n",
       "MQ     3286\n",
       "PQ     1378\n",
       "HL     1137\n",
       "LQ     1102\n",
       "BL      862\n",
       "HM      824\n",
       "BM      695\n",
       "CM      693\n",
       "CL      613\n",
       "LM      385\n",
       "EM      353\n",
       "EL      334\n",
       "GN      241\n",
       "HP      224\n",
       "BG      149\n",
       "MP      135\n",
       "PW      108\n",
       "CP      106\n",
       "FM       97\n",
       "FL       92\n",
       "BP       89\n",
       "DL       65\n",
       "MU       65\n",
       "AL       58\n",
       "GQ       57\n",
       "LP       55\n",
       "DM       54\n",
       "AM       52\n",
       "PU       50\n",
       "JM       44\n",
       "MT       40\n",
       "NY       40\n",
       "GY       38\n",
       "LY       37\n",
       "MN       37\n",
       "LU       37\n",
       "MY       36\n",
       "BB       36\n",
       "AP       35\n",
       "LN       34\n",
       "MR       32\n",
       "MS       27\n",
       "NQ       26\n",
       "BN       26\n",
       "LR       26\n",
       "PR       25\n",
       "PP       25\n",
       "LT       22\n",
       "LS       21\n",
       "EP       20\n",
       "PT       20\n",
       "PS       18\n",
       "GH       16\n",
       "JL       13\n",
       "AG       13\n",
       "DP       13\n",
       "MW       12\n",
       "CG       12\n",
       "GW        9\n",
       "AB        9\n",
       "CN        9\n",
       "FP        9\n",
       "GU        6\n",
       "HN        6\n",
       "PV        6\n",
       "BH        5\n",
       "KL        4\n",
       "JP        4\n",
       "GK        4\n",
       "BQ        4\n",
       "EN        4\n",
       "CY        3\n",
       "MV        3\n",
       "AN        3\n",
       "FG        3\n",
       "BC        2\n",
       "FQ        2\n",
       "MX        2\n",
       "LW        2\n",
       "EQ        2\n",
       "DN        2\n",
       "CU        2\n",
       "PY        2\n",
       "JQ        2\n",
       "QY        2\n",
       "KM        2\n",
       "AQ        2\n",
       "AW        2\n",
       "AV        1\n",
       "DY        1\n",
       "HQ        1\n",
       "GR        1\n",
       "KP        1\n",
       "FW        1\n",
       "NP        1\n",
       "AR        1\n",
       "AH        1\n",
       "FN        1\n",
       "QR        1\n",
       "AC        1\n",
       "CD        1\n",
       "BS        1\n",
       "BF        1\n",
       "LV        1\n",
       "LX        1\n",
       "GT        1\n",
       "Name: safety_equip_used, dtype: int64"
      ]
     },
     "execution_count": 21,
     "metadata": {},
     "output_type": "execute_result"
    }
   ],
   "source": [
    "# Check safety equipment used conditions factor\n",
    "pd.set_option('display.max_rows', 120)\n",
    "ml_df[\"safety_equip_used\"].value_counts()"
   ]
  },
  {
   "cell_type": "markdown",
   "id": "b8c55474-51d3-4aed-9153-35bba5224c09",
   "metadata": {},
   "source": [
    "A - None in Vehicle\n",
    "B - Unknown\n",
    "C - Lap Belt Used\n",
    "D - Lap Belt Not Used\n",
    "E - Shoulder Harness Used\n",
    "F - Shoulder Harness Not Used\n",
    "G - Lap/Shoulder Harness Used\n",
    "H - Lap/Shoulder Harness Not Used\n",
    "J - Passive Restraint Used\n",
    "K - Passive Restraint Not Used\n",
    "L - Air Bag Deployed\n",
    "M - Air Bag Not Deployed\n",
    "N - Other\n",
    "P - Not Required\n",
    "Q - Child Restraint in Vehicle Used\n",
    "R - Child Restraint in Vehicle Not Used\n",
    "S - Child Restraint in Vehicle, Use Unknown\n",
    "T - Child Restraint in Vehicle, Improper Use\n",
    "U - No Child Restraint in Vehicle\n",
    "V - Driver, Motorcycle Helmet Not Used\n",
    "W - Driver, Motorcycle Helmet Used\n",
    "X - Passenger, Motorcycle Helmet Not Used\n",
    "Y - Passenger, Motorcycle Helmet Used\n",
    "- or blank - Not Stated AX  Z ˛z"
   ]
  },
  {
   "cell_type": "code",
   "execution_count": null,
   "id": "e07bb356-d7c1-4996-b54c-5236abc77fdd",
   "metadata": {},
   "outputs": [],
   "source": []
  },
  {
   "cell_type": "code",
   "execution_count": null,
   "id": "ed60c74e-d234-4c3d-8617-c49de70f0b02",
   "metadata": {},
   "outputs": [],
   "source": []
  },
  {
   "cell_type": "code",
   "execution_count": null,
   "id": "15a2819d-21e6-4338-a0e5-3df931217a11",
   "metadata": {},
   "outputs": [],
   "source": []
  },
  {
   "cell_type": "code",
   "execution_count": null,
   "id": "b9834c9f-d6dd-4b74-9a5a-d80e39e635d9",
   "metadata": {},
   "outputs": [],
   "source": []
  },
  {
   "cell_type": "code",
   "execution_count": null,
   "id": "1064f5b4-9e76-4c6e-8f3f-9e7dd5ea4ca9",
   "metadata": {},
   "outputs": [],
   "source": []
  },
  {
   "cell_type": "code",
   "execution_count": 23,
   "id": "454efa22-f466-4e3f-9581-191db25f3102",
   "metadata": {},
   "outputs": [
    {
     "data": {
      "text/html": [
       "<div>\n",
       "<style scoped>\n",
       "    .dataframe tbody tr th:only-of-type {\n",
       "        vertical-align: middle;\n",
       "    }\n",
       "\n",
       "    .dataframe tbody tr th {\n",
       "        vertical-align: top;\n",
       "    }\n",
       "\n",
       "    .dataframe thead th {\n",
       "        text-align: right;\n",
       "    }\n",
       "</style>\n",
       "<table border=\"1\" class=\"dataframe\">\n",
       "  <thead>\n",
       "    <tr style=\"text-align: right;\">\n",
       "      <th></th>\n",
       "      <th>collision_time</th>\n",
       "      <th>day_of_week</th>\n",
       "      <th>vehicle_year</th>\n",
       "      <th>severe_injury</th>\n",
       "      <th>victim_seating_postion</th>\n",
       "      <th>victim_ejected</th>\n",
       "      <th>weather_1_A</th>\n",
       "      <th>weather_1_B</th>\n",
       "      <th>weather_1_C</th>\n",
       "      <th>weather_1_D</th>\n",
       "      <th>...</th>\n",
       "      <th>safety_equip_used_PQ</th>\n",
       "      <th>safety_equip_used_PR</th>\n",
       "      <th>safety_equip_used_PS</th>\n",
       "      <th>safety_equip_used_PT</th>\n",
       "      <th>safety_equip_used_PU</th>\n",
       "      <th>safety_equip_used_PV</th>\n",
       "      <th>safety_equip_used_PW</th>\n",
       "      <th>safety_equip_used_PY</th>\n",
       "      <th>safety_equip_used_QR</th>\n",
       "      <th>safety_equip_used_QY</th>\n",
       "    </tr>\n",
       "  </thead>\n",
       "  <tbody>\n",
       "    <tr>\n",
       "      <th>0</th>\n",
       "      <td>1955</td>\n",
       "      <td>7</td>\n",
       "      <td>2012</td>\n",
       "      <td>0</td>\n",
       "      <td>3</td>\n",
       "      <td>0</td>\n",
       "      <td>1</td>\n",
       "      <td>0</td>\n",
       "      <td>0</td>\n",
       "      <td>0</td>\n",
       "      <td>...</td>\n",
       "      <td>0</td>\n",
       "      <td>0</td>\n",
       "      <td>0</td>\n",
       "      <td>0</td>\n",
       "      <td>0</td>\n",
       "      <td>0</td>\n",
       "      <td>0</td>\n",
       "      <td>0</td>\n",
       "      <td>0</td>\n",
       "      <td>0</td>\n",
       "    </tr>\n",
       "    <tr>\n",
       "      <th>1</th>\n",
       "      <td>1955</td>\n",
       "      <td>7</td>\n",
       "      <td>2012</td>\n",
       "      <td>0</td>\n",
       "      <td>1</td>\n",
       "      <td>0</td>\n",
       "      <td>1</td>\n",
       "      <td>0</td>\n",
       "      <td>0</td>\n",
       "      <td>0</td>\n",
       "      <td>...</td>\n",
       "      <td>0</td>\n",
       "      <td>0</td>\n",
       "      <td>0</td>\n",
       "      <td>0</td>\n",
       "      <td>0</td>\n",
       "      <td>0</td>\n",
       "      <td>0</td>\n",
       "      <td>0</td>\n",
       "      <td>0</td>\n",
       "      <td>0</td>\n",
       "    </tr>\n",
       "    <tr>\n",
       "      <th>2</th>\n",
       "      <td>2350</td>\n",
       "      <td>6</td>\n",
       "      <td>2012</td>\n",
       "      <td>0</td>\n",
       "      <td>1</td>\n",
       "      <td>0</td>\n",
       "      <td>1</td>\n",
       "      <td>0</td>\n",
       "      <td>0</td>\n",
       "      <td>0</td>\n",
       "      <td>...</td>\n",
       "      <td>0</td>\n",
       "      <td>0</td>\n",
       "      <td>0</td>\n",
       "      <td>0</td>\n",
       "      <td>0</td>\n",
       "      <td>0</td>\n",
       "      <td>0</td>\n",
       "      <td>0</td>\n",
       "      <td>0</td>\n",
       "      <td>0</td>\n",
       "    </tr>\n",
       "    <tr>\n",
       "      <th>3</th>\n",
       "      <td>630</td>\n",
       "      <td>2</td>\n",
       "      <td>2018</td>\n",
       "      <td>0</td>\n",
       "      <td>1</td>\n",
       "      <td>0</td>\n",
       "      <td>1</td>\n",
       "      <td>0</td>\n",
       "      <td>0</td>\n",
       "      <td>0</td>\n",
       "      <td>...</td>\n",
       "      <td>0</td>\n",
       "      <td>0</td>\n",
       "      <td>0</td>\n",
       "      <td>0</td>\n",
       "      <td>0</td>\n",
       "      <td>0</td>\n",
       "      <td>0</td>\n",
       "      <td>0</td>\n",
       "      <td>0</td>\n",
       "      <td>0</td>\n",
       "    </tr>\n",
       "    <tr>\n",
       "      <th>4</th>\n",
       "      <td>2011</td>\n",
       "      <td>6</td>\n",
       "      <td>2013</td>\n",
       "      <td>0</td>\n",
       "      <td>1</td>\n",
       "      <td>0</td>\n",
       "      <td>1</td>\n",
       "      <td>0</td>\n",
       "      <td>0</td>\n",
       "      <td>0</td>\n",
       "      <td>...</td>\n",
       "      <td>0</td>\n",
       "      <td>0</td>\n",
       "      <td>0</td>\n",
       "      <td>0</td>\n",
       "      <td>0</td>\n",
       "      <td>0</td>\n",
       "      <td>0</td>\n",
       "      <td>0</td>\n",
       "      <td>0</td>\n",
       "      <td>0</td>\n",
       "    </tr>\n",
       "  </tbody>\n",
       "</table>\n",
       "<p>5 rows × 169 columns</p>\n",
       "</div>"
      ],
      "text/plain": [
       "   collision_time  day_of_week  vehicle_year  severe_injury  \\\n",
       "0            1955            7          2012              0   \n",
       "1            1955            7          2012              0   \n",
       "2            2350            6          2012              0   \n",
       "3             630            2          2018              0   \n",
       "4            2011            6          2013              0   \n",
       "\n",
       "   victim_seating_postion  victim_ejected  weather_1_A  weather_1_B  \\\n",
       "0                       3               0            1            0   \n",
       "1                       1               0            1            0   \n",
       "2                       1               0            1            0   \n",
       "3                       1               0            1            0   \n",
       "4                       1               0            1            0   \n",
       "\n",
       "   weather_1_C  weather_1_D  ...  safety_equip_used_PQ  safety_equip_used_PR  \\\n",
       "0            0            0  ...                     0                     0   \n",
       "1            0            0  ...                     0                     0   \n",
       "2            0            0  ...                     0                     0   \n",
       "3            0            0  ...                     0                     0   \n",
       "4            0            0  ...                     0                     0   \n",
       "\n",
       "   safety_equip_used_PS  safety_equip_used_PT  safety_equip_used_PU  \\\n",
       "0                     0                     0                     0   \n",
       "1                     0                     0                     0   \n",
       "2                     0                     0                     0   \n",
       "3                     0                     0                     0   \n",
       "4                     0                     0                     0   \n",
       "\n",
       "   safety_equip_used_PV  safety_equip_used_PW  safety_equip_used_PY  \\\n",
       "0                     0                     0                     0   \n",
       "1                     0                     0                     0   \n",
       "2                     0                     0                     0   \n",
       "3                     0                     0                     0   \n",
       "4                     0                     0                     0   \n",
       "\n",
       "   safety_equip_used_QR  safety_equip_used_QY  \n",
       "0                     0                     0  \n",
       "1                     0                     0  \n",
       "2                     0                     0  \n",
       "3                     0                     0  \n",
       "4                     0                     0  \n",
       "\n",
       "[5 rows x 169 columns]"
      ]
     },
     "execution_count": 23,
     "metadata": {},
     "output_type": "execute_result"
    }
   ],
   "source": [
    "# Convert strings to numeric values\n",
    "from sklearn.preprocessing import LabelEncoder\n",
    "ml_encoded = pd.get_dummies(ml_df, columns=[\"weather_1\", \"type_of_collision\", \n",
    "                                            \"party_soberiety\", \"move_pre_acc\", \n",
    "                                             \"road_surface\", \"road_cond_1\", \n",
    "                                            \"lighting\", \"safety_equip_used\", ])\n",
    "ml_encoded.head()"
   ]
  },
  {
   "cell_type": "code",
   "execution_count": 24,
   "id": "71de31a0-1401-4346-86db-82c664ec2a40",
   "metadata": {},
   "outputs": [],
   "source": [
    "# Create our features\n",
    "X = ml_encoded.copy()\n",
    "X = X.drop(columns=\"severe_injury\")\n",
    "X.head()\n",
    "\n",
    "# Create our target\n",
    "y = ml_encoded[\"severe_injury\"]"
   ]
  },
  {
   "cell_type": "code",
   "execution_count": 25,
   "id": "d9894e93-67ff-46c1-be9b-4294aa872b11",
   "metadata": {},
   "outputs": [
    {
     "data": {
      "text/plain": [
       "0    168410\n",
       "1      3942\n",
       "Name: severe_injury, dtype: int64"
      ]
     },
     "execution_count": 25,
     "metadata": {},
     "output_type": "execute_result"
    }
   ],
   "source": [
    "# Check the balance of our target values\n",
    "y.value_counts()"
   ]
  },
  {
   "cell_type": "code",
   "execution_count": 26,
   "id": "22fa4e7d-3669-4038-a1b8-3d51e6a93936",
   "metadata": {},
   "outputs": [
    {
     "name": "stdout",
     "output_type": "stream",
     "text": [
      "Training Set Counter({0: 126321, 1: 2943})\n",
      "Testing Set Counter({0: 42089, 1: 999})\n"
     ]
    }
   ],
   "source": [
    "# Create training and testing sets\n",
    "from sklearn.model_selection import train_test_split\n",
    "from sklearn.preprocessing import StandardScaler\n",
    "\n",
    "X_train, X_test, y_train, y_test = train_test_split(X, y, random_state=1)\n",
    "\n",
    "# Determine the shape of our training and testing sets.\n",
    "print(f\"Training Set\", Counter(y_train))\n",
    "print(f\"Testing Set\", Counter(y_test))"
   ]
  },
  {
   "cell_type": "code",
   "execution_count": 27,
   "id": "d18a8b97-f75b-4a43-800b-cfc099ef9b60",
   "metadata": {},
   "outputs": [
    {
     "data": {
      "text/plain": [
       "Counter({0: 126321, 1: 126321})"
      ]
     },
     "execution_count": 27,
     "metadata": {},
     "output_type": "execute_result"
    }
   ],
   "source": [
    "# Resample the training data with the RandomOversampler\n",
    "from imblearn.over_sampling import RandomOverSampler\n",
    "ros = RandomOverSampler(random_state=1)\n",
    "X_resampled, y_resampled = ros.fit_resample(X_train, y_train)\n",
    "Counter(y_resampled)"
   ]
  },
  {
   "cell_type": "code",
   "execution_count": 28,
   "id": "bec3bef8-f5e4-4abd-80f1-6a419305105e",
   "metadata": {},
   "outputs": [
    {
     "data": {
      "text/plain": [
       "LogisticRegression(random_state=1)"
      ]
     },
     "execution_count": 28,
     "metadata": {},
     "output_type": "execute_result"
    }
   ],
   "source": [
    "# Train the Logistic Regression model using the resampled data\n",
    "from sklearn.linear_model import LogisticRegression\n",
    "\n",
    "model = LogisticRegression(solver='lbfgs', random_state=1)\n",
    "model.fit(X_resampled, y_resampled)"
   ]
  },
  {
   "cell_type": "code",
   "execution_count": 29,
   "id": "327c87bc-512b-465a-aac4-b4aacc245933",
   "metadata": {},
   "outputs": [
    {
     "name": "stdout",
     "output_type": "stream",
     "text": [
      "Training Score: 0.785740809506127\n",
      "Testing Score: 0.7881080579279613\n"
     ]
    }
   ],
   "source": [
    "print(f'Training Score: {model.score(X_train, y_train)}')\n",
    "print(f'Testing Score: {model.score(X_test, y_test)}')"
   ]
  },
  {
   "cell_type": "code",
   "execution_count": 30,
   "id": "e8e4c74c-4e56-46b4-b6f6-4a6eb3b5005a",
   "metadata": {},
   "outputs": [
    {
     "data": {
      "text/plain": [
       "0.7503279135059411"
      ]
     },
     "execution_count": 30,
     "metadata": {},
     "output_type": "execute_result"
    }
   ],
   "source": [
    "# Calculated the balanced accuracy score\n",
    "from sklearn.metrics import balanced_accuracy_score\n",
    "y_pred = model.predict(X_test)\n",
    "balanced_accuracy_score(y_test, y_pred)"
   ]
  },
  {
   "cell_type": "code",
   "execution_count": 31,
   "id": "2fed8e17-4c77-4df8-b847-c6bd70d62ac8",
   "metadata": {},
   "outputs": [
    {
     "data": {
      "text/html": [
       "<div>\n",
       "<style scoped>\n",
       "    .dataframe tbody tr th:only-of-type {\n",
       "        vertical-align: middle;\n",
       "    }\n",
       "\n",
       "    .dataframe tbody tr th {\n",
       "        vertical-align: top;\n",
       "    }\n",
       "\n",
       "    .dataframe thead th {\n",
       "        text-align: right;\n",
       "    }\n",
       "</style>\n",
       "<table border=\"1\" class=\"dataframe\">\n",
       "  <thead>\n",
       "    <tr style=\"text-align: right;\">\n",
       "      <th></th>\n",
       "      <th>Predicted Minor/No Injuries</th>\n",
       "      <th>PredictedSevere/Fatality</th>\n",
       "    </tr>\n",
       "  </thead>\n",
       "  <tbody>\n",
       "    <tr>\n",
       "      <th>Actual Minor/No Injuries</th>\n",
       "      <td>33248</td>\n",
       "      <td>8841</td>\n",
       "    </tr>\n",
       "    <tr>\n",
       "      <th>Actual Severe/Fatality</th>\n",
       "      <td>289</td>\n",
       "      <td>710</td>\n",
       "    </tr>\n",
       "  </tbody>\n",
       "</table>\n",
       "</div>"
      ],
      "text/plain": [
       "                          Predicted Minor/No Injuries  \\\n",
       "Actual Minor/No Injuries                        33248   \n",
       "Actual Severe/Fatality                            289   \n",
       "\n",
       "                          PredictedSevere/Fatality  \n",
       "Actual Minor/No Injuries                      8841  \n",
       "Actual Severe/Fatality                         710  "
      ]
     },
     "execution_count": 31,
     "metadata": {},
     "output_type": "execute_result"
    }
   ],
   "source": [
    "# Display the confusion matrix\n",
    "from sklearn.metrics import confusion_matrix\n",
    "\n",
    "cm = confusion_matrix(y_test, y_pred)\n",
    "\n",
    "cm_df = pd.DataFrame(\n",
    "    cm, index=[\"Actual Minor/No Injuries\", \"Actual Severe/Fatality\"], columns=[\"Predicted Minor/No Injuries\", \"PredictedSevere/Fatality\"])\n",
    "\n",
    "cm_df"
   ]
  },
  {
   "cell_type": "code",
   "execution_count": 32,
   "id": "5b471c3a-4ea9-497b-ad7f-15fa31363e8f",
   "metadata": {},
   "outputs": [
    {
     "data": {
      "text/plain": [
       "Counter({0: 126321, 1: 126321})"
      ]
     },
     "execution_count": 32,
     "metadata": {},
     "output_type": "execute_result"
    }
   ],
   "source": [
    "# Resample the training data with SMOTE\n",
    "from imblearn.over_sampling import SMOTE\n",
    "X_resampled, y_resampled = SMOTE(random_state=1, sampling_strategy='auto').fit_resample(X_train, y_train)\n",
    "\n",
    "Counter(y_resampled)"
   ]
  },
  {
   "cell_type": "code",
   "execution_count": 33,
   "id": "9e91c4f8-9953-4962-af4c-ba116080223e",
   "metadata": {},
   "outputs": [
    {
     "data": {
      "text/plain": [
       "LogisticRegression(random_state=1)"
      ]
     },
     "execution_count": 33,
     "metadata": {},
     "output_type": "execute_result"
    }
   ],
   "source": [
    "# Train the Logistic Regression model using the resampled data\n",
    "model = LogisticRegression(solver='lbfgs', random_state=1)\n",
    "model.fit(X_resampled, y_resampled)"
   ]
  },
  {
   "cell_type": "code",
   "execution_count": 34,
   "id": "8ce51a41-2c0a-4009-8b1c-fe9b51f071b0",
   "metadata": {},
   "outputs": [
    {
     "name": "stdout",
     "output_type": "stream",
     "text": [
      "Training Score: 0.903027911870281\n",
      "Testing Score: 0.9031748978834014\n"
     ]
    }
   ],
   "source": [
    "print(f'Training Score: {model.score(X_train, y_train)}')\n",
    "print(f'Testing Score: {model.score(X_test, y_test)}')"
   ]
  },
  {
   "cell_type": "code",
   "execution_count": 35,
   "id": "c9d63b1f-8d4e-4b32-aaa0-1cfb9d829efa",
   "metadata": {},
   "outputs": [
    {
     "data": {
      "text/plain": [
       "0.678765129738068"
      ]
     },
     "execution_count": 35,
     "metadata": {},
     "output_type": "execute_result"
    }
   ],
   "source": [
    "# Calculated the balanced accuracy score\n",
    "y_pred = model.predict(X_test)\n",
    "balanced_accuracy_score(y_test, y_pred)"
   ]
  },
  {
   "cell_type": "code",
   "execution_count": 36,
   "id": "7e8d005b-5a4d-45e7-bfa2-132ff15a86a1",
   "metadata": {},
   "outputs": [
    {
     "data": {
      "text/html": [
       "<div>\n",
       "<style scoped>\n",
       "    .dataframe tbody tr th:only-of-type {\n",
       "        vertical-align: middle;\n",
       "    }\n",
       "\n",
       "    .dataframe tbody tr th {\n",
       "        vertical-align: top;\n",
       "    }\n",
       "\n",
       "    .dataframe thead th {\n",
       "        text-align: right;\n",
       "    }\n",
       "</style>\n",
       "<table border=\"1\" class=\"dataframe\">\n",
       "  <thead>\n",
       "    <tr style=\"text-align: right;\">\n",
       "      <th></th>\n",
       "      <th>Predicted Minor/No Injuries</th>\n",
       "      <th>PredictedSevere/Fatality</th>\n",
       "    </tr>\n",
       "  </thead>\n",
       "  <tbody>\n",
       "    <tr>\n",
       "      <th>Actual Minor/No Injuries</th>\n",
       "      <td>38473</td>\n",
       "      <td>3616</td>\n",
       "    </tr>\n",
       "    <tr>\n",
       "      <th>Actual Severe/Fatality</th>\n",
       "      <td>556</td>\n",
       "      <td>443</td>\n",
       "    </tr>\n",
       "  </tbody>\n",
       "</table>\n",
       "</div>"
      ],
      "text/plain": [
       "                          Predicted Minor/No Injuries  \\\n",
       "Actual Minor/No Injuries                        38473   \n",
       "Actual Severe/Fatality                            556   \n",
       "\n",
       "                          PredictedSevere/Fatality  \n",
       "Actual Minor/No Injuries                      3616  \n",
       "Actual Severe/Fatality                         443  "
      ]
     },
     "execution_count": 36,
     "metadata": {},
     "output_type": "execute_result"
    }
   ],
   "source": [
    "# Display the confusion matrix\n",
    "cm = confusion_matrix(y_test, y_pred)\n",
    "cm_df = pd.DataFrame(\n",
    "    cm, index=[\"Actual Minor/No Injuries\", \"Actual Severe/Fatality\"], columns=[\"Predicted Minor/No Injuries\", \"PredictedSevere/Fatality\"])\n",
    "\n",
    "cm_df"
   ]
  },
  {
   "cell_type": "code",
   "execution_count": 37,
   "id": "829c7057-cb25-4d42-bd9b-d1d18de057b1",
   "metadata": {},
   "outputs": [
    {
     "name": "stdout",
     "output_type": "stream",
     "text": [
      "                   pre       rec       spe        f1       geo       iba       sup\n",
      "\n",
      "          0       0.99      0.91      0.44      0.95      0.64      0.42     42089\n",
      "          1       0.11      0.44      0.91      0.18      0.64      0.39       999\n",
      "\n",
      "avg / total       0.97      0.90      0.45      0.93      0.64      0.42     43088\n",
      "\n"
     ]
    }
   ],
   "source": [
    "# Print the imbalanced classification report\n",
    "from imblearn.metrics import classification_report_imbalanced\n",
    "print(classification_report_imbalanced(y_test, y_pred))"
   ]
  },
  {
   "cell_type": "code",
   "execution_count": 38,
   "id": "2a6ddd3e-df54-496e-9ed2-84765dd3bf94",
   "metadata": {},
   "outputs": [
    {
     "data": {
      "text/plain": [
       "Counter({0: 103515, 1: 125071})"
      ]
     },
     "execution_count": 38,
     "metadata": {},
     "output_type": "execute_result"
    }
   ],
   "source": [
    "# Resample the training data with SMOTEENN\n",
    "# Warning: This is a large dataset, and this step may take some time to complete\n",
    "from imblearn.combine import SMOTEENN\n",
    "\n",
    "smote_enn = SMOTEENN(random_state=1)\n",
    "X_resampled, y_resampled = smote_enn.fit_resample(X_train, y_train)\n",
    "Counter(y_resampled)"
   ]
  },
  {
   "cell_type": "code",
   "execution_count": 39,
   "id": "a6df3bbd-c15e-48fe-92f5-5676694f53b5",
   "metadata": {},
   "outputs": [
    {
     "data": {
      "text/plain": [
       "LogisticRegression(random_state=1)"
      ]
     },
     "execution_count": 39,
     "metadata": {},
     "output_type": "execute_result"
    }
   ],
   "source": [
    "# Train the Logistic Regression model using the resampled data\n",
    "model = LogisticRegression(solver='lbfgs', random_state=1)\n",
    "model.fit(X_resampled, y_resampled)"
   ]
  },
  {
   "cell_type": "code",
   "execution_count": 40,
   "id": "29b15fcd-0f0e-4a5d-8b54-6b106310e632",
   "metadata": {},
   "outputs": [
    {
     "data": {
      "text/plain": [
       "0.7011152971498905"
      ]
     },
     "execution_count": 40,
     "metadata": {},
     "output_type": "execute_result"
    }
   ],
   "source": [
    "# Calculated the balanced accuracy score\n",
    "y_pred = model.predict(X_test)\n",
    "balanced_accuracy_score(y_test, y_pred)"
   ]
  },
  {
   "cell_type": "code",
   "execution_count": 41,
   "id": "97279359-0c8b-4b90-8a8f-f4d4457f0e9b",
   "metadata": {},
   "outputs": [
    {
     "data": {
      "text/html": [
       "<div>\n",
       "<style scoped>\n",
       "    .dataframe tbody tr th:only-of-type {\n",
       "        vertical-align: middle;\n",
       "    }\n",
       "\n",
       "    .dataframe tbody tr th {\n",
       "        vertical-align: top;\n",
       "    }\n",
       "\n",
       "    .dataframe thead th {\n",
       "        text-align: right;\n",
       "    }\n",
       "</style>\n",
       "<table border=\"1\" class=\"dataframe\">\n",
       "  <thead>\n",
       "    <tr style=\"text-align: right;\">\n",
       "      <th></th>\n",
       "      <th>Predicted High Risk</th>\n",
       "      <th>Predicted Low Risk</th>\n",
       "    </tr>\n",
       "  </thead>\n",
       "  <tbody>\n",
       "    <tr>\n",
       "      <th>Actual High Risk</th>\n",
       "      <td>37658</td>\n",
       "      <td>4431</td>\n",
       "    </tr>\n",
       "    <tr>\n",
       "      <th>Actual Low Risk</th>\n",
       "      <td>492</td>\n",
       "      <td>507</td>\n",
       "    </tr>\n",
       "  </tbody>\n",
       "</table>\n",
       "</div>"
      ],
      "text/plain": [
       "                  Predicted High Risk  Predicted Low Risk\n",
       "Actual High Risk                37658                4431\n",
       "Actual Low Risk                   492                 507"
      ]
     },
     "execution_count": 41,
     "metadata": {},
     "output_type": "execute_result"
    }
   ],
   "source": [
    "# Display the confusion matrix\n",
    "cm = confusion_matrix(y_test, y_pred)\n",
    "cm_df = pd.DataFrame(\n",
    "    cm, index=[\"Actual Minor/No Injuries\", \"Actual Severe/Fatality\"], \n",
    "    columns=[\"Predicted High Risk\", \"Predicted Low Risk\"])\n",
    "\n",
    "cm_df"
   ]
  },
  {
   "cell_type": "code",
   "execution_count": 42,
   "id": "ed86968a-c206-4117-af4d-af3060bb38fe",
   "metadata": {},
   "outputs": [
    {
     "name": "stdout",
     "output_type": "stream",
     "text": [
      "                   pre       rec       spe        f1       geo       iba       sup\n",
      "\n",
      "          0       0.99      0.89      0.51      0.94      0.67      0.47     42089\n",
      "          1       0.10      0.51      0.89      0.17      0.67      0.44       999\n",
      "\n",
      "avg / total       0.97      0.89      0.52      0.92      0.67      0.47     43088\n",
      "\n"
     ]
    }
   ],
   "source": [
    "# Print the imbalanced classification report\n",
    "print( classification_report_imbalanced(y_test, y_pred))"
   ]
  },
  {
   "cell_type": "code",
   "execution_count": 43,
   "id": "67c462d8-3eb7-4edf-9c84-1b03cded76e1",
   "metadata": {},
   "outputs": [],
   "source": [
    "# Imported sklearn and imblearn dependancies\n",
    "from sklearn.metrics import confusion_matrix, accuracy_score, classification_report, balanced_accuracy_score\n",
    "from imblearn.metrics import classification_report_imbalanced\n",
    "from sklearn.preprocessing import StandardScaler, LabelEncoder\n",
    "from sklearn.model_selection import train_test_split\n",
    "from imblearn.ensemble import BalancedRandomForestClassifier\n",
    "from sklearn.datasets import make_classification\n",
    "from sklearn.linear_model import LogisticRegression\n",
    "from sklearn import datasets\n",
    "from sklearn.tree import DecisionTreeClassifier, plot_tree\n",
    "from sklearn import tree\n",
    "from sklearn import datasets"
   ]
  },
  {
   "cell_type": "code",
   "execution_count": 44,
   "id": "b05c07e4-3951-485d-b0a5-2c69e811846a",
   "metadata": {},
   "outputs": [
    {
     "name": "stdout",
     "output_type": "stream",
     "text": [
      "(129264, 168)\n",
      "(43088, 168)\n",
      "(129264,)\n",
      "(43088,)\n"
     ]
    }
   ],
   "source": [
    "# Create training and testing sets\n",
    "from sklearn.model_selection import train_test_split\n",
    "X_train, X_test, y_train, y_test = train_test_split(X, y, random_state=1)\n",
    "\n",
    "# Creating a StandardScaler instance and fit with the training data.\n",
    "scaler = StandardScaler().fit(X_train)\n",
    "# Scale the X data\n",
    "X_train_scaler = scaler.transform(X_train)\n",
    "X_test_scaler = scaler.transform(X_test)\n",
    "\n",
    "# Determine the shape of our training and testing sets.\n",
    "print(X_train.shape)\n",
    "print(X_test.shape)\n",
    "print(y_train.shape)\n",
    "print(y_test.shape)"
   ]
  },
  {
   "cell_type": "code",
   "execution_count": 45,
   "id": "615613c8-f21c-4344-a407-572011b9e689",
   "metadata": {},
   "outputs": [
    {
     "name": "stdout",
     "output_type": "stream",
     "text": [
      "Training Score: 0.7675454883030078\n",
      "Testing Score: 0.7623700334199777\n"
     ]
    }
   ],
   "source": [
    "# Resample the training data with the BalancedRandomForestClassifier\n",
    "brf_model = BalancedRandomForestClassifier(n_estimators = 100, random_state=1)\n",
    "\n",
    "# Fitting the model\n",
    "brf_model = brf_model.fit(X_train_scaler, y_train)\n",
    "\n",
    "# View accuracy of models\n",
    "print(f'Training Score: {brf_model.score(X_train_scaler, y_train)}')\n",
    "print(f'Testing Score: {brf_model.score(X_test_scaler, y_test)}')\n",
    "\n",
    "# Make Prediction\n",
    "predictions = brf_model.predict(X_test_scaler)"
   ]
  },
  {
   "cell_type": "code",
   "execution_count": 46,
   "id": "47a1a335-c772-4451-bf12-82788273f0e0",
   "metadata": {},
   "outputs": [
    {
     "data": {
      "text/plain": [
       "0.7623700334199777"
      ]
     },
     "execution_count": 46,
     "metadata": {},
     "output_type": "execute_result"
    }
   ],
   "source": [
    "# Calculated the balanced accuracy score\n",
    "acc_score = accuracy_score(y_test, predictions)\n",
    "acc_score"
   ]
  },
  {
   "cell_type": "code",
   "execution_count": null,
   "id": "3924911a-09ff-472e-8d54-e54b929c5c3c",
   "metadata": {},
   "outputs": [],
   "source": []
  },
  {
   "cell_type": "code",
   "execution_count": 48,
   "id": "6321169e-1d23-4fd0-b781-ee5bacd2b35b",
   "metadata": {},
   "outputs": [
    {
     "data": {
      "text/html": [
       "<div>\n",
       "<style scoped>\n",
       "    .dataframe tbody tr th:only-of-type {\n",
       "        vertical-align: middle;\n",
       "    }\n",
       "\n",
       "    .dataframe tbody tr th {\n",
       "        vertical-align: top;\n",
       "    }\n",
       "\n",
       "    .dataframe thead th {\n",
       "        text-align: right;\n",
       "    }\n",
       "</style>\n",
       "<table border=\"1\" class=\"dataframe\">\n",
       "  <thead>\n",
       "    <tr style=\"text-align: right;\">\n",
       "      <th></th>\n",
       "      <th>Predicted Minor/No Injuries</th>\n",
       "      <th>Predicted Severe/Fatality</th>\n",
       "    </tr>\n",
       "  </thead>\n",
       "  <tbody>\n",
       "    <tr>\n",
       "      <th>Actual Minor/No Injuries</th>\n",
       "      <td>32064</td>\n",
       "      <td>10025</td>\n",
       "    </tr>\n",
       "    <tr>\n",
       "      <th>Actual Severe/Fatality</th>\n",
       "      <td>214</td>\n",
       "      <td>785</td>\n",
       "    </tr>\n",
       "  </tbody>\n",
       "</table>\n",
       "</div>"
      ],
      "text/plain": [
       "                          Predicted Minor/No Injuries  \\\n",
       "Actual Minor/No Injuries                        32064   \n",
       "Actual Severe/Fatality                            214   \n",
       "\n",
       "                          Predicted Severe/Fatality  \n",
       "Actual Minor/No Injuries                      10025  \n",
       "Actual Severe/Fatality                          785  "
      ]
     },
     "execution_count": 48,
     "metadata": {},
     "output_type": "execute_result"
    }
   ],
   "source": [
    "# Display the confusion matrix\n",
    "cm = confusion_matrix(y_test, predictions)\n",
    "\n",
    "# Create a DataFrame from the confusion matrix.\n",
    "cm_df = pd.DataFrame(\n",
    "    cm, index=[\"Actual Minor/No Injuries\", \"Actual Severe/Fatality\"], \n",
    "    columns=[\"Predicted Minor/No Injuries\", \"Predicted Severe/Fatality\"])\n",
    "cm_df\n"
   ]
  },
  {
   "cell_type": "code",
   "execution_count": 49,
   "id": "6a438eaa-37b8-4bbc-b7a4-814a10abe2f7",
   "metadata": {},
   "outputs": [
    {
     "name": "stdout",
     "output_type": "stream",
     "text": [
      "                   pre       rec       spe        f1       geo       iba       sup\n",
      "\n",
      "          0       0.99      0.76      0.79      0.86      0.77      0.60     42089\n",
      "          1       0.07      0.79      0.76      0.13      0.77      0.60       999\n",
      "\n",
      "avg / total       0.97      0.76      0.79      0.85      0.77      0.60     43088\n",
      "\n"
     ]
    }
   ],
   "source": [
    "# Print the imbalanced classification report\n",
    "print(classification_report_imbalanced(y_test, predictions))"
   ]
  },
  {
   "cell_type": "code",
   "execution_count": 50,
   "id": "73ba3758-f384-4999-a19b-d1dd7c8d4a5b",
   "metadata": {},
   "outputs": [],
   "source": [
    "# List the features sorted in descending order by feature importance\n",
    "importances = brf_model.feature_importances_\n"
   ]
  },
  {
   "cell_type": "code",
   "execution_count": 60,
   "id": "cb891075-4c19-47ca-bdf7-f14012457869",
   "metadata": {},
   "outputs": [
    {
     "data": {
      "text/plain": [
       "[(0.2068916562690477, 'collision_time'),\n",
       " (0.1432113911424359, 'vehicle_year'),\n",
       " (0.08517442523293275, 'day_of_week'),\n",
       " (0.06873307353487032, 'safety_equip_used_GL'),\n",
       " (0.04519701277073657, 'severe_injury'),\n",
       " (0.04305250274168358, 'type_of_collision_H'),\n",
       " (0.02995078706033371, 'type_of_collision_D'),\n",
       " (0.02971890883823271, 'safety_equip_used_GK'),\n",
       " (0.02300098558122704, 'road_cond_1_H'),\n",
       " (0.02244364982891581, 'party_soberiety_D'),\n",
       " (0.017829989732544994, 'type_of_collision_B'),\n",
       " (0.01761041722104567, 'party_soberiety_A'),\n",
       " (0.015427364407364204, 'move_pre_acc_A'),\n",
       " (0.01501252753087362, 'safety_equip_used_GY'),\n",
       " (0.013854726433928372, 'party_soberiety_H'),\n",
       " (0.013392509956405507, 'type_of_collision_C'),\n",
       " (0.012956405851616275, 'lighting_B'),\n",
       " (0.011462430085871136, 'weather_1_G'),\n",
       " (0.01020596792262132, 'victim_seating_postion'),\n",
       " (0.00959722209455348, 'move_pre_acc_Q'),\n",
       " (0.009574547464559505, 'move_pre_acc_D'),\n",
       " (0.009422038924337848, 'type_of_collision_A'),\n",
       " (0.00904889898693021, 'lighting_C'),\n",
       " (0.008128932999573048, 'victim_ejected'),\n",
       " (0.008026646630131739, 'move_pre_acc_L'),\n",
       " (0.007709684602456508, 'weather_1_A'),\n",
       " (0.00613409000119397, 'move_pre_acc_B'),\n",
       " (0.005825793809343779, 'safety_equip_used_BH'),\n",
       " (0.005627086903601772, 'type_of_collision_E'),\n",
       " (0.005461734804734708, 'move_pre_acc_G'),\n",
       " (0.00469598530246797, 'move_pre_acc_R'),\n",
       " (0.004619438071587796, 'party_soberiety_G'),\n",
       " (0.004565793038920802, 'road_surface_A'),\n",
       " (0.0044483367459344095, 'lighting_A'),\n",
       " (0.004252351713284498, 'safety_equip_used_HL'),\n",
       " (0.0041819542631110936, 'safety_equip_used_GN'),\n",
       " (0.004163509913719198, 'move_pre_acc_I'),\n",
       " (0.0037625276765237956, 'move_pre_acc_M'),\n",
       " (0.003702240083084969, 'road_cond_1_G'),\n",
       " (0.0032695652737717326, 'move_pre_acc_C'),\n",
       " (0.003101999796978278, 'safety_equip_used_MP'),\n",
       " (0.0029107023913808316, 'weather_1_B'),\n",
       " (0.002801870182012409, 'road_cond_1_C'),\n",
       " (0.0025222514479452535, 'move_pre_acc_K'),\n",
       " (0.002439656321476206, 'party_soberiety_B'),\n",
       " (0.0022964085546480946, 'party_soberiety_C'),\n",
       " (0.0019537020679570452, 'move_pre_acc_E'),\n",
       " (0.0019391352129873643, 'safety_equip_used_HN'),\n",
       " (0.0017829392874773684, 'safety_equip_used_CG'),\n",
       " (0.0016678923628548525, 'safety_equip_used_PV'),\n",
       " (0.0015027566055091284, 'type_of_collision_G'),\n",
       " (0.0014787580070036734, 'safety_equip_used_LP'),\n",
       " (0.0014650410311398071, 'safety_equip_used_BL'),\n",
       " (0.001393527317026707, 'move_pre_acc_P'),\n",
       " (0.0012013620379187472, 'type_of_collision_F'),\n",
       " (0.0011727520300981004, 'safety_equip_used_PP'),\n",
       " (0.00115102660585052, 'safety_equip_used_CL'),\n",
       " (0.0010076688480419767, 'road_cond_1_B'),\n",
       " (0.0009324805714834451, 'move_pre_acc_F'),\n",
       " (0.0008864082417810151, 'move_pre_acc_H'),\n",
       " (0.0008770943893935919, 'safety_equip_used_DY'),\n",
       " (0.0008401520938602602, 'safety_equip_used_KP'),\n",
       " (0.0007166452498119849, 'safety_equip_used_BF'),\n",
       " (0.0006383183664616733, 'safety_equip_used_CY'),\n",
       " (0.0006313496095009968, 'move_pre_acc_O'),\n",
       " (0.0005602627345425927, 'safety_equip_used_EL'),\n",
       " (0.0005428681137732774, 'road_cond_1_F'),\n",
       " (0.0005120709402334086, 'safety_equip_used_GM'),\n",
       " (0.00047354121741333203, 'safety_equip_used_AW'),\n",
       " (0.0004041633613067965, 'safety_equip_used_FG'),\n",
       " (0.00039374948700218374, 'lighting_D'),\n",
       " (0.00035693231363458935, 'safety_equip_used_MV'),\n",
       " (0.00033816005372203214, 'safety_equip_used_CN'),\n",
       " (0.0003198329624564774, 'safety_equip_used_PT'),\n",
       " (0.00029905766387711873, 'road_surface_slippery'),\n",
       " (0.0002804732444799238, 'weather_1_D'),\n",
       " (0.00025468285898872797, 'safety_equip_used_FL'),\n",
       " (0.0002539343005314493, 'safety_equip_used_PQ'),\n",
       " (0.00025290424387449187, 'safety_equip_used_NY'),\n",
       " (0.0002442290174211043, 'move_pre_acc_N'),\n",
       " (0.00024037930400384045, 'safety_equip_used_DL'),\n",
       " (0.0002244259926021819, 'weather_1_C'),\n",
       " (0.0001961533000881458, 'road_cond_1_A'),\n",
       " (0.00017900740653908396, 'safety_equip_used_BN'),\n",
       " (0.0001749941401781584, 'safety_equip_used_LR'),\n",
       " (0.00017322208685086534, 'safety_equip_used_MN'),\n",
       " (0.0001455294139133428, 'safety_equip_used_AN'),\n",
       " (0.00014321661547893335, 'safety_equip_used_PR'),\n",
       " (0.00012802158317339754, 'safety_equip_used_LN'),\n",
       " (0.00012791097105748444, 'safety_equip_used_AG'),\n",
       " (0.00012742497144279307, 'safety_equip_used_AL'),\n",
       " (0.00012558613420428938, 'road_cond_1_E'),\n",
       " (0.00011624238358714657, 'safety_equip_used_LQ'),\n",
       " (0.0001099291387515032, 'safety_equip_used_LM'),\n",
       " (9.949608490699392e-05, 'weather_1_F'),\n",
       " (9.610452214471307e-05, 'road_cond_1_D'),\n",
       " (9.091671332036563e-05, 'safety_equip_used_JQ'),\n",
       " (8.090494867896073e-05, 'safety_equip_used_GP'),\n",
       " (8.001311964902965e-05, 'safety_equip_used_NQ'),\n",
       " (7.968585573404438e-05, 'safety_equip_used_AH'),\n",
       " (7.014228091933466e-05, 'move_pre_acc_J'),\n",
       " (6.444648684910943e-05, 'safety_equip_used_DN'),\n",
       " (5.881468251521431e-05, 'safety_equip_used_LX'),\n",
       " (5.6499895942125424e-05, 'safety_equip_used_GW'),\n",
       " (5.508645332310383e-05, 'safety_equip_used_BM'),\n",
       " (5.2763441104623716e-05, 'safety_equip_used_EN'),\n",
       " (4.9979258461772665e-05, 'safety_equip_used_MT'),\n",
       " (4.663865680570171e-05, 'weather_1_E'),\n",
       " (4.6452663685797084e-05, 'safety_equip_used_PS'),\n",
       " (4.621475134507089e-05, 'safety_equip_used_LY'),\n",
       " (4.473099042720611e-05, 'safety_equip_used_BP'),\n",
       " (4.2479489002361056e-05, 'safety_equip_used_MX'),\n",
       " (3.857101833632772e-05, 'safety_equip_used_MS'),\n",
       " (3.5279216492224123e-05, 'safety_equip_used_LT'),\n",
       " (3.2950232222792734e-05, 'safety_equip_used_CD'),\n",
       " (3.1219994687751986e-05, 'safety_equip_used_MR'),\n",
       " (2.898097806023947e-05, 'safety_equip_used_FN'),\n",
       " (2.716367927894614e-05, 'safety_equip_used_FW'),\n",
       " (2.672696446950939e-05, 'safety_equip_used_FM'),\n",
       " (2.6316291598683808e-05, 'safety_equip_used_NP'),\n",
       " (2.0976200434784046e-05, 'safety_equip_used_HQ'),\n",
       " (2.073758972450027e-05, 'safety_equip_used_MQ'),\n",
       " (2.057280719453053e-05, 'safety_equip_used_PW'),\n",
       " (1.8926836917203926e-05, 'safety_equip_used_CU'),\n",
       " (1.8509254891667464e-05, 'safety_equip_used_BG'),\n",
       " (1.74463312177662e-05, 'safety_equip_used_PU'),\n",
       " (1.644322559133921e-05, 'safety_equip_used_JL'),\n",
       " (1.628628842372897e-05, 'safety_equip_used_DM'),\n",
       " (1.5469064605817787e-05, 'safety_equip_used_LS'),\n",
       " (9.483515464548043e-06, 'safety_equip_used_GT'),\n",
       " (8.357915944780342e-06, 'safety_equip_used_CM'),\n",
       " (6.702968873086815e-06, 'safety_equip_used_GU'),\n",
       " (6.1915195351016085e-06, 'lighting_E'),\n",
       " (5.750668215029867e-06, 'safety_equip_used_AM'),\n",
       " (3.903420276924678e-06, 'safety_equip_used_MU'),\n",
       " (3.562513539499227e-06, 'safety_equip_used_QR'),\n",
       " (3.3721751403380145e-06, 'safety_equip_used_AQ'),\n",
       " (3.3010488455731087e-06, 'safety_equip_used_EM'),\n",
       " (3.052888599938645e-06, 'safety_equip_used_BC'),\n",
       " (2.5644175368019467e-06, 'safety_equip_used_BS'),\n",
       " (2.549155772964432e-06, 'safety_equip_used_MW'),\n",
       " (1.829476131780693e-06, 'safety_equip_used_GQ'),\n",
       " (1.700383564470329e-06, 'safety_equip_used_KL'),\n",
       " (1.6248005235947545e-06, 'safety_equip_used_CP'),\n",
       " (1.55343475085794e-06, 'safety_equip_used_AB'),\n",
       " (1.1859238028591191e-06, 'safety_equip_used_EP'),\n",
       " (8.319070416345926e-07, 'safety_equip_used_AR'),\n",
       " (7.40703218874401e-07, 'safety_equip_used_AC'),\n",
       " (6.47748700365031e-07, 'safety_equip_used_AP'),\n",
       " (4.297234699400587e-07, 'safety_equip_used_FP'),\n",
       " (2.818919415918028e-07, 'safety_equip_used_JM'),\n",
       " (1.7476955704117928e-07, 'safety_equip_used_PY'),\n",
       " (1.4812962068279375e-07, 'safety_equip_used_LU'),\n",
       " (1.2086714311236076e-07, 'safety_equip_used_HM'),\n",
       " (7.573158723807565e-08, 'safety_equip_used_LV'),\n",
       " (0.0, 'safety_equip_used_MY'),\n",
       " (0.0, 'safety_equip_used_LW'),\n",
       " (0.0, 'safety_equip_used_KM'),\n",
       " (0.0, 'safety_equip_used_JP'),\n",
       " (0.0, 'safety_equip_used_HP'),\n",
       " (0.0, 'safety_equip_used_GR'),\n",
       " (0.0, 'safety_equip_used_GH'),\n",
       " (0.0, 'safety_equip_used_FQ'),\n",
       " (0.0, 'safety_equip_used_EQ'),\n",
       " (0.0, 'safety_equip_used_DP'),\n",
       " (0.0, 'safety_equip_used_BQ'),\n",
       " (0.0, 'safety_equip_used_BB'),\n",
       " (0.0, 'safety_equip_used_AV')]"
      ]
     },
     "execution_count": 60,
     "metadata": {},
     "output_type": "execute_result"
    }
   ],
   "source": [
    "# Rank feature importances and display results\n",
    "\n",
    "ranked_importances = sorted(zip(brf_model.feature_importances_, ml_encoded.columns), reverse=True)\n",
    "ranked_importances"
   ]
  },
  {
   "cell_type": "code",
   "execution_count": 64,
   "id": "b9323809-af63-4d08-a2c2-1cf67748b4de",
   "metadata": {},
   "outputs": [
    {
     "data": {
      "text/html": [
       "<div>\n",
       "<style scoped>\n",
       "    .dataframe tbody tr th:only-of-type {\n",
       "        vertical-align: middle;\n",
       "    }\n",
       "\n",
       "    .dataframe tbody tr th {\n",
       "        vertical-align: top;\n",
       "    }\n",
       "\n",
       "    .dataframe thead th {\n",
       "        text-align: right;\n",
       "    }\n",
       "</style>\n",
       "<table border=\"1\" class=\"dataframe\">\n",
       "  <thead>\n",
       "    <tr style=\"text-align: right;\">\n",
       "      <th></th>\n",
       "      <th>Importance</th>\n",
       "      <th>Feature</th>\n",
       "    </tr>\n",
       "  </thead>\n",
       "  <tbody>\n",
       "    <tr>\n",
       "      <th>0</th>\n",
       "      <td>0.206892</td>\n",
       "      <td>collision_time</td>\n",
       "    </tr>\n",
       "    <tr>\n",
       "      <th>1</th>\n",
       "      <td>0.143211</td>\n",
       "      <td>vehicle_year</td>\n",
       "    </tr>\n",
       "    <tr>\n",
       "      <th>2</th>\n",
       "      <td>0.085174</td>\n",
       "      <td>day_of_week</td>\n",
       "    </tr>\n",
       "    <tr>\n",
       "      <th>3</th>\n",
       "      <td>0.068733</td>\n",
       "      <td>safety_equip_used_GL</td>\n",
       "    </tr>\n",
       "    <tr>\n",
       "      <th>4</th>\n",
       "      <td>0.045197</td>\n",
       "      <td>severe_injury</td>\n",
       "    </tr>\n",
       "    <tr>\n",
       "      <th>...</th>\n",
       "      <td>...</td>\n",
       "      <td>...</td>\n",
       "    </tr>\n",
       "    <tr>\n",
       "      <th>163</th>\n",
       "      <td>0.000000</td>\n",
       "      <td>safety_equip_used_EQ</td>\n",
       "    </tr>\n",
       "    <tr>\n",
       "      <th>164</th>\n",
       "      <td>0.000000</td>\n",
       "      <td>safety_equip_used_DP</td>\n",
       "    </tr>\n",
       "    <tr>\n",
       "      <th>165</th>\n",
       "      <td>0.000000</td>\n",
       "      <td>safety_equip_used_BQ</td>\n",
       "    </tr>\n",
       "    <tr>\n",
       "      <th>166</th>\n",
       "      <td>0.000000</td>\n",
       "      <td>safety_equip_used_BB</td>\n",
       "    </tr>\n",
       "    <tr>\n",
       "      <th>167</th>\n",
       "      <td>0.000000</td>\n",
       "      <td>safety_equip_used_AV</td>\n",
       "    </tr>\n",
       "  </tbody>\n",
       "</table>\n",
       "<p>168 rows × 2 columns</p>\n",
       "</div>"
      ],
      "text/plain": [
       "     Importance               Feature\n",
       "0      0.206892        collision_time\n",
       "1      0.143211          vehicle_year\n",
       "2      0.085174           day_of_week\n",
       "3      0.068733  safety_equip_used_GL\n",
       "4      0.045197         severe_injury\n",
       "..          ...                   ...\n",
       "163    0.000000  safety_equip_used_EQ\n",
       "164    0.000000  safety_equip_used_DP\n",
       "165    0.000000  safety_equip_used_BQ\n",
       "166    0.000000  safety_equip_used_BB\n",
       "167    0.000000  safety_equip_used_AV\n",
       "\n",
       "[168 rows x 2 columns]"
      ]
     },
     "execution_count": 64,
     "metadata": {},
     "output_type": "execute_result"
    }
   ],
   "source": [
    "# Create dataframe containing ranked and sorted feature importances\n",
    "ranked_importances_df = pd.DataFrame(sorted(ranked_importances, reverse=True), columns=[\"Importance\", \"Feature\"])\n",
    "ranked_importances_df"
   ]
  },
  {
   "cell_type": "code",
   "execution_count": 67,
   "id": "7593313d-f7a0-4b01-97f4-0cad9c58ec21",
   "metadata": {},
   "outputs": [
    {
     "data": {
      "text/plain": [
       "<Figure size 1440x720 with 0 Axes>"
      ]
     },
     "metadata": {},
     "output_type": "display_data"
    },
    {
     "data": {
      "image/png": "[encoded data removed]",
      "text/plain": [
       "<Figure size 432x288 with 1 Axes>"
      ]
     },
     "metadata": {
      "needs_background": "light"
     },
     "output_type": "display_data"
    }
   ],
   "source": [
    "# Visualize top 10 feature importances\n",
    "top_importances_df = ranked_importances_df.head(15)\n",
    "\n",
    "plt.figure(figsize=(20,10))\n",
    "top_importances_df.plot.barh(x=\"Feature\", y=\"Importance\", align='edge', width=0.9,\n",
    "                      title=\"Top 15 Feature Importances\",\n",
    "                           ylabel=\"% Importance\")\n",
    "plt.gca().invert_yaxis()\n",
    "plt.show\n",
    "plt.savefig('topfeatureranking.png')\n"
   ]
  },
  {
   "cell_type": "code",
   "execution_count": 54,
   "id": "8b6cb934-47a3-4fd1-902d-fb691f19a202",
   "metadata": {},
   "outputs": [
    {
     "name": "stdout",
     "output_type": "stream",
     "text": [
      "100\n"
     ]
    }
   ],
   "source": [
    "# Show count of total estimators in Balanced Random Forest Classifier\n",
    "print(len(brf_model.estimators_))"
   ]
  },
  {
   "cell_type": "code",
   "execution_count": 55,
   "id": "ce3a8bb4-8702-4344-8930-5de73e3bbe2a",
   "metadata": {},
   "outputs": [
    {
     "name": "stdout",
     "output_type": "stream",
     "text": [
      "Training Score: 0.7894154598341379\n",
      "Testing Score: 0.7925640549572966\n"
     ]
    }
   ],
   "source": [
    "# Train the EasyEnsembleClassifier\n",
    "from imblearn.ensemble import EasyEnsembleClassifier, RUSBoostClassifier\n",
    "eec = EasyEnsembleClassifier(n_estimators=100, random_state=1)\n",
    "eec.fit(X_train_scaler, y_train)\n",
    "\n",
    "# View accuracy of models\n",
    "print(f'Training Score: {eec.score(X_train_scaler, y_train)}')\n",
    "print(f'Testing Score: {eec.score(X_test_scaler, y_test)}')\n",
    "\n",
    "\n",
    "predictions = eec.predict(X_test_scaler)"
   ]
  },
  {
   "cell_type": "code",
   "execution_count": 56,
   "id": "817f08a9-d787-400f-b952-d36cc71119fa",
   "metadata": {},
   "outputs": [
    {
     "data": {
      "text/plain": [
       "0.7925640549572966"
      ]
     },
     "execution_count": 56,
     "metadata": {},
     "output_type": "execute_result"
    }
   ],
   "source": [
    "# Calculated the balanced accuracy score\n",
    "acc_score = accuracy_score(y_test, predictions)\n",
    "acc_score"
   ]
  },
  {
   "cell_type": "code",
   "execution_count": 57,
   "id": "e2ff8d7b-263d-4750-9df5-07432a4317c5",
   "metadata": {},
   "outputs": [],
   "source": [
    "# Display the confusion matrix\n",
    "y_pred = eec.predict(X_test_scaler)\n",
    "cm = confusion_matrix(y_test, y_pred)"
   ]
  },
  {
   "cell_type": "code",
   "execution_count": 61,
   "id": "19106dd1-949c-42d5-a17b-062b51545201",
   "metadata": {},
   "outputs": [
    {
     "data": {
      "text/html": [
       "<div>\n",
       "<style scoped>\n",
       "    .dataframe tbody tr th:only-of-type {\n",
       "        vertical-align: middle;\n",
       "    }\n",
       "\n",
       "    .dataframe tbody tr th {\n",
       "        vertical-align: top;\n",
       "    }\n",
       "\n",
       "    .dataframe thead th {\n",
       "        text-align: right;\n",
       "    }\n",
       "</style>\n",
       "<table border=\"1\" class=\"dataframe\">\n",
       "  <thead>\n",
       "    <tr style=\"text-align: right;\">\n",
       "      <th></th>\n",
       "      <th>Predicted Minor/No Injuries</th>\n",
       "      <th>Predicted Severe/Fatality</th>\n",
       "    </tr>\n",
       "  </thead>\n",
       "  <tbody>\n",
       "    <tr>\n",
       "      <th>Actual Minor/No Injuries</th>\n",
       "      <td>33402</td>\n",
       "      <td>8687</td>\n",
       "    </tr>\n",
       "    <tr>\n",
       "      <th>Actual Severe/Fatality</th>\n",
       "      <td>251</td>\n",
       "      <td>748</td>\n",
       "    </tr>\n",
       "  </tbody>\n",
       "</table>\n",
       "</div>"
      ],
      "text/plain": [
       "                          Predicted Minor/No Injuries  \\\n",
       "Actual Minor/No Injuries                        33402   \n",
       "Actual Severe/Fatality                            251   \n",
       "\n",
       "                          Predicted Severe/Fatality  \n",
       "Actual Minor/No Injuries                       8687  \n",
       "Actual Severe/Fatality                          748  "
      ]
     },
     "execution_count": 61,
     "metadata": {},
     "output_type": "execute_result"
    }
   ],
   "source": [
    "# Create a DataFrame from the confusion matrix.\n",
    "cm_df = pd.DataFrame(\n",
    "    cm, index=[\"Actual Minor/No Injuries\", \"Actual Severe/Fatality\"], \n",
    "    columns=[\"Predicted Minor/No Injuries\", \"Predicted Severe/Fatality\"])\n",
    "cm_df\n"
   ]
  },
  {
   "cell_type": "code",
   "execution_count": 59,
   "id": "41ae870d-764d-43ec-b8f4-cc65c9f8474f",
   "metadata": {},
   "outputs": [
    {
     "name": "stdout",
     "output_type": "stream",
     "text": [
      "                   pre       rec       spe        f1       geo       iba       sup\n",
      "\n",
      "          0       0.99      0.79      0.75      0.88      0.77      0.60     42089\n",
      "          1       0.08      0.75      0.79      0.14      0.77      0.59       999\n",
      "\n",
      "avg / total       0.97      0.79      0.75      0.86      0.77      0.60     43088\n",
      "\n"
     ]
    }
   ],
   "source": [
    "# Print the imbalanced classification report\n",
    "print(classification_report_imbalanced(y_test, predictions))"
   ]
  },
  {
   "cell_type": "code",
   "execution_count": null,
   "id": "a3ff7dd0-ad41-4aae-bfab-b10fce755e5b",
   "metadata": {},
   "outputs": [],
   "source": []
  }
 ],
 "metadata": {
  "kernelspec": {
   "display_name": "mlenv",
   "language": "python",
   "name": "mlenv"
  },
  "language_info": {
   "codemirror_mode": {
    "name": "ipython",
    "version": 3
   },
   "file_extension": ".py",
   "mimetype": "text/x-python",
   "name": "python",
   "nbconvert_exporter": "python",
   "pygments_lexer": "ipython3",
   "version": "3.8.12"
  }
 },
 "nbformat": 4,
 "nbformat_minor": 5
}
