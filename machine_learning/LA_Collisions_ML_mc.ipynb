{
 "cells": [
  {
   "cell_type": "code",
   "execution_count": 115,
   "id": "9cfae6b0-1e2b-408b-9253-c1c79b5356ca",
   "metadata": {},
   "outputs": [],
   "source": [
    "import warnings\n",
    "warnings.filterwarnings('ignore')"
   ]
  },
  {
   "cell_type": "code",
   "execution_count": 116,
   "id": "f8f0c16c-4226-4cbf-b452-aa5d9219af97",
   "metadata": {},
   "outputs": [],
   "source": [
    "import numpy as np\n",
    "import pandas as pd\n",
    "from pathlib import Path\n",
    "from collections import Counter"
   ]
  },
  {
   "cell_type": "markdown",
   "id": "8a68441d-f2ab-4a8c-a8ad-c1540e521c98",
   "metadata": {},
   "source": [
    "# Machine learning on car collision data"
   ]
  },
  {
   "cell_type": "code",
   "execution_count": 62,
   "id": "3ca26272-2c89-420d-bb74-6f62c6615b9e",
   "metadata": {},
   "outputs": [
    {
     "data": {
      "text/html": [
       "<div>\n",
       "<style scoped>\n",
       "    .dataframe tbody tr th:only-of-type {\n",
       "        vertical-align: middle;\n",
       "    }\n",
       "\n",
       "    .dataframe tbody tr th {\n",
       "        vertical-align: top;\n",
       "    }\n",
       "\n",
       "    .dataframe thead th {\n",
       "        text-align: right;\n",
       "    }\n",
       "</style>\n",
       "<table border=\"1\" class=\"dataframe\">\n",
       "  <thead>\n",
       "    <tr style=\"text-align: right;\">\n",
       "      <th></th>\n",
       "      <th>case_id</th>\n",
       "      <th>party_number</th>\n",
       "      <th>victim_number</th>\n",
       "      <th>accident_year</th>\n",
       "      <th>collision_time</th>\n",
       "      <th>day_of_week</th>\n",
       "      <th>weather_1</th>\n",
       "      <th>primary_coll_factor</th>\n",
       "      <th>type_of_collision</th>\n",
       "      <th>at_fault</th>\n",
       "      <th>...</th>\n",
       "      <th>road_cond_1</th>\n",
       "      <th>lighting</th>\n",
       "      <th>point_x</th>\n",
       "      <th>point_y</th>\n",
       "      <th>victim_age</th>\n",
       "      <th>severe_injury</th>\n",
       "      <th>safety_equip_used</th>\n",
       "      <th>victim_sex</th>\n",
       "      <th>victim_seating_postion</th>\n",
       "      <th>victim_ejected</th>\n",
       "    </tr>\n",
       "  </thead>\n",
       "  <tbody>\n",
       "    <tr>\n",
       "      <th>0</th>\n",
       "      <td>8929468</td>\n",
       "      <td>2</td>\n",
       "      <td>1</td>\n",
       "      <td>2019</td>\n",
       "      <td>605</td>\n",
       "      <td>2</td>\n",
       "      <td>A</td>\n",
       "      <td>A</td>\n",
       "      <td>A</td>\n",
       "      <td>N</td>\n",
       "      <td>...</td>\n",
       "      <td>H</td>\n",
       "      <td>B</td>\n",
       "      <td>-118.413193</td>\n",
       "      <td>34.240921</td>\n",
       "      <td>33</td>\n",
       "      <td>1</td>\n",
       "      <td>PW</td>\n",
       "      <td>M</td>\n",
       "      <td>1</td>\n",
       "      <td>1</td>\n",
       "    </tr>\n",
       "    <tr>\n",
       "      <th>1</th>\n",
       "      <td>8347190</td>\n",
       "      <td>2</td>\n",
       "      <td>1</td>\n",
       "      <td>2017</td>\n",
       "      <td>2310</td>\n",
       "      <td>3</td>\n",
       "      <td>A</td>\n",
       "      <td>A</td>\n",
       "      <td>B</td>\n",
       "      <td>N</td>\n",
       "      <td>...</td>\n",
       "      <td>H</td>\n",
       "      <td>C</td>\n",
       "      <td>-118.311476</td>\n",
       "      <td>34.094770</td>\n",
       "      <td>34</td>\n",
       "      <td>0</td>\n",
       "      <td>PW</td>\n",
       "      <td>M</td>\n",
       "      <td>2</td>\n",
       "      <td>2</td>\n",
       "    </tr>\n",
       "    <tr>\n",
       "      <th>2</th>\n",
       "      <td>8552280</td>\n",
       "      <td>1</td>\n",
       "      <td>1</td>\n",
       "      <td>2018</td>\n",
       "      <td>2108</td>\n",
       "      <td>3</td>\n",
       "      <td>A</td>\n",
       "      <td>A</td>\n",
       "      <td>E</td>\n",
       "      <td>Y</td>\n",
       "      <td>...</td>\n",
       "      <td>H</td>\n",
       "      <td>C</td>\n",
       "      <td>-117.991074</td>\n",
       "      <td>34.113041</td>\n",
       "      <td>24</td>\n",
       "      <td>1</td>\n",
       "      <td>PW</td>\n",
       "      <td>M</td>\n",
       "      <td>1</td>\n",
       "      <td>1</td>\n",
       "    </tr>\n",
       "    <tr>\n",
       "      <th>3</th>\n",
       "      <td>8484253</td>\n",
       "      <td>2</td>\n",
       "      <td>1</td>\n",
       "      <td>2017</td>\n",
       "      <td>2330</td>\n",
       "      <td>7</td>\n",
       "      <td>A</td>\n",
       "      <td>A</td>\n",
       "      <td>D</td>\n",
       "      <td>N</td>\n",
       "      <td>...</td>\n",
       "      <td>H</td>\n",
       "      <td>A</td>\n",
       "      <td>-118.309220</td>\n",
       "      <td>34.098100</td>\n",
       "      <td>24</td>\n",
       "      <td>0</td>\n",
       "      <td>PW</td>\n",
       "      <td>M</td>\n",
       "      <td>1</td>\n",
       "      <td>0</td>\n",
       "    </tr>\n",
       "    <tr>\n",
       "      <th>4</th>\n",
       "      <td>8729250</td>\n",
       "      <td>1</td>\n",
       "      <td>1</td>\n",
       "      <td>2018</td>\n",
       "      <td>450</td>\n",
       "      <td>6</td>\n",
       "      <td>A</td>\n",
       "      <td>A</td>\n",
       "      <td>F</td>\n",
       "      <td>Y</td>\n",
       "      <td>...</td>\n",
       "      <td>H</td>\n",
       "      <td>C</td>\n",
       "      <td>-118.063805</td>\n",
       "      <td>33.945267</td>\n",
       "      <td>21</td>\n",
       "      <td>1</td>\n",
       "      <td>PW</td>\n",
       "      <td>M</td>\n",
       "      <td>1</td>\n",
       "      <td>1</td>\n",
       "    </tr>\n",
       "    <tr>\n",
       "      <th>...</th>\n",
       "      <td>...</td>\n",
       "      <td>...</td>\n",
       "      <td>...</td>\n",
       "      <td>...</td>\n",
       "      <td>...</td>\n",
       "      <td>...</td>\n",
       "      <td>...</td>\n",
       "      <td>...</td>\n",
       "      <td>...</td>\n",
       "      <td>...</td>\n",
       "      <td>...</td>\n",
       "      <td>...</td>\n",
       "      <td>...</td>\n",
       "      <td>...</td>\n",
       "      <td>...</td>\n",
       "      <td>...</td>\n",
       "      <td>...</td>\n",
       "      <td>...</td>\n",
       "      <td>...</td>\n",
       "      <td>...</td>\n",
       "      <td>...</td>\n",
       "    </tr>\n",
       "    <tr>\n",
       "      <th>3141</th>\n",
       "      <td>8972992</td>\n",
       "      <td>2</td>\n",
       "      <td>1</td>\n",
       "      <td>2019</td>\n",
       "      <td>1515</td>\n",
       "      <td>3</td>\n",
       "      <td>A</td>\n",
       "      <td>A</td>\n",
       "      <td>D</td>\n",
       "      <td>N</td>\n",
       "      <td>...</td>\n",
       "      <td>H</td>\n",
       "      <td>A</td>\n",
       "      <td>-118.501144</td>\n",
       "      <td>34.203259</td>\n",
       "      <td>27</td>\n",
       "      <td>1</td>\n",
       "      <td>PW</td>\n",
       "      <td>M</td>\n",
       "      <td>1</td>\n",
       "      <td>1</td>\n",
       "    </tr>\n",
       "    <tr>\n",
       "      <th>3142</th>\n",
       "      <td>8491183</td>\n",
       "      <td>1</td>\n",
       "      <td>1</td>\n",
       "      <td>2017</td>\n",
       "      <td>1310</td>\n",
       "      <td>6</td>\n",
       "      <td>A</td>\n",
       "      <td>A</td>\n",
       "      <td>A</td>\n",
       "      <td>Y</td>\n",
       "      <td>...</td>\n",
       "      <td>H</td>\n",
       "      <td>A</td>\n",
       "      <td>-118.578760</td>\n",
       "      <td>34.274730</td>\n",
       "      <td>18</td>\n",
       "      <td>0</td>\n",
       "      <td>PW</td>\n",
       "      <td>M</td>\n",
       "      <td>1</td>\n",
       "      <td>1</td>\n",
       "    </tr>\n",
       "    <tr>\n",
       "      <th>3143</th>\n",
       "      <td>8789954</td>\n",
       "      <td>1</td>\n",
       "      <td>1</td>\n",
       "      <td>2018</td>\n",
       "      <td>1840</td>\n",
       "      <td>3</td>\n",
       "      <td>A</td>\n",
       "      <td>A</td>\n",
       "      <td>D</td>\n",
       "      <td>Y</td>\n",
       "      <td>...</td>\n",
       "      <td>H</td>\n",
       "      <td>C</td>\n",
       "      <td>-118.518547</td>\n",
       "      <td>34.162418</td>\n",
       "      <td>30</td>\n",
       "      <td>0</td>\n",
       "      <td>PW</td>\n",
       "      <td>M</td>\n",
       "      <td>1</td>\n",
       "      <td>1</td>\n",
       "    </tr>\n",
       "    <tr>\n",
       "      <th>3144</th>\n",
       "      <td>8789954</td>\n",
       "      <td>1</td>\n",
       "      <td>2</td>\n",
       "      <td>2018</td>\n",
       "      <td>1840</td>\n",
       "      <td>3</td>\n",
       "      <td>A</td>\n",
       "      <td>A</td>\n",
       "      <td>D</td>\n",
       "      <td>Y</td>\n",
       "      <td>...</td>\n",
       "      <td>H</td>\n",
       "      <td>C</td>\n",
       "      <td>-118.518547</td>\n",
       "      <td>34.162418</td>\n",
       "      <td>12</td>\n",
       "      <td>0</td>\n",
       "      <td>PY</td>\n",
       "      <td>M</td>\n",
       "      <td>4</td>\n",
       "      <td>1</td>\n",
       "    </tr>\n",
       "    <tr>\n",
       "      <th>3145</th>\n",
       "      <td>8995032</td>\n",
       "      <td>1</td>\n",
       "      <td>1</td>\n",
       "      <td>2019</td>\n",
       "      <td>1400</td>\n",
       "      <td>1</td>\n",
       "      <td>A</td>\n",
       "      <td>A</td>\n",
       "      <td>C</td>\n",
       "      <td>Y</td>\n",
       "      <td>...</td>\n",
       "      <td>H</td>\n",
       "      <td>A</td>\n",
       "      <td>-118.309143</td>\n",
       "      <td>34.081425</td>\n",
       "      <td>26</td>\n",
       "      <td>0</td>\n",
       "      <td>PW</td>\n",
       "      <td>M</td>\n",
       "      <td>1</td>\n",
       "      <td>1</td>\n",
       "    </tr>\n",
       "  </tbody>\n",
       "</table>\n",
       "<p>3146 rows × 29 columns</p>\n",
       "</div>"
      ],
      "text/plain": [
       "      case_id  party_number  victim_number  accident_year  collision_time  \\\n",
       "0     8929468             2              1           2019             605   \n",
       "1     8347190             2              1           2017            2310   \n",
       "2     8552280             1              1           2018            2108   \n",
       "3     8484253             2              1           2017            2330   \n",
       "4     8729250             1              1           2018             450   \n",
       "...       ...           ...            ...            ...             ...   \n",
       "3141  8972992             2              1           2019            1515   \n",
       "3142  8491183             1              1           2017            1310   \n",
       "3143  8789954             1              1           2018            1840   \n",
       "3144  8789954             1              2           2018            1840   \n",
       "3145  8995032             1              1           2019            1400   \n",
       "\n",
       "      day_of_week weather_1 primary_coll_factor type_of_collision at_fault  \\\n",
       "0               2         A                   A                 A        N   \n",
       "1               3         A                   A                 B        N   \n",
       "2               3         A                   A                 E        Y   \n",
       "3               7         A                   A                 D        N   \n",
       "4               6         A                   A                 F        Y   \n",
       "...           ...       ...                 ...               ...      ...   \n",
       "3141            3         A                   A                 D        N   \n",
       "3142            6         A                   A                 A        Y   \n",
       "3143            3         A                   A                 D        Y   \n",
       "3144            3         A                   A                 D        Y   \n",
       "3145            1         A                   A                 C        Y   \n",
       "\n",
       "      ... road_cond_1 lighting     point_x    point_y  victim_age  \\\n",
       "0     ...           H        B -118.413193  34.240921          33   \n",
       "1     ...           H        C -118.311476  34.094770          34   \n",
       "2     ...           H        C -117.991074  34.113041          24   \n",
       "3     ...           H        A -118.309220  34.098100          24   \n",
       "4     ...           H        C -118.063805  33.945267          21   \n",
       "...   ...         ...      ...         ...        ...         ...   \n",
       "3141  ...           H        A -118.501144  34.203259          27   \n",
       "3142  ...           H        A -118.578760  34.274730          18   \n",
       "3143  ...           H        C -118.518547  34.162418          30   \n",
       "3144  ...           H        C -118.518547  34.162418          12   \n",
       "3145  ...           H        A -118.309143  34.081425          26   \n",
       "\n",
       "     severe_injury safety_equip_used victim_sex victim_seating_postion  \\\n",
       "0                1                PW          M                      1   \n",
       "1                0                PW          M                      2   \n",
       "2                1                PW          M                      1   \n",
       "3                0                PW          M                      1   \n",
       "4                1                PW          M                      1   \n",
       "...            ...               ...        ...                    ...   \n",
       "3141             1                PW          M                      1   \n",
       "3142             0                PW          M                      1   \n",
       "3143             0                PW          M                      1   \n",
       "3144             0                PY          M                      4   \n",
       "3145             0                PW          M                      1   \n",
       "\n",
       "     victim_ejected  \n",
       "0                 1  \n",
       "1                 2  \n",
       "2                 1  \n",
       "3                 0  \n",
       "4                 1  \n",
       "...             ...  \n",
       "3141              1  \n",
       "3142              1  \n",
       "3143              1  \n",
       "3144              1  \n",
       "3145              1  \n",
       "\n",
       "[3146 rows x 29 columns]"
      ]
     },
     "execution_count": 62,
     "metadata": {},
     "output_type": "execute_result"
    }
   ],
   "source": [
    "# Load the data\n",
    "file_path = Path('collision_data_ml_mc.csv')\n",
    "ml_df = pd.read_csv(file_path)\n",
    "ml_df"
   ]
  },
  {
   "cell_type": "code",
   "execution_count": 63,
   "id": "8b1293b4-7183-4783-8f8d-cf348d9b9eff",
   "metadata": {},
   "outputs": [
    {
     "data": {
      "text/html": [
       "<div>\n",
       "<style scoped>\n",
       "    .dataframe tbody tr th:only-of-type {\n",
       "        vertical-align: middle;\n",
       "    }\n",
       "\n",
       "    .dataframe tbody tr th {\n",
       "        vertical-align: top;\n",
       "    }\n",
       "\n",
       "    .dataframe thead th {\n",
       "        text-align: right;\n",
       "    }\n",
       "</style>\n",
       "<table border=\"1\" class=\"dataframe\">\n",
       "  <thead>\n",
       "    <tr style=\"text-align: right;\">\n",
       "      <th></th>\n",
       "      <th>collision_time</th>\n",
       "      <th>day_of_week</th>\n",
       "      <th>weather_1</th>\n",
       "      <th>type_of_collision</th>\n",
       "      <th>party_soberiety</th>\n",
       "      <th>move_pre_acc</th>\n",
       "      <th>vehicle_year</th>\n",
       "      <th>road_surface</th>\n",
       "      <th>road_cond_1</th>\n",
       "      <th>lighting</th>\n",
       "      <th>severe_injury</th>\n",
       "      <th>safety_equip_used</th>\n",
       "      <th>victim_seating_postion</th>\n",
       "      <th>victim_ejected</th>\n",
       "    </tr>\n",
       "  </thead>\n",
       "  <tbody>\n",
       "    <tr>\n",
       "      <th>0</th>\n",
       "      <td>605</td>\n",
       "      <td>2</td>\n",
       "      <td>A</td>\n",
       "      <td>A</td>\n",
       "      <td>G</td>\n",
       "      <td>B</td>\n",
       "      <td>2018</td>\n",
       "      <td>A</td>\n",
       "      <td>H</td>\n",
       "      <td>B</td>\n",
       "      <td>1</td>\n",
       "      <td>PW</td>\n",
       "      <td>1</td>\n",
       "      <td>1</td>\n",
       "    </tr>\n",
       "    <tr>\n",
       "      <th>1</th>\n",
       "      <td>2310</td>\n",
       "      <td>3</td>\n",
       "      <td>A</td>\n",
       "      <td>B</td>\n",
       "      <td>C</td>\n",
       "      <td>B</td>\n",
       "      <td>2011</td>\n",
       "      <td>A</td>\n",
       "      <td>H</td>\n",
       "      <td>C</td>\n",
       "      <td>0</td>\n",
       "      <td>PW</td>\n",
       "      <td>2</td>\n",
       "      <td>2</td>\n",
       "    </tr>\n",
       "    <tr>\n",
       "      <th>2</th>\n",
       "      <td>2108</td>\n",
       "      <td>3</td>\n",
       "      <td>A</td>\n",
       "      <td>E</td>\n",
       "      <td>A</td>\n",
       "      <td>B</td>\n",
       "      <td>2005</td>\n",
       "      <td>A</td>\n",
       "      <td>H</td>\n",
       "      <td>C</td>\n",
       "      <td>1</td>\n",
       "      <td>PW</td>\n",
       "      <td>1</td>\n",
       "      <td>1</td>\n",
       "    </tr>\n",
       "    <tr>\n",
       "      <th>3</th>\n",
       "      <td>2330</td>\n",
       "      <td>7</td>\n",
       "      <td>A</td>\n",
       "      <td>D</td>\n",
       "      <td>A</td>\n",
       "      <td>B</td>\n",
       "      <td>1995</td>\n",
       "      <td>A</td>\n",
       "      <td>H</td>\n",
       "      <td>A</td>\n",
       "      <td>0</td>\n",
       "      <td>PW</td>\n",
       "      <td>1</td>\n",
       "      <td>0</td>\n",
       "    </tr>\n",
       "    <tr>\n",
       "      <th>4</th>\n",
       "      <td>450</td>\n",
       "      <td>6</td>\n",
       "      <td>A</td>\n",
       "      <td>F</td>\n",
       "      <td>A</td>\n",
       "      <td>B</td>\n",
       "      <td>2007</td>\n",
       "      <td>A</td>\n",
       "      <td>H</td>\n",
       "      <td>C</td>\n",
       "      <td>1</td>\n",
       "      <td>PW</td>\n",
       "      <td>1</td>\n",
       "      <td>1</td>\n",
       "    </tr>\n",
       "    <tr>\n",
       "      <th>...</th>\n",
       "      <td>...</td>\n",
       "      <td>...</td>\n",
       "      <td>...</td>\n",
       "      <td>...</td>\n",
       "      <td>...</td>\n",
       "      <td>...</td>\n",
       "      <td>...</td>\n",
       "      <td>...</td>\n",
       "      <td>...</td>\n",
       "      <td>...</td>\n",
       "      <td>...</td>\n",
       "      <td>...</td>\n",
       "      <td>...</td>\n",
       "      <td>...</td>\n",
       "    </tr>\n",
       "    <tr>\n",
       "      <th>3141</th>\n",
       "      <td>1515</td>\n",
       "      <td>3</td>\n",
       "      <td>A</td>\n",
       "      <td>D</td>\n",
       "      <td>A</td>\n",
       "      <td>B</td>\n",
       "      <td>2018</td>\n",
       "      <td>A</td>\n",
       "      <td>H</td>\n",
       "      <td>A</td>\n",
       "      <td>1</td>\n",
       "      <td>PW</td>\n",
       "      <td>1</td>\n",
       "      <td>1</td>\n",
       "    </tr>\n",
       "    <tr>\n",
       "      <th>3142</th>\n",
       "      <td>1310</td>\n",
       "      <td>6</td>\n",
       "      <td>A</td>\n",
       "      <td>A</td>\n",
       "      <td>H</td>\n",
       "      <td>B</td>\n",
       "      <td>2000</td>\n",
       "      <td>A</td>\n",
       "      <td>H</td>\n",
       "      <td>A</td>\n",
       "      <td>0</td>\n",
       "      <td>PW</td>\n",
       "      <td>1</td>\n",
       "      <td>1</td>\n",
       "    </tr>\n",
       "    <tr>\n",
       "      <th>3143</th>\n",
       "      <td>1840</td>\n",
       "      <td>3</td>\n",
       "      <td>A</td>\n",
       "      <td>D</td>\n",
       "      <td>A</td>\n",
       "      <td>I</td>\n",
       "      <td>2016</td>\n",
       "      <td>A</td>\n",
       "      <td>H</td>\n",
       "      <td>C</td>\n",
       "      <td>0</td>\n",
       "      <td>PW</td>\n",
       "      <td>1</td>\n",
       "      <td>1</td>\n",
       "    </tr>\n",
       "    <tr>\n",
       "      <th>3144</th>\n",
       "      <td>1840</td>\n",
       "      <td>3</td>\n",
       "      <td>A</td>\n",
       "      <td>D</td>\n",
       "      <td>A</td>\n",
       "      <td>I</td>\n",
       "      <td>2016</td>\n",
       "      <td>A</td>\n",
       "      <td>H</td>\n",
       "      <td>C</td>\n",
       "      <td>0</td>\n",
       "      <td>PY</td>\n",
       "      <td>4</td>\n",
       "      <td>1</td>\n",
       "    </tr>\n",
       "    <tr>\n",
       "      <th>3145</th>\n",
       "      <td>1400</td>\n",
       "      <td>1</td>\n",
       "      <td>A</td>\n",
       "      <td>C</td>\n",
       "      <td>A</td>\n",
       "      <td>B</td>\n",
       "      <td>2012</td>\n",
       "      <td>A</td>\n",
       "      <td>H</td>\n",
       "      <td>A</td>\n",
       "      <td>0</td>\n",
       "      <td>PW</td>\n",
       "      <td>1</td>\n",
       "      <td>1</td>\n",
       "    </tr>\n",
       "  </tbody>\n",
       "</table>\n",
       "<p>3146 rows × 14 columns</p>\n",
       "</div>"
      ],
      "text/plain": [
       "      collision_time  day_of_week weather_1 type_of_collision party_soberiety  \\\n",
       "0                605            2         A                 A               G   \n",
       "1               2310            3         A                 B               C   \n",
       "2               2108            3         A                 E               A   \n",
       "3               2330            7         A                 D               A   \n",
       "4                450            6         A                 F               A   \n",
       "...              ...          ...       ...               ...             ...   \n",
       "3141            1515            3         A                 D               A   \n",
       "3142            1310            6         A                 A               H   \n",
       "3143            1840            3         A                 D               A   \n",
       "3144            1840            3         A                 D               A   \n",
       "3145            1400            1         A                 C               A   \n",
       "\n",
       "     move_pre_acc  vehicle_year road_surface road_cond_1 lighting  \\\n",
       "0               B          2018            A           H        B   \n",
       "1               B          2011            A           H        C   \n",
       "2               B          2005            A           H        C   \n",
       "3               B          1995            A           H        A   \n",
       "4               B          2007            A           H        C   \n",
       "...           ...           ...          ...         ...      ...   \n",
       "3141            B          2018            A           H        A   \n",
       "3142            B          2000            A           H        A   \n",
       "3143            I          2016            A           H        C   \n",
       "3144            I          2016            A           H        C   \n",
       "3145            B          2012            A           H        A   \n",
       "\n",
       "      severe_injury safety_equip_used  victim_seating_postion  victim_ejected  \n",
       "0                 1                PW                       1               1  \n",
       "1                 0                PW                       2               2  \n",
       "2                 1                PW                       1               1  \n",
       "3                 0                PW                       1               0  \n",
       "4                 1                PW                       1               1  \n",
       "...             ...               ...                     ...             ...  \n",
       "3141              1                PW                       1               1  \n",
       "3142              0                PW                       1               1  \n",
       "3143              0                PW                       1               1  \n",
       "3144              0                PY                       4               1  \n",
       "3145              0                PW                       1               1  \n",
       "\n",
       "[3146 rows x 14 columns]"
      ]
     },
     "execution_count": 63,
     "metadata": {},
     "output_type": "execute_result"
    }
   ],
   "source": [
    "ml_df = ml_df.drop(columns=[\"case_id\", \"party_number\", \"victim_number\", \n",
    "                            \"accident_year\", \"vehicle_make\", \"point_x\", \n",
    "                            \"point_y\", \"stwd_vehicle_type\", \"oaf_1\", \n",
    "                            \"primary_coll_factor\", \"party_sex\", \"at_fault\",\n",
    "                           \"victim_age\", \"victim_sex\", \"race\"])\n",
    "ml_df\n",
    "                   "
   ]
  },
  {
   "cell_type": "code",
   "execution_count": 64,
   "id": "758e5953-954c-4525-8f69-88166c016dc5",
   "metadata": {},
   "outputs": [
    {
     "data": {
      "text/plain": [
       "weather_1            object\n",
       "type_of_collision    object\n",
       "party_soberiety      object\n",
       "move_pre_acc         object\n",
       "road_surface         object\n",
       "road_cond_1          object\n",
       "lighting             object\n",
       "safety_equip_used    object\n",
       "dtype: object"
      ]
     },
     "execution_count": 64,
     "metadata": {},
     "output_type": "execute_result"
    }
   ],
   "source": [
    "ml_df.dtypes[ml_df.dtypes != 'int64'][ml_df.dtypes != 'float64']"
   ]
  },
  {
   "cell_type": "code",
   "execution_count": 65,
   "id": "bafe66ca-b0a7-45e3-9462-213dbabbacc2",
   "metadata": {},
   "outputs": [
    {
     "data": {
      "text/plain": [
       "A    2908\n",
       "B     199\n",
       "C      29\n",
       "E       5\n",
       "G       3\n",
       "F       2\n",
       "Name: weather_1, dtype: int64"
      ]
     },
     "execution_count": 65,
     "metadata": {},
     "output_type": "execute_result"
    }
   ],
   "source": [
    "# Check weather data\n",
    "weather_types = ml_df[\"weather_1\"].value_counts()\n",
    "weather_types"
   ]
  },
  {
   "cell_type": "markdown",
   "id": "219f3b66-393f-44bf-9a53-12d9f71677ec",
   "metadata": {},
   "source": [
    "A - Clear\n",
    "B - Cloudy\n",
    "C - Raining\n",
    "D - Snowing\n",
    "E - Fog\n",
    "F - Other\n",
    "G - Wind"
   ]
  },
  {
   "cell_type": "code",
   "execution_count": null,
   "id": "5edd9eee-76f6-4259-9961-61792268b4d4",
   "metadata": {},
   "outputs": [],
   "source": []
  },
  {
   "cell_type": "markdown",
   "id": "24f31609-4f75-4ead-96ba-ae69fd8859cf",
   "metadata": {},
   "source": [
    "A - (Vehicle) Code Violation\n",
    "B - Other Improper Driving"
   ]
  },
  {
   "cell_type": "code",
   "execution_count": 66,
   "id": "46086bde-e146-4676-b7d3-4fe4b7cfa18b",
   "metadata": {},
   "outputs": [
    {
     "data": {
      "text/plain": [
       "D    1381\n",
       "B     575\n",
       "C     453\n",
       "A     246\n",
       "E     180\n",
       "H     154\n",
       "F     143\n",
       "G      14\n",
       "Name: type_of_collision, dtype: int64"
      ]
     },
     "execution_count": 66,
     "metadata": {},
     "output_type": "execute_result"
    }
   ],
   "source": [
    "# Check type of collision\n",
    "ml_df[\"type_of_collision\"].value_counts()"
   ]
  },
  {
   "cell_type": "markdown",
   "id": "516eaca9-9096-41c1-8c06-5528958fb257",
   "metadata": {},
   "source": [
    "A - Head-On\n",
    "B - Sideswipe\n",
    "C - Rear End\n",
    "D - Broadside\n",
    "E - Hit Object\n",
    "F - Overturned\n",
    "G - Vehicle/Pedestrian\n",
    "H - Other"
   ]
  },
  {
   "cell_type": "code",
   "execution_count": null,
   "id": "ec673cba-11c1-4381-a619-13718b0ea77e",
   "metadata": {},
   "outputs": [],
   "source": []
  },
  {
   "cell_type": "code",
   "execution_count": null,
   "id": "94972ac9-aeeb-4de1-bf0a-45a37bba96cc",
   "metadata": {},
   "outputs": [],
   "source": []
  },
  {
   "cell_type": "code",
   "execution_count": 67,
   "id": "fc74966b-6123-4faa-a4a0-80a5a6649a08",
   "metadata": {},
   "outputs": [
    {
     "data": {
      "text/plain": [
       "A    2764\n",
       "G     183\n",
       "H      80\n",
       "B      61\n",
       "D      31\n",
       "C      27\n",
       "Name: party_soberiety, dtype: int64"
      ]
     },
     "execution_count": 67,
     "metadata": {},
     "output_type": "execute_result"
    }
   ],
   "source": [
    "# Check sobriety factor\n",
    "ml_df[\"party_soberiety\"].value_counts()"
   ]
  },
  {
   "cell_type": "markdown",
   "id": "b62658e4-da8d-4a0b-97f0-92ec4faab363",
   "metadata": {},
   "source": [
    "A - Had not been Drinking\n",
    "B - Had been Drinking, Under Influence\n",
    "C - Had been Drinking, Not Under Influence\n",
    "D - Had been Drinking, Impairment Unknown\n",
    "G - Impairment Unknown\n",
    "H - Not Applicable"
   ]
  },
  {
   "cell_type": "code",
   "execution_count": null,
   "id": "9466501d-f5e5-4880-9b91-77dc22385dd5",
   "metadata": {},
   "outputs": [],
   "source": []
  },
  {
   "cell_type": "markdown",
   "id": "b5a8df96-bc39-4a27-aacb-c9b751f18c4a",
   "metadata": {},
   "source": [
    "A - Violation\n",
    "E - Vision Obscurements\n",
    "F - Inattention (beginning 1/1/01; see Inattention Item Name near end of record for A-K, P values)\n",
    "G - Stop and Go Traffic\n",
    "H - Entering/Leaving Ramp\n",
    "I - Previous Collision\n",
    "J - Unfamiliar With Road\n",
    "K - Defective Vehicle Equipment\n",
    "L - Uninvolved Vehicle\n",
    "M - Other\n",
    "N - None Apparent\n",
    "O - Runaway Vehicle\n",
    "P - Inattention, Cell Phone (1/1/01)\n",
    "Q - Inattention, Electronic Equip.(1/1/01)\n",
    "R - Inattention, Radio/CD (1/1/01)\n",
    "S - Inattention, Smoking (1/1/01)\n",
    "T - Inattention, Eating (1/1/01)\n",
    "U - Inattention, Children (1/1/01)\n",
    "V - Inattention, Animal (1/1/01)\n",
    "W - Inattention, Personal Hygiene (1/1/01)\n",
    "X - Inattention, Reading (1/1/01)\n",
    "Y - Inattention, Other (1/1/01)\n",
    "- - Not Stated"
   ]
  },
  {
   "cell_type": "code",
   "execution_count": 68,
   "id": "34d2ee41-13f7-4857-a29a-5f4cb06929b5",
   "metadata": {},
   "outputs": [
    {
     "data": {
      "text/plain": [
       "B    2444\n",
       "E     143\n",
       "A     124\n",
       "I     100\n",
       "H      61\n",
       "J      57\n",
       "D      51\n",
       "M      47\n",
       "R      38\n",
       "C      28\n",
       "N      16\n",
       "L      14\n",
       "F       9\n",
       "Q       6\n",
       "G       3\n",
       "P       3\n",
       "K       1\n",
       "O       1\n",
       "Name: move_pre_acc, dtype: int64"
      ]
     },
     "execution_count": 68,
     "metadata": {},
     "output_type": "execute_result"
    }
   ],
   "source": [
    "# Check movement pre accident factor\n",
    "move_pre_acc = ml_df[\"move_pre_acc\"].value_counts()\n",
    "move_pre_acc"
   ]
  },
  {
   "cell_type": "code",
   "execution_count": 69,
   "id": "384989ea-ecc7-4b47-b782-0bb2f6e2727b",
   "metadata": {},
   "outputs": [
    {
     "data": {
      "image/png": "[encoded data removed]",
      "text/plain": [
       "<Figure size 432x288 with 1 Axes>"
      ]
     },
     "metadata": {
      "needs_background": "light"
     },
     "output_type": "display_data"
    }
   ],
   "source": [
    "# Visualize the value counts of move_pre_acc\n",
    "plot = move_pre_acc.plot.density()\n",
    "fig = plot.get_figure()\n"
   ]
  },
  {
   "cell_type": "markdown",
   "id": "d980bcbd-9b64-4803-9772-094e704ebe9a",
   "metadata": {},
   "source": [
    "A - Stopped\n",
    "B - Proceeding Straight\n",
    "C - Ran Off Road\n",
    "D - Making Right Turn\n",
    "E - Making Left Turn\n",
    "F - Making U-Turn\n",
    "G - Backing\n",
    "H - Slowing/Stopping\n",
    "I - Passing Other Vehicle\n",
    "J - Changing Lanes\n",
    "K - Parking Maneuver\n",
    "L - Entering Traffic\n",
    "M - Other Unsafe Turning\n",
    "N - Crossed Into Opposing Lane\n",
    "O - Parked\n",
    "P - Merging\n",
    "Q - Traveling Wrong Way\n",
    "R - Other\n",
    "- - Not Stated"
   ]
  },
  {
   "cell_type": "code",
   "execution_count": null,
   "id": "043bc793-8f9c-4cfd-a839-273151e37c65",
   "metadata": {},
   "outputs": [],
   "source": []
  },
  {
   "cell_type": "code",
   "execution_count": 71,
   "id": "996794db-e8ca-45d9-b564-22e74cee0cc2",
   "metadata": {},
   "outputs": [
    {
     "data": {
      "text/plain": [
       "A    3077\n",
       "B      68\n",
       "D       1\n",
       "Name: road_surface, dtype: int64"
      ]
     },
     "execution_count": 71,
     "metadata": {},
     "output_type": "execute_result"
    }
   ],
   "source": [
    "# Check road type factor\n",
    "road_surface = ml_df[\"road_surface\"].value_counts()\n",
    "road_surface"
   ]
  },
  {
   "cell_type": "code",
   "execution_count": 72,
   "id": "7d961a17-45e2-4fae-b3ee-e6dfda4f7ce9",
   "metadata": {},
   "outputs": [
    {
     "data": {
      "text/plain": [
       "A           3077\n",
       "slippery      69\n",
       "Name: road_surface, dtype: int64"
      ]
     },
     "execution_count": 72,
     "metadata": {},
     "output_type": "execute_result"
    }
   ],
   "source": [
    "# Determine which values to replace if counts are less than ...?\n",
    "replace_road_surface = list(road_surface[road_surface < 2000].index)\n",
    "\n",
    "# Replace in dataframe\n",
    "for app in replace_road_surface:\n",
    "    ml_df.road_surface = ml_df.road_surface.replace(app,\"slippery\")\n",
    "    \n",
    "# Check to make sure binning was successful\n",
    "ml_df.road_surface.value_counts()"
   ]
  },
  {
   "cell_type": "markdown",
   "id": "6a4198ec-3394-41b5-94b6-665d48e0f96b",
   "metadata": {},
   "source": [
    "A - Dry\n",
    "B - Wet\n",
    "C - Snowy or Icy\n",
    "D - Slippery "
   ]
  },
  {
   "cell_type": "code",
   "execution_count": 73,
   "id": "200d8294-b7c8-45f4-a6fa-c811eb0d497c",
   "metadata": {},
   "outputs": [
    {
     "data": {
      "text/plain": [
       "H    3084\n",
       "D      23\n",
       "A      13\n",
       "G       9\n",
       "B       7\n",
       "C       5\n",
       "E       4\n",
       "F       1\n",
       "Name: road_cond_1, dtype: int64"
      ]
     },
     "execution_count": 73,
     "metadata": {},
     "output_type": "execute_result"
    }
   ],
   "source": [
    "# Check road conditions factor\n",
    "ml_df[\"road_cond_1\"].value_counts()"
   ]
  },
  {
   "cell_type": "markdown",
   "id": "740b8e06-1c8f-48fd-ad65-3cb260256073",
   "metadata": {},
   "source": [
    "\t\n",
    "A - Holes, Deep Ruts\n",
    "B - Loose Material on Roadway\n",
    "C - Obstruction on Roadway\n",
    "D - Construction or Repair Zone\n",
    "E - Reduced Roadway Width\n",
    "F - Flooded\n",
    "G - Other\n",
    "H - No Unusual Condition"
   ]
  },
  {
   "cell_type": "code",
   "execution_count": 74,
   "id": "ac657762-6bb2-42d8-a928-a1471a350106",
   "metadata": {},
   "outputs": [
    {
     "data": {
      "text/plain": [
       "A    2177\n",
       "C     788\n",
       "B     137\n",
       "D      41\n",
       "E       3\n",
       "Name: lighting, dtype: int64"
      ]
     },
     "execution_count": 74,
     "metadata": {},
     "output_type": "execute_result"
    }
   ],
   "source": [
    "# Check lighting conditions factor\n",
    "ml_df[\"lighting\"].value_counts()"
   ]
  },
  {
   "cell_type": "markdown",
   "id": "8dca4ed1-8928-4911-ad90-bdb3ed4d860b",
   "metadata": {},
   "source": [
    "\t\n",
    "A - Daylight\n",
    "B - Dusk - Dawn\n",
    "C - Dark - Street Lights\n",
    "D - Dark - No Street Lights\n",
    "E - Dark - Street Lights Not "
   ]
  },
  {
   "cell_type": "code",
   "execution_count": 75,
   "id": "872f18ac-6394-4651-898d-84870b3d5bd2",
   "metadata": {},
   "outputs": [
    {
     "data": {
      "text/plain": [
       "PW    2351\n",
       "GM     156\n",
       "AP      92\n",
       "MW      85\n",
       "PY      80\n",
       "PV      79\n",
       "GL      68\n",
       "NW      50\n",
       "MP      23\n",
       "BP      20\n",
       "AW      19\n",
       "AM      13\n",
       "GP      10\n",
       "LW       9\n",
       "PP       8\n",
       "PX       7\n",
       "BM       6\n",
       "PQ       5\n",
       "PU       5\n",
       "MY       5\n",
       "NP       4\n",
       "AN       4\n",
       "GN       4\n",
       "EL       4\n",
       "MQ       4\n",
       "LM       3\n",
       "HP       3\n",
       "HM       3\n",
       "GQ       2\n",
       "MV       2\n",
       "LQ       2\n",
       "CM       2\n",
       "MR       2\n",
       "HL       2\n",
       "UW       2\n",
       "CL       1\n",
       "BL       1\n",
       "DW       1\n",
       "NU       1\n",
       "DM       1\n",
       "MX       1\n",
       "NV       1\n",
       "LP       1\n",
       "FW       1\n",
       "GW       1\n",
       "CW       1\n",
       "MN       1\n",
       "Name: safety_equip_used, dtype: int64"
      ]
     },
     "execution_count": 75,
     "metadata": {},
     "output_type": "execute_result"
    }
   ],
   "source": [
    "# Check safety equipment used conditions factor\n",
    "pd.set_option('display.max_rows', 120)\n",
    "ml_df[\"safety_equip_used\"].value_counts()"
   ]
  },
  {
   "cell_type": "markdown",
   "id": "29896a68-eefc-4632-b345-9d7bb695d4d1",
   "metadata": {},
   "source": [
    "A - None in Vehicle\n",
    "B - Unknown\n",
    "C - Lap Belt Used\n",
    "D - Lap Belt Not Used\n",
    "E - Shoulder Harness Used\n",
    "F - Shoulder Harness Not Used\n",
    "G - Lap/Shoulder Harness Used\n",
    "H - Lap/Shoulder Harness Not Used\n",
    "J - Passive Restraint Used\n",
    "K - Passive Restraint Not Used\n",
    "L - Air Bag Deployed\n",
    "M - Air Bag Not Deployed\n",
    "N - Other\n",
    "P - Not Required\n",
    "Q - Child Restraint in Vehicle Used\n",
    "R - Child Restraint in Vehicle Not Used\n",
    "S - Child Restraint in Vehicle, Use Unknown\n",
    "T - Child Restraint in Vehicle, Improper Use\n",
    "U - No Child Restraint in Vehicle\n",
    "V - Driver, Motorcycle Helmet Not Used\n",
    "W - Driver, Motorcycle Helmet Used\n",
    "X - Passenger, Motorcycle Helmet Not Used\n",
    "Y - Passenger, Motorcycle Helmet Used\n",
    "- or blank - Not Stated AX  Z ˛z"
   ]
  },
  {
   "cell_type": "code",
   "execution_count": null,
   "id": "e07bb356-d7c1-4996-b54c-5236abc77fdd",
   "metadata": {},
   "outputs": [],
   "source": []
  },
  {
   "cell_type": "code",
   "execution_count": null,
   "id": "ed60c74e-d234-4c3d-8617-c49de70f0b02",
   "metadata": {},
   "outputs": [],
   "source": []
  },
  {
   "cell_type": "code",
   "execution_count": null,
   "id": "15a2819d-21e6-4338-a0e5-3df931217a11",
   "metadata": {},
   "outputs": [],
   "source": []
  },
  {
   "cell_type": "code",
   "execution_count": null,
   "id": "b9834c9f-d6dd-4b74-9a5a-d80e39e635d9",
   "metadata": {},
   "outputs": [],
   "source": []
  },
  {
   "cell_type": "code",
   "execution_count": null,
   "id": "1064f5b4-9e76-4c6e-8f3f-9e7dd5ea4ca9",
   "metadata": {},
   "outputs": [],
   "source": []
  },
  {
   "cell_type": "code",
   "execution_count": 78,
   "id": "454efa22-f466-4e3f-9581-191db25f3102",
   "metadata": {},
   "outputs": [
    {
     "data": {
      "text/html": [
       "<div>\n",
       "<style scoped>\n",
       "    .dataframe tbody tr th:only-of-type {\n",
       "        vertical-align: middle;\n",
       "    }\n",
       "\n",
       "    .dataframe tbody tr th {\n",
       "        vertical-align: top;\n",
       "    }\n",
       "\n",
       "    .dataframe thead th {\n",
       "        text-align: right;\n",
       "    }\n",
       "</style>\n",
       "<table border=\"1\" class=\"dataframe\">\n",
       "  <thead>\n",
       "    <tr style=\"text-align: right;\">\n",
       "      <th></th>\n",
       "      <th>collision_time</th>\n",
       "      <th>day_of_week</th>\n",
       "      <th>vehicle_year</th>\n",
       "      <th>severe_injury</th>\n",
       "      <th>victim_seating_postion</th>\n",
       "      <th>victim_ejected</th>\n",
       "      <th>weather_1_A</th>\n",
       "      <th>weather_1_B</th>\n",
       "      <th>weather_1_C</th>\n",
       "      <th>weather_1_E</th>\n",
       "      <th>...</th>\n",
       "      <th>safety_equip_used_NV</th>\n",
       "      <th>safety_equip_used_NW</th>\n",
       "      <th>safety_equip_used_PP</th>\n",
       "      <th>safety_equip_used_PQ</th>\n",
       "      <th>safety_equip_used_PU</th>\n",
       "      <th>safety_equip_used_PV</th>\n",
       "      <th>safety_equip_used_PW</th>\n",
       "      <th>safety_equip_used_PX</th>\n",
       "      <th>safety_equip_used_PY</th>\n",
       "      <th>safety_equip_used_UW</th>\n",
       "    </tr>\n",
       "  </thead>\n",
       "  <tbody>\n",
       "    <tr>\n",
       "      <th>0</th>\n",
       "      <td>605</td>\n",
       "      <td>2</td>\n",
       "      <td>2018</td>\n",
       "      <td>1</td>\n",
       "      <td>1</td>\n",
       "      <td>1</td>\n",
       "      <td>1</td>\n",
       "      <td>0</td>\n",
       "      <td>0</td>\n",
       "      <td>0</td>\n",
       "      <td>...</td>\n",
       "      <td>0</td>\n",
       "      <td>0</td>\n",
       "      <td>0</td>\n",
       "      <td>0</td>\n",
       "      <td>0</td>\n",
       "      <td>0</td>\n",
       "      <td>1</td>\n",
       "      <td>0</td>\n",
       "      <td>0</td>\n",
       "      <td>0</td>\n",
       "    </tr>\n",
       "    <tr>\n",
       "      <th>1</th>\n",
       "      <td>2310</td>\n",
       "      <td>3</td>\n",
       "      <td>2011</td>\n",
       "      <td>0</td>\n",
       "      <td>2</td>\n",
       "      <td>2</td>\n",
       "      <td>1</td>\n",
       "      <td>0</td>\n",
       "      <td>0</td>\n",
       "      <td>0</td>\n",
       "      <td>...</td>\n",
       "      <td>0</td>\n",
       "      <td>0</td>\n",
       "      <td>0</td>\n",
       "      <td>0</td>\n",
       "      <td>0</td>\n",
       "      <td>0</td>\n",
       "      <td>1</td>\n",
       "      <td>0</td>\n",
       "      <td>0</td>\n",
       "      <td>0</td>\n",
       "    </tr>\n",
       "    <tr>\n",
       "      <th>2</th>\n",
       "      <td>2108</td>\n",
       "      <td>3</td>\n",
       "      <td>2005</td>\n",
       "      <td>1</td>\n",
       "      <td>1</td>\n",
       "      <td>1</td>\n",
       "      <td>1</td>\n",
       "      <td>0</td>\n",
       "      <td>0</td>\n",
       "      <td>0</td>\n",
       "      <td>...</td>\n",
       "      <td>0</td>\n",
       "      <td>0</td>\n",
       "      <td>0</td>\n",
       "      <td>0</td>\n",
       "      <td>0</td>\n",
       "      <td>0</td>\n",
       "      <td>1</td>\n",
       "      <td>0</td>\n",
       "      <td>0</td>\n",
       "      <td>0</td>\n",
       "    </tr>\n",
       "    <tr>\n",
       "      <th>3</th>\n",
       "      <td>2330</td>\n",
       "      <td>7</td>\n",
       "      <td>1995</td>\n",
       "      <td>0</td>\n",
       "      <td>1</td>\n",
       "      <td>0</td>\n",
       "      <td>1</td>\n",
       "      <td>0</td>\n",
       "      <td>0</td>\n",
       "      <td>0</td>\n",
       "      <td>...</td>\n",
       "      <td>0</td>\n",
       "      <td>0</td>\n",
       "      <td>0</td>\n",
       "      <td>0</td>\n",
       "      <td>0</td>\n",
       "      <td>0</td>\n",
       "      <td>1</td>\n",
       "      <td>0</td>\n",
       "      <td>0</td>\n",
       "      <td>0</td>\n",
       "    </tr>\n",
       "    <tr>\n",
       "      <th>4</th>\n",
       "      <td>450</td>\n",
       "      <td>6</td>\n",
       "      <td>2007</td>\n",
       "      <td>1</td>\n",
       "      <td>1</td>\n",
       "      <td>1</td>\n",
       "      <td>1</td>\n",
       "      <td>0</td>\n",
       "      <td>0</td>\n",
       "      <td>0</td>\n",
       "      <td>...</td>\n",
       "      <td>0</td>\n",
       "      <td>0</td>\n",
       "      <td>0</td>\n",
       "      <td>0</td>\n",
       "      <td>0</td>\n",
       "      <td>0</td>\n",
       "      <td>1</td>\n",
       "      <td>0</td>\n",
       "      <td>0</td>\n",
       "      <td>0</td>\n",
       "    </tr>\n",
       "  </tbody>\n",
       "</table>\n",
       "<p>5 rows × 106 columns</p>\n",
       "</div>"
      ],
      "text/plain": [
       "   collision_time  day_of_week  vehicle_year  severe_injury  \\\n",
       "0             605            2          2018              1   \n",
       "1            2310            3          2011              0   \n",
       "2            2108            3          2005              1   \n",
       "3            2330            7          1995              0   \n",
       "4             450            6          2007              1   \n",
       "\n",
       "   victim_seating_postion  victim_ejected  weather_1_A  weather_1_B  \\\n",
       "0                       1               1            1            0   \n",
       "1                       2               2            1            0   \n",
       "2                       1               1            1            0   \n",
       "3                       1               0            1            0   \n",
       "4                       1               1            1            0   \n",
       "\n",
       "   weather_1_C  weather_1_E  ...  safety_equip_used_NV  safety_equip_used_NW  \\\n",
       "0            0            0  ...                     0                     0   \n",
       "1            0            0  ...                     0                     0   \n",
       "2            0            0  ...                     0                     0   \n",
       "3            0            0  ...                     0                     0   \n",
       "4            0            0  ...                     0                     0   \n",
       "\n",
       "   safety_equip_used_PP  safety_equip_used_PQ  safety_equip_used_PU  \\\n",
       "0                     0                     0                     0   \n",
       "1                     0                     0                     0   \n",
       "2                     0                     0                     0   \n",
       "3                     0                     0                     0   \n",
       "4                     0                     0                     0   \n",
       "\n",
       "   safety_equip_used_PV  safety_equip_used_PW  safety_equip_used_PX  \\\n",
       "0                     0                     1                     0   \n",
       "1                     0                     1                     0   \n",
       "2                     0                     1                     0   \n",
       "3                     0                     1                     0   \n",
       "4                     0                     1                     0   \n",
       "\n",
       "   safety_equip_used_PY  safety_equip_used_UW  \n",
       "0                     0                     0  \n",
       "1                     0                     0  \n",
       "2                     0                     0  \n",
       "3                     0                     0  \n",
       "4                     0                     0  \n",
       "\n",
       "[5 rows x 106 columns]"
      ]
     },
     "execution_count": 78,
     "metadata": {},
     "output_type": "execute_result"
    }
   ],
   "source": [
    "# Convert strings to numeric values\n",
    "from sklearn.preprocessing import LabelEncoder\n",
    "ml_encoded = pd.get_dummies(ml_df, columns=[\"weather_1\", \"type_of_collision\", \"party_soberiety\", \n",
    "                                            \"move_pre_acc\", \"road_surface\", \"road_cond_1\", \n",
    "                                            \"lighting\", \"safety_equip_used\"])\n",
    "ml_encoded.head()"
   ]
  },
  {
   "cell_type": "code",
   "execution_count": 79,
   "id": "71de31a0-1401-4346-86db-82c664ec2a40",
   "metadata": {},
   "outputs": [],
   "source": [
    "# Create our features\n",
    "X = ml_encoded.copy()\n",
    "X = X.drop(columns=\"severe_injury\")\n",
    "X.head()\n",
    "\n",
    "# Create our target\n",
    "y = ml_encoded[\"severe_injury\"]"
   ]
  },
  {
   "cell_type": "code",
   "execution_count": 80,
   "id": "d9894e93-67ff-46c1-be9b-4294aa872b11",
   "metadata": {},
   "outputs": [
    {
     "data": {
      "text/plain": [
       "0    2373\n",
       "1     773\n",
       "Name: severe_injury, dtype: int64"
      ]
     },
     "execution_count": 80,
     "metadata": {},
     "output_type": "execute_result"
    }
   ],
   "source": [
    "# Check the balance of our target values\n",
    "y.value_counts()"
   ]
  },
  {
   "cell_type": "code",
   "execution_count": 81,
   "id": "22fa4e7d-3669-4038-a1b8-3d51e6a93936",
   "metadata": {},
   "outputs": [
    {
     "name": "stdout",
     "output_type": "stream",
     "text": [
      "Training Set Counter({0: 1795, 1: 564})\n",
      "Testing Set Counter({0: 578, 1: 209})\n"
     ]
    }
   ],
   "source": [
    "# Create training and testing sets\n",
    "from sklearn.model_selection import train_test_split\n",
    "from sklearn.preprocessing import StandardScaler\n",
    "\n",
    "X_train, X_test, y_train, y_test = train_test_split(X, y, random_state=1)\n",
    "\n",
    "# Determine the shape of our training and testing sets.\n",
    "print(f\"Training Set\", Counter(y_train))\n",
    "print(f\"Testing Set\", Counter(y_test))"
   ]
  },
  {
   "cell_type": "code",
   "execution_count": 82,
   "id": "d18a8b97-f75b-4a43-800b-cfc099ef9b60",
   "metadata": {},
   "outputs": [
    {
     "data": {
      "text/plain": [
       "Counter({0: 1795, 1: 1795})"
      ]
     },
     "execution_count": 82,
     "metadata": {},
     "output_type": "execute_result"
    }
   ],
   "source": [
    "# Resample the training data with the RandomOversampler\n",
    "from imblearn.over_sampling import RandomOverSampler\n",
    "ros = RandomOverSampler(random_state=1)\n",
    "X_resampled, y_resampled = ros.fit_resample(X_train, y_train)\n",
    "Counter(y_resampled)"
   ]
  },
  {
   "cell_type": "code",
   "execution_count": 83,
   "id": "bec3bef8-f5e4-4abd-80f1-6a419305105e",
   "metadata": {},
   "outputs": [
    {
     "data": {
      "text/plain": [
       "LogisticRegression(random_state=1)"
      ]
     },
     "execution_count": 83,
     "metadata": {},
     "output_type": "execute_result"
    }
   ],
   "source": [
    "# Train the Logistic Regression model using the resampled data\n",
    "from sklearn.linear_model import LogisticRegression\n",
    "\n",
    "model = LogisticRegression(solver='lbfgs', random_state=1)\n",
    "model.fit(X_resampled, y_resampled)"
   ]
  },
  {
   "cell_type": "code",
   "execution_count": 84,
   "id": "327c87bc-512b-465a-aac4-b4aacc245933",
   "metadata": {},
   "outputs": [
    {
     "name": "stdout",
     "output_type": "stream",
     "text": [
      "Training Score: 0.6714709622721492\n",
      "Testing Score: 0.650571791613723\n"
     ]
    }
   ],
   "source": [
    "print(f'Training Score: {model.score(X_train, y_train)}')\n",
    "print(f'Testing Score: {model.score(X_test, y_test)}')"
   ]
  },
  {
   "cell_type": "code",
   "execution_count": 85,
   "id": "e8e4c74c-4e56-46b4-b6f6-4a6eb3b5005a",
   "metadata": {},
   "outputs": [
    {
     "data": {
      "text/plain": [
       "0.6292362709226669"
      ]
     },
     "execution_count": 85,
     "metadata": {},
     "output_type": "execute_result"
    }
   ],
   "source": [
    "# Calculated the balanced accuracy score\n",
    "from sklearn.metrics import balanced_accuracy_score\n",
    "y_pred = model.predict(X_test)\n",
    "balanced_accuracy_score(y_test, y_pred)"
   ]
  },
  {
   "cell_type": "code",
   "execution_count": 86,
   "id": "2fed8e17-4c77-4df8-b847-c6bd70d62ac8",
   "metadata": {},
   "outputs": [
    {
     "data": {
      "text/html": [
       "<div>\n",
       "<style scoped>\n",
       "    .dataframe tbody tr th:only-of-type {\n",
       "        vertical-align: middle;\n",
       "    }\n",
       "\n",
       "    .dataframe tbody tr th {\n",
       "        vertical-align: top;\n",
       "    }\n",
       "\n",
       "    .dataframe thead th {\n",
       "        text-align: right;\n",
       "    }\n",
       "</style>\n",
       "<table border=\"1\" class=\"dataframe\">\n",
       "  <thead>\n",
       "    <tr style=\"text-align: right;\">\n",
       "      <th></th>\n",
       "      <th>Predicted Minor/No Injuries</th>\n",
       "      <th>PredictedSevere/Fatality</th>\n",
       "    </tr>\n",
       "  </thead>\n",
       "  <tbody>\n",
       "    <tr>\n",
       "      <th>Actual Minor/No Injuries</th>\n",
       "      <td>390</td>\n",
       "      <td>188</td>\n",
       "    </tr>\n",
       "    <tr>\n",
       "      <th>Actual Severe/Fatality</th>\n",
       "      <td>87</td>\n",
       "      <td>122</td>\n",
       "    </tr>\n",
       "  </tbody>\n",
       "</table>\n",
       "</div>"
      ],
      "text/plain": [
       "                          Predicted Minor/No Injuries  \\\n",
       "Actual Minor/No Injuries                          390   \n",
       "Actual Severe/Fatality                             87   \n",
       "\n",
       "                          PredictedSevere/Fatality  \n",
       "Actual Minor/No Injuries                       188  \n",
       "Actual Severe/Fatality                         122  "
      ]
     },
     "execution_count": 86,
     "metadata": {},
     "output_type": "execute_result"
    }
   ],
   "source": [
    "# Display the confusion matrix\n",
    "from sklearn.metrics import confusion_matrix\n",
    "\n",
    "cm = confusion_matrix(y_test, y_pred)\n",
    "\n",
    "cm_df = pd.DataFrame(\n",
    "    cm, index=[\"Actual Minor/No Injuries\", \"Actual Severe/Fatality\"], columns=[\"Predicted Minor/No Injuries\", \"PredictedSevere/Fatality\"])\n",
    "\n",
    "cm_df"
   ]
  },
  {
   "cell_type": "code",
   "execution_count": 87,
   "id": "5b471c3a-4ea9-497b-ad7f-15fa31363e8f",
   "metadata": {},
   "outputs": [
    {
     "data": {
      "text/plain": [
       "Counter({0: 1795, 1: 1795})"
      ]
     },
     "execution_count": 87,
     "metadata": {},
     "output_type": "execute_result"
    }
   ],
   "source": [
    "# Resample the training data with SMOTE\n",
    "from imblearn.over_sampling import SMOTE\n",
    "X_resampled, y_resampled = SMOTE(random_state=1, sampling_strategy='auto').fit_resample(X_train, y_train)\n",
    "\n",
    "Counter(y_resampled)"
   ]
  },
  {
   "cell_type": "code",
   "execution_count": 88,
   "id": "9e91c4f8-9953-4962-af4c-ba116080223e",
   "metadata": {},
   "outputs": [
    {
     "data": {
      "text/plain": [
       "LogisticRegression(random_state=1)"
      ]
     },
     "execution_count": 88,
     "metadata": {},
     "output_type": "execute_result"
    }
   ],
   "source": [
    "# Train the Logistic Regression model using the resampled data\n",
    "model = LogisticRegression(solver='lbfgs', random_state=1)\n",
    "model.fit(X_resampled, y_resampled)"
   ]
  },
  {
   "cell_type": "code",
   "execution_count": 89,
   "id": "8ce51a41-2c0a-4009-8b1c-fe9b51f071b0",
   "metadata": {},
   "outputs": [
    {
     "name": "stdout",
     "output_type": "stream",
     "text": [
      "Training Score: 0.7579482831708351\n",
      "Testing Score: 0.7369758576874206\n"
     ]
    }
   ],
   "source": [
    "print(f'Training Score: {model.score(X_train, y_train)}')\n",
    "print(f'Testing Score: {model.score(X_test, y_test)}')"
   ]
  },
  {
   "cell_type": "code",
   "execution_count": 90,
   "id": "c9d63b1f-8d4e-4b32-aaa0-1cfb9d829efa",
   "metadata": {},
   "outputs": [
    {
     "data": {
      "text/plain": [
       "0.5857311965033691"
      ]
     },
     "execution_count": 90,
     "metadata": {},
     "output_type": "execute_result"
    }
   ],
   "source": [
    "# Calculated the balanced accuracy score\n",
    "y_pred = model.predict(X_test)\n",
    "balanced_accuracy_score(y_test, y_pred)"
   ]
  },
  {
   "cell_type": "code",
   "execution_count": 91,
   "id": "7e8d005b-5a4d-45e7-bfa2-132ff15a86a1",
   "metadata": {},
   "outputs": [
    {
     "data": {
      "text/html": [
       "<div>\n",
       "<style scoped>\n",
       "    .dataframe tbody tr th:only-of-type {\n",
       "        vertical-align: middle;\n",
       "    }\n",
       "\n",
       "    .dataframe tbody tr th {\n",
       "        vertical-align: top;\n",
       "    }\n",
       "\n",
       "    .dataframe thead th {\n",
       "        text-align: right;\n",
       "    }\n",
       "</style>\n",
       "<table border=\"1\" class=\"dataframe\">\n",
       "  <thead>\n",
       "    <tr style=\"text-align: right;\">\n",
       "      <th></th>\n",
       "      <th>Predicted Minor/No Injuries</th>\n",
       "      <th>PredictedSevere/Fatality</th>\n",
       "    </tr>\n",
       "  </thead>\n",
       "  <tbody>\n",
       "    <tr>\n",
       "      <th>Actual Minor/No Injuries</th>\n",
       "      <td>525</td>\n",
       "      <td>53</td>\n",
       "    </tr>\n",
       "    <tr>\n",
       "      <th>Actual Severe/Fatality</th>\n",
       "      <td>154</td>\n",
       "      <td>55</td>\n",
       "    </tr>\n",
       "  </tbody>\n",
       "</table>\n",
       "</div>"
      ],
      "text/plain": [
       "                          Predicted Minor/No Injuries  \\\n",
       "Actual Minor/No Injuries                          525   \n",
       "Actual Severe/Fatality                            154   \n",
       "\n",
       "                          PredictedSevere/Fatality  \n",
       "Actual Minor/No Injuries                        53  \n",
       "Actual Severe/Fatality                          55  "
      ]
     },
     "execution_count": 91,
     "metadata": {},
     "output_type": "execute_result"
    }
   ],
   "source": [
    "# Display the confusion matrix\n",
    "cm = confusion_matrix(y_test, y_pred)\n",
    "cm_df = pd.DataFrame(\n",
    "    cm, index=[\"Actual Minor/No Injuries\", \"Actual Severe/Fatality\"], columns=[\"Predicted Minor/No Injuries\", \"PredictedSevere/Fatality\"])\n",
    "\n",
    "cm_df"
   ]
  },
  {
   "cell_type": "code",
   "execution_count": 92,
   "id": "829c7057-cb25-4d42-bd9b-d1d18de057b1",
   "metadata": {},
   "outputs": [
    {
     "name": "stdout",
     "output_type": "stream",
     "text": [
      "                   pre       rec       spe        f1       geo       iba       sup\n",
      "\n",
      "          0       0.77      0.91      0.26      0.84      0.49      0.25       578\n",
      "          1       0.51      0.26      0.91      0.35      0.49      0.22       209\n",
      "\n",
      "avg / total       0.70      0.74      0.43      0.71      0.49      0.25       787\n",
      "\n"
     ]
    }
   ],
   "source": [
    "# Print the imbalanced classification report\n",
    "from imblearn.metrics import classification_report_imbalanced\n",
    "print(classification_report_imbalanced(y_test, y_pred))"
   ]
  },
  {
   "cell_type": "code",
   "execution_count": 93,
   "id": "2a6ddd3e-df54-496e-9ed2-84765dd3bf94",
   "metadata": {},
   "outputs": [
    {
     "data": {
      "text/plain": [
       "Counter({0: 600, 1: 1039})"
      ]
     },
     "execution_count": 93,
     "metadata": {},
     "output_type": "execute_result"
    }
   ],
   "source": [
    "# Resample the training data with SMOTEENN\n",
    "# Warning: This is a large dataset, and this step may take some time to complete\n",
    "from imblearn.combine import SMOTEENN\n",
    "\n",
    "smote_enn = SMOTEENN(random_state=1)\n",
    "X_resampled, y_resampled = smote_enn.fit_resample(X_train, y_train)\n",
    "Counter(y_resampled)"
   ]
  },
  {
   "cell_type": "code",
   "execution_count": 94,
   "id": "a6df3bbd-c15e-48fe-92f5-5676694f53b5",
   "metadata": {},
   "outputs": [
    {
     "data": {
      "text/plain": [
       "LogisticRegression(random_state=1)"
      ]
     },
     "execution_count": 94,
     "metadata": {},
     "output_type": "execute_result"
    }
   ],
   "source": [
    "# Train the Logistic Regression model using the resampled data\n",
    "model = LogisticRegression(solver='lbfgs', random_state=1)\n",
    "model.fit(X_resampled, y_resampled)"
   ]
  },
  {
   "cell_type": "code",
   "execution_count": 95,
   "id": "29b15fcd-0f0e-4a5d-8b54-6b106310e632",
   "metadata": {},
   "outputs": [
    {
     "data": {
      "text/plain": [
       "0.5908635618615585"
      ]
     },
     "execution_count": 95,
     "metadata": {},
     "output_type": "execute_result"
    }
   ],
   "source": [
    "# Calculated the balanced accuracy score\n",
    "y_pred = model.predict(X_test)\n",
    "balanced_accuracy_score(y_test, y_pred)"
   ]
  },
  {
   "cell_type": "code",
   "execution_count": 96,
   "id": "97279359-0c8b-4b90-8a8f-f4d4457f0e9b",
   "metadata": {},
   "outputs": [
    {
     "data": {
      "text/html": [
       "<div>\n",
       "<style scoped>\n",
       "    .dataframe tbody tr th:only-of-type {\n",
       "        vertical-align: middle;\n",
       "    }\n",
       "\n",
       "    .dataframe tbody tr th {\n",
       "        vertical-align: top;\n",
       "    }\n",
       "\n",
       "    .dataframe thead th {\n",
       "        text-align: right;\n",
       "    }\n",
       "</style>\n",
       "<table border=\"1\" class=\"dataframe\">\n",
       "  <thead>\n",
       "    <tr style=\"text-align: right;\">\n",
       "      <th></th>\n",
       "      <th>Predicted High Risk</th>\n",
       "      <th>Predicted Low Risk</th>\n",
       "    </tr>\n",
       "  </thead>\n",
       "  <tbody>\n",
       "    <tr>\n",
       "      <th>Actual Minor/No Injuries</th>\n",
       "      <td>365</td>\n",
       "      <td>213</td>\n",
       "    </tr>\n",
       "    <tr>\n",
       "      <th>Actual Severe/Fatality</th>\n",
       "      <td>94</td>\n",
       "      <td>115</td>\n",
       "    </tr>\n",
       "  </tbody>\n",
       "</table>\n",
       "</div>"
      ],
      "text/plain": [
       "                          Predicted High Risk  Predicted Low Risk\n",
       "Actual Minor/No Injuries                  365                 213\n",
       "Actual Severe/Fatality                     94                 115"
      ]
     },
     "execution_count": 96,
     "metadata": {},
     "output_type": "execute_result"
    }
   ],
   "source": [
    "# Display the confusion matrix\n",
    "cm = confusion_matrix(y_test, y_pred)\n",
    "cm_df = pd.DataFrame(\n",
    "    cm, index=[\"Actual Minor/No Injuries\", \"Actual Severe/Fatality\"], columns=[\"Predicted High Risk\", \"Predicted Low Risk\"])\n",
    "\n",
    "cm_df"
   ]
  },
  {
   "cell_type": "code",
   "execution_count": 97,
   "id": "ed86968a-c206-4117-af4d-af3060bb38fe",
   "metadata": {},
   "outputs": [
    {
     "name": "stdout",
     "output_type": "stream",
     "text": [
      "                   pre       rec       spe        f1       geo       iba       sup\n",
      "\n",
      "          0       0.80      0.63      0.55      0.70      0.59      0.35       578\n",
      "          1       0.35      0.55      0.63      0.43      0.59      0.34       209\n",
      "\n",
      "avg / total       0.68      0.61      0.57      0.63      0.59      0.35       787\n",
      "\n"
     ]
    }
   ],
   "source": [
    "# Print the imbalanced classification report\n",
    "print( classification_report_imbalanced(y_test, y_pred))"
   ]
  },
  {
   "cell_type": "code",
   "execution_count": 98,
   "id": "67c462d8-3eb7-4edf-9c84-1b03cded76e1",
   "metadata": {},
   "outputs": [],
   "source": [
    "# Imported sklearn and imblearn dependancies\n",
    "from sklearn.metrics import confusion_matrix, accuracy_score, classification_report, balanced_accuracy_score\n",
    "from imblearn.metrics import classification_report_imbalanced\n",
    "from sklearn.preprocessing import StandardScaler, LabelEncoder\n",
    "from sklearn.model_selection import train_test_split\n",
    "from imblearn.ensemble import BalancedRandomForestClassifier\n",
    "from sklearn.datasets import make_classification\n",
    "from sklearn.linear_model import LogisticRegression\n",
    "from sklearn import datasets\n",
    "from sklearn.tree import DecisionTreeClassifier, plot_tree\n",
    "from sklearn import tree\n",
    "from sklearn import datasets"
   ]
  },
  {
   "cell_type": "code",
   "execution_count": 99,
   "id": "b05c07e4-3951-485d-b0a5-2c69e811846a",
   "metadata": {},
   "outputs": [
    {
     "name": "stdout",
     "output_type": "stream",
     "text": [
      "(2359, 105)\n",
      "(787, 105)\n",
      "(2359,)\n",
      "(787,)\n"
     ]
    }
   ],
   "source": [
    "# Create training and testing sets\n",
    "from sklearn.model_selection import train_test_split\n",
    "X_train, X_test, y_train, y_test = train_test_split(X, y, random_state=1)\n",
    "\n",
    "# Creating a StandardScaler instance and fit with the training data.\n",
    "scaler = StandardScaler().fit(X_train)\n",
    "# Scale the X data\n",
    "X_train_scaler = scaler.transform(X_train)\n",
    "X_test_scaler = scaler.transform(X_test)\n",
    "\n",
    "# Determine the shape of our training and testing sets.\n",
    "print(X_train.shape)\n",
    "print(X_test.shape)\n",
    "print(y_train.shape)\n",
    "print(y_test.shape)"
   ]
  },
  {
   "cell_type": "code",
   "execution_count": 100,
   "id": "615613c8-f21c-4344-a407-572011b9e689",
   "metadata": {},
   "outputs": [
    {
     "name": "stdout",
     "output_type": "stream",
     "text": [
      "Training Score: 0.8715557439593048\n",
      "Testing Score: 0.6493011435832274\n"
     ]
    }
   ],
   "source": [
    "# Resample the training data with the BalancedRandomForestClassifier\n",
    "brf_model = BalancedRandomForestClassifier(n_estimators = 100, random_state=1)\n",
    "\n",
    "# Fitting the model\n",
    "brf_model = brf_model.fit(X_train_scaler, y_train)\n",
    "\n",
    "# View accuracy of models\n",
    "print(f'Training Score: {brf_model.score(X_train_scaler, y_train)}')\n",
    "print(f'Testing Score: {brf_model.score(X_test_scaler, y_test)}')\n",
    "\n",
    "# Make Prediction\n",
    "predictions = brf_model.predict(X_test_scaler)"
   ]
  },
  {
   "cell_type": "code",
   "execution_count": 101,
   "id": "47a1a335-c772-4451-bf12-82788273f0e0",
   "metadata": {},
   "outputs": [
    {
     "data": {
      "text/plain": [
       "0.6493011435832274"
      ]
     },
     "execution_count": 101,
     "metadata": {},
     "output_type": "execute_result"
    }
   ],
   "source": [
    "# Calculated the balanced accuracy score\n",
    "acc_score = accuracy_score(y_test, predictions)\n",
    "acc_score"
   ]
  },
  {
   "cell_type": "code",
   "execution_count": null,
   "id": "3924911a-09ff-472e-8d54-e54b929c5c3c",
   "metadata": {},
   "outputs": [],
   "source": []
  },
  {
   "cell_type": "code",
   "execution_count": 102,
   "id": "6321169e-1d23-4fd0-b781-ee5bacd2b35b",
   "metadata": {},
   "outputs": [
    {
     "data": {
      "text/html": [
       "<div>\n",
       "<style scoped>\n",
       "    .dataframe tbody tr th:only-of-type {\n",
       "        vertical-align: middle;\n",
       "    }\n",
       "\n",
       "    .dataframe tbody tr th {\n",
       "        vertical-align: top;\n",
       "    }\n",
       "\n",
       "    .dataframe thead th {\n",
       "        text-align: right;\n",
       "    }\n",
       "</style>\n",
       "<table border=\"1\" class=\"dataframe\">\n",
       "  <thead>\n",
       "    <tr style=\"text-align: right;\">\n",
       "      <th></th>\n",
       "      <th>Predicted Minor/No Injuries</th>\n",
       "      <th>PredictedSevere/Fatality</th>\n",
       "    </tr>\n",
       "  </thead>\n",
       "  <tbody>\n",
       "    <tr>\n",
       "      <th>Actual Low Injury</th>\n",
       "      <td>384</td>\n",
       "      <td>194</td>\n",
       "    </tr>\n",
       "    <tr>\n",
       "      <th>Actual High Injury</th>\n",
       "      <td>82</td>\n",
       "      <td>127</td>\n",
       "    </tr>\n",
       "  </tbody>\n",
       "</table>\n",
       "</div>"
      ],
      "text/plain": [
       "                    Predicted Minor/No Injuries  PredictedSevere/Fatality\n",
       "Actual Low Injury                           384                       194\n",
       "Actual High Injury                           82                       127"
      ]
     },
     "execution_count": 102,
     "metadata": {},
     "output_type": "execute_result"
    }
   ],
   "source": [
    "# Display the confusion matrix\n",
    "cm = confusion_matrix(y_test, predictions)\n",
    "\n",
    "# Create a DataFrame from the confusion matrix.\n",
    "cm_df = pd.DataFrame(\n",
    "    cm, index=[\"Actual Low Injury\", \"Actual High Injury\"], columns=[\"Predicted Minor/No Injuries\", \"PredictedSevere/Fatality\"])\n",
    "\n",
    "cm_df\n"
   ]
  },
  {
   "cell_type": "code",
   "execution_count": 103,
   "id": "6a438eaa-37b8-4bbc-b7a4-814a10abe2f7",
   "metadata": {},
   "outputs": [
    {
     "name": "stdout",
     "output_type": "stream",
     "text": [
      "                   pre       rec       spe        f1       geo       iba       sup\n",
      "\n",
      "          0       0.82      0.66      0.61      0.74      0.64      0.41       578\n",
      "          1       0.40      0.61      0.66      0.48      0.64      0.40       209\n",
      "\n",
      "avg / total       0.71      0.65      0.62      0.67      0.64      0.40       787\n",
      "\n"
     ]
    }
   ],
   "source": [
    "# Print the imbalanced classification report\n",
    "print(classification_report_imbalanced(y_test, predictions))"
   ]
  },
  {
   "cell_type": "code",
   "execution_count": 106,
   "id": "73ba3758-f384-4999-a19b-d1dd7c8d4a5b",
   "metadata": {},
   "outputs": [],
   "source": [
    "# List the features sorted in descending order by feature importance\n",
    "ranked_importances = brf_model.feature_importances_\n"
   ]
  },
  {
   "cell_type": "code",
   "execution_count": 107,
   "id": "cb891075-4c19-47ca-bdf7-f14012457869",
   "metadata": {},
   "outputs": [
    {
     "ename": "ValueError",
     "evalue": "Shape of passed values is (105, 1), indices imply (105, 2)",
     "output_type": "error",
     "traceback": [
      "\u001b[0;31m---------------------------------------------------------------------------\u001b[0m",
      "\u001b[0;31mValueError\u001b[0m                                Traceback (most recent call last)",
      "\u001b[0;32m/var/folders/bn/wbqgytvn19q906_4pwhw0l5h0000gn/T/ipykernel_22506/2227022126.py\u001b[0m in \u001b[0;36m<module>\u001b[0;34m\u001b[0m\n\u001b[1;32m      1\u001b[0m \u001b[0;31m# Create dataframe containing ranked and sorted feature importances\u001b[0m\u001b[0;34m\u001b[0m\u001b[0;34m\u001b[0m\u001b[0;34m\u001b[0m\u001b[0m\n\u001b[0;32m----> 2\u001b[0;31m \u001b[0mranked_importances_df\u001b[0m \u001b[0;34m=\u001b[0m \u001b[0mpd\u001b[0m\u001b[0;34m.\u001b[0m\u001b[0mDataFrame\u001b[0m\u001b[0;34m(\u001b[0m\u001b[0msorted\u001b[0m\u001b[0;34m(\u001b[0m\u001b[0mranked_importances\u001b[0m\u001b[0;34m,\u001b[0m \u001b[0mreverse\u001b[0m\u001b[0;34m=\u001b[0m\u001b[0;32mTrue\u001b[0m\u001b[0;34m)\u001b[0m\u001b[0;34m,\u001b[0m \u001b[0mcolumns\u001b[0m\u001b[0;34m=\u001b[0m\u001b[0;34m[\u001b[0m\u001b[0;34m\"Importance\"\u001b[0m\u001b[0;34m,\u001b[0m \u001b[0;34m\"Feature\"\u001b[0m\u001b[0;34m]\u001b[0m\u001b[0;34m)\u001b[0m\u001b[0;34m\u001b[0m\u001b[0;34m\u001b[0m\u001b[0m\n\u001b[0m\u001b[1;32m      3\u001b[0m \u001b[0mranked_importances_df\u001b[0m\u001b[0;34m\u001b[0m\u001b[0;34m\u001b[0m\u001b[0m\n",
      "\u001b[0;32m/opt/anaconda3/envs/mlenv/lib/python3.8/site-packages/pandas/core/frame.py\u001b[0m in \u001b[0;36m__init__\u001b[0;34m(self, data, index, columns, dtype, copy)\u001b[0m\n\u001b[1;32m    709\u001b[0m                     )\n\u001b[1;32m    710\u001b[0m                 \u001b[0;32melse\u001b[0m\u001b[0;34m:\u001b[0m\u001b[0;34m\u001b[0m\u001b[0;34m\u001b[0m\u001b[0m\n\u001b[0;32m--> 711\u001b[0;31m                     mgr = ndarray_to_mgr(\n\u001b[0m\u001b[1;32m    712\u001b[0m                         \u001b[0mdata\u001b[0m\u001b[0;34m,\u001b[0m\u001b[0;34m\u001b[0m\u001b[0;34m\u001b[0m\u001b[0m\n\u001b[1;32m    713\u001b[0m                         \u001b[0mindex\u001b[0m\u001b[0;34m,\u001b[0m\u001b[0;34m\u001b[0m\u001b[0;34m\u001b[0m\u001b[0m\n",
      "\u001b[0;32m/opt/anaconda3/envs/mlenv/lib/python3.8/site-packages/pandas/core/internals/construction.py\u001b[0m in \u001b[0;36mndarray_to_mgr\u001b[0;34m(values, index, columns, dtype, copy, typ)\u001b[0m\n\u001b[1;32m    322\u001b[0m     )\n\u001b[1;32m    323\u001b[0m \u001b[0;34m\u001b[0m\u001b[0m\n\u001b[0;32m--> 324\u001b[0;31m     \u001b[0m_check_values_indices_shape_match\u001b[0m\u001b[0;34m(\u001b[0m\u001b[0mvalues\u001b[0m\u001b[0;34m,\u001b[0m \u001b[0mindex\u001b[0m\u001b[0;34m,\u001b[0m \u001b[0mcolumns\u001b[0m\u001b[0;34m)\u001b[0m\u001b[0;34m\u001b[0m\u001b[0;34m\u001b[0m\u001b[0m\n\u001b[0m\u001b[1;32m    325\u001b[0m \u001b[0;34m\u001b[0m\u001b[0m\n\u001b[1;32m    326\u001b[0m     \u001b[0;32mif\u001b[0m \u001b[0mtyp\u001b[0m \u001b[0;34m==\u001b[0m \u001b[0;34m\"array\"\u001b[0m\u001b[0;34m:\u001b[0m\u001b[0;34m\u001b[0m\u001b[0;34m\u001b[0m\u001b[0m\n",
      "\u001b[0;32m/opt/anaconda3/envs/mlenv/lib/python3.8/site-packages/pandas/core/internals/construction.py\u001b[0m in \u001b[0;36m_check_values_indices_shape_match\u001b[0;34m(values, index, columns)\u001b[0m\n\u001b[1;32m    391\u001b[0m         \u001b[0mpassed\u001b[0m \u001b[0;34m=\u001b[0m \u001b[0mvalues\u001b[0m\u001b[0;34m.\u001b[0m\u001b[0mshape\u001b[0m\u001b[0;34m\u001b[0m\u001b[0;34m\u001b[0m\u001b[0m\n\u001b[1;32m    392\u001b[0m         \u001b[0mimplied\u001b[0m \u001b[0;34m=\u001b[0m \u001b[0;34m(\u001b[0m\u001b[0mlen\u001b[0m\u001b[0;34m(\u001b[0m\u001b[0mindex\u001b[0m\u001b[0;34m)\u001b[0m\u001b[0;34m,\u001b[0m \u001b[0mlen\u001b[0m\u001b[0;34m(\u001b[0m\u001b[0mcolumns\u001b[0m\u001b[0;34m)\u001b[0m\u001b[0;34m)\u001b[0m\u001b[0;34m\u001b[0m\u001b[0;34m\u001b[0m\u001b[0m\n\u001b[0;32m--> 393\u001b[0;31m         \u001b[0;32mraise\u001b[0m \u001b[0mValueError\u001b[0m\u001b[0;34m(\u001b[0m\u001b[0;34mf\"Shape of passed values is {passed}, indices imply {implied}\"\u001b[0m\u001b[0;34m)\u001b[0m\u001b[0;34m\u001b[0m\u001b[0;34m\u001b[0m\u001b[0m\n\u001b[0m\u001b[1;32m    394\u001b[0m \u001b[0;34m\u001b[0m\u001b[0m\n\u001b[1;32m    395\u001b[0m \u001b[0;34m\u001b[0m\u001b[0m\n",
      "\u001b[0;31mValueError\u001b[0m: Shape of passed values is (105, 1), indices imply (105, 2)"
     ]
    }
   ],
   "source": [
    "# Create dataframe containing ranked and sorted feature importances\n",
    "ranked_importances_df = pd.DataFrame(sorted(ranked_importances, reverse=True), columns=[\"Importance\", \"Feature\"])\n",
    "ranked_importances_df"
   ]
  },
  {
   "cell_type": "code",
   "execution_count": 108,
   "id": "7593313d-f7a0-4b01-97f4-0cad9c58ec21",
   "metadata": {},
   "outputs": [
    {
     "ename": "NameError",
     "evalue": "name 'ranked_importances_df' is not defined",
     "output_type": "error",
     "traceback": [
      "\u001b[0;31m---------------------------------------------------------------------------\u001b[0m",
      "\u001b[0;31mNameError\u001b[0m                                 Traceback (most recent call last)",
      "\u001b[0;32m/var/folders/bn/wbqgytvn19q906_4pwhw0l5h0000gn/T/ipykernel_22506/1255873671.py\u001b[0m in \u001b[0;36m<module>\u001b[0;34m\u001b[0m\n\u001b[1;32m      1\u001b[0m \u001b[0;31m# Visualize top 10 feature importances\u001b[0m\u001b[0;34m\u001b[0m\u001b[0;34m\u001b[0m\u001b[0;34m\u001b[0m\u001b[0m\n\u001b[0;32m----> 2\u001b[0;31m \u001b[0mtop_importances_df\u001b[0m \u001b[0;34m=\u001b[0m \u001b[0mranked_importances_df\u001b[0m\u001b[0;34m.\u001b[0m\u001b[0mhead\u001b[0m\u001b[0;34m(\u001b[0m\u001b[0;36m15\u001b[0m\u001b[0;34m)\u001b[0m\u001b[0;34m\u001b[0m\u001b[0;34m\u001b[0m\u001b[0m\n\u001b[0m\u001b[1;32m      3\u001b[0m \u001b[0;34m\u001b[0m\u001b[0m\n\u001b[1;32m      4\u001b[0m \u001b[0mplt\u001b[0m\u001b[0;34m.\u001b[0m\u001b[0mfigure\u001b[0m\u001b[0;34m(\u001b[0m\u001b[0mfigsize\u001b[0m\u001b[0;34m=\u001b[0m\u001b[0;34m(\u001b[0m\u001b[0;36m20\u001b[0m\u001b[0;34m,\u001b[0m\u001b[0;36m10\u001b[0m\u001b[0;34m)\u001b[0m\u001b[0;34m)\u001b[0m\u001b[0;34m\u001b[0m\u001b[0;34m\u001b[0m\u001b[0m\n\u001b[1;32m      5\u001b[0m top_importances_df.plot.barh(x=\"Feature\", y=\"Importance\", align='edge', width=0.9,\n",
      "\u001b[0;31mNameError\u001b[0m: name 'ranked_importances_df' is not defined"
     ]
    }
   ],
   "source": [
    "# Visualize top 10 feature importances\n",
    "top_importances_df = ranked_importances_df.head(15)\n",
    "\n",
    "plt.figure(figsize=(20,10))\n",
    "top_importances_df.plot.barh(x=\"Feature\", y=\"Importance\", align='edge', width=0.9,\n",
    "                      title=\"Top 15 Feature Importances\",\n",
    "                           ylabel=\"% Importance\")\n",
    "plt.gca().invert_yaxis()\n",
    "plt.show\n",
    "plt.savefig('topfeatureranking.png')\n"
   ]
  },
  {
   "cell_type": "code",
   "execution_count": 109,
   "id": "8b6cb934-47a3-4fd1-902d-fb691f19a202",
   "metadata": {},
   "outputs": [
    {
     "name": "stdout",
     "output_type": "stream",
     "text": [
      "100\n"
     ]
    }
   ],
   "source": [
    "# Show count of total estimators in Balanced Random Forest Classifier\n",
    "print(len(brf_model.estimators_))"
   ]
  },
  {
   "cell_type": "code",
   "execution_count": 110,
   "id": "ce3a8bb4-8702-4344-8930-5de73e3bbe2a",
   "metadata": {},
   "outputs": [
    {
     "name": "stdout",
     "output_type": "stream",
     "text": [
      "Training Score: 0.6782534972445952\n",
      "Testing Score: 0.6632782719186785\n"
     ]
    }
   ],
   "source": [
    "# Train the EasyEnsembleClassifier\n",
    "from imblearn.ensemble import EasyEnsembleClassifier, RUSBoostClassifier\n",
    "eec = EasyEnsembleClassifier(n_estimators=100, random_state=1)\n",
    "eec.fit(X_train_scaler, y_train)\n",
    "\n",
    "# View accuracy of models\n",
    "print(f'Training Score: {eec.score(X_train_scaler, y_train)}')\n",
    "print(f'Testing Score: {eec.score(X_test_scaler, y_test)}')\n",
    "\n",
    "\n",
    "predictions = eec.predict(X_test_scaler)"
   ]
  },
  {
   "cell_type": "code",
   "execution_count": 111,
   "id": "817f08a9-d787-400f-b952-d36cc71119fa",
   "metadata": {},
   "outputs": [
    {
     "data": {
      "text/plain": [
       "0.6632782719186785"
      ]
     },
     "execution_count": 111,
     "metadata": {},
     "output_type": "execute_result"
    }
   ],
   "source": [
    "# Calculated the balanced accuracy score\n",
    "acc_score = accuracy_score(y_test, predictions)\n",
    "acc_score"
   ]
  },
  {
   "cell_type": "code",
   "execution_count": 112,
   "id": "e2ff8d7b-263d-4750-9df5-07432a4317c5",
   "metadata": {},
   "outputs": [],
   "source": [
    "# Display the confusion matrix\n",
    "y_pred = eec.predict(X_test_scaler)\n",
    "cm = confusion_matrix(y_test, y_pred)"
   ]
  },
  {
   "cell_type": "code",
   "execution_count": 113,
   "id": "19106dd1-949c-42d5-a17b-062b51545201",
   "metadata": {},
   "outputs": [
    {
     "data": {
      "text/html": [
       "<div>\n",
       "<style scoped>\n",
       "    .dataframe tbody tr th:only-of-type {\n",
       "        vertical-align: middle;\n",
       "    }\n",
       "\n",
       "    .dataframe tbody tr th {\n",
       "        vertical-align: top;\n",
       "    }\n",
       "\n",
       "    .dataframe thead th {\n",
       "        text-align: right;\n",
       "    }\n",
       "</style>\n",
       "<table border=\"1\" class=\"dataframe\">\n",
       "  <thead>\n",
       "    <tr style=\"text-align: right;\">\n",
       "      <th></th>\n",
       "      <th>Predicted Minor/No Injuries</th>\n",
       "      <th>PredictedSevere/Fatality</th>\n",
       "    </tr>\n",
       "  </thead>\n",
       "  <tbody>\n",
       "    <tr>\n",
       "      <th>Actual Low Injury</th>\n",
       "      <td>375</td>\n",
       "      <td>203</td>\n",
       "    </tr>\n",
       "    <tr>\n",
       "      <th>Actual High Injury</th>\n",
       "      <td>62</td>\n",
       "      <td>147</td>\n",
       "    </tr>\n",
       "  </tbody>\n",
       "</table>\n",
       "</div>"
      ],
      "text/plain": [
       "                    Predicted Minor/No Injuries  PredictedSevere/Fatality\n",
       "Actual Low Injury                           375                       203\n",
       "Actual High Injury                           62                       147"
      ]
     },
     "execution_count": 113,
     "metadata": {},
     "output_type": "execute_result"
    }
   ],
   "source": [
    "# Create a DataFrame from the confusion matrix.\n",
    "cm_df = pd.DataFrame(\n",
    "    cm, index=[\"Actual Low Injury\", \"Actual High Injury\"], columns=[\"Predicted Minor/No Injuries\", \"PredictedSevere/Fatality\"])\n",
    "\n",
    "cm_df\n"
   ]
  },
  {
   "cell_type": "code",
   "execution_count": 114,
   "id": "41ae870d-764d-43ec-b8f4-cc65c9f8474f",
   "metadata": {},
   "outputs": [
    {
     "name": "stdout",
     "output_type": "stream",
     "text": [
      "                   pre       rec       spe        f1       geo       iba       sup\n",
      "\n",
      "          0       0.86      0.65      0.70      0.74      0.68      0.45       578\n",
      "          1       0.42      0.70      0.65      0.53      0.68      0.46       209\n",
      "\n",
      "avg / total       0.74      0.66      0.69      0.68      0.68      0.46       787\n",
      "\n"
     ]
    }
   ],
   "source": [
    "# Print the imbalanced classification report\n",
    "print(classification_report_imbalanced(y_test, predictions))"
   ]
  },
  {
   "cell_type": "code",
   "execution_count": null,
   "id": "a3ff7dd0-ad41-4aae-bfab-b10fce755e5b",
   "metadata": {},
   "outputs": [],
   "source": []
  }
 ],
 "metadata": {
  "kernelspec": {
   "display_name": "mlenv",
   "language": "python",
   "name": "mlenv"
  },
  "language_info": {
   "codemirror_mode": {
    "name": "ipython",
    "version": 3
   },
   "file_extension": ".py",
   "mimetype": "text/x-python",
   "name": "python",
   "nbconvert_exporter": "python",
   "pygments_lexer": "ipython3",
   "version": "3.8.12"
  }
 },
 "nbformat": 4,
 "nbformat_minor": 5
}
