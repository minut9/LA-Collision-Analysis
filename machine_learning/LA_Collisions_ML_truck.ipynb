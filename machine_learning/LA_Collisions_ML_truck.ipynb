{
 "cells": [
  {
   "cell_type": "code",
   "execution_count": 1,
   "id": "9cfae6b0-1e2b-408b-9253-c1c79b5356ca",
   "metadata": {},
   "outputs": [],
   "source": [
    "import warnings\n",
    "warnings.filterwarnings('ignore')"
   ]
  },
  {
   "cell_type": "code",
   "execution_count": 70,
   "id": "f8f0c16c-4226-4cbf-b452-aa5d9219af97",
   "metadata": {},
   "outputs": [],
   "source": [
    "%matplotlib inline\n",
    "# Import dependancies\n",
    "import numpy as np\n",
    "import pandas as pd\n",
    "from pathlib import Path\n",
    "from collections import Counter\n",
    "from matplotlib import pyplot as plt"
   ]
  },
  {
   "cell_type": "markdown",
   "id": "8a68441d-f2ab-4a8c-a8ad-c1540e521c98",
   "metadata": {},
   "source": [
    "# Machine learning on car collision data"
   ]
  },
  {
   "cell_type": "code",
   "execution_count": 6,
   "id": "3ca26272-2c89-420d-bb74-6f62c6615b9e",
   "metadata": {},
   "outputs": [
    {
     "data": {
      "text/html": [
       "<div>\n",
       "<style scoped>\n",
       "    .dataframe tbody tr th:only-of-type {\n",
       "        vertical-align: middle;\n",
       "    }\n",
       "\n",
       "    .dataframe tbody tr th {\n",
       "        vertical-align: top;\n",
       "    }\n",
       "\n",
       "    .dataframe thead th {\n",
       "        text-align: right;\n",
       "    }\n",
       "</style>\n",
       "<table border=\"1\" class=\"dataframe\">\n",
       "  <thead>\n",
       "    <tr style=\"text-align: right;\">\n",
       "      <th></th>\n",
       "      <th>case_id</th>\n",
       "      <th>party_number</th>\n",
       "      <th>victim_number</th>\n",
       "      <th>accident_year</th>\n",
       "      <th>collision_time</th>\n",
       "      <th>day_of_week</th>\n",
       "      <th>weather_1</th>\n",
       "      <th>primary_coll_factor</th>\n",
       "      <th>type_of_collision</th>\n",
       "      <th>at_fault</th>\n",
       "      <th>...</th>\n",
       "      <th>road_cond_1</th>\n",
       "      <th>lighting</th>\n",
       "      <th>point_x</th>\n",
       "      <th>point_y</th>\n",
       "      <th>victim_age</th>\n",
       "      <th>severe_injury</th>\n",
       "      <th>safety_equip_used</th>\n",
       "      <th>victim_sex</th>\n",
       "      <th>victim_seating_postion</th>\n",
       "      <th>victim_ejected</th>\n",
       "    </tr>\n",
       "  </thead>\n",
       "  <tbody>\n",
       "    <tr>\n",
       "      <th>0</th>\n",
       "      <td>8789755</td>\n",
       "      <td>3</td>\n",
       "      <td>1</td>\n",
       "      <td>2019</td>\n",
       "      <td>1549</td>\n",
       "      <td>1</td>\n",
       "      <td>B</td>\n",
       "      <td>A</td>\n",
       "      <td>C</td>\n",
       "      <td>N</td>\n",
       "      <td>...</td>\n",
       "      <td>H</td>\n",
       "      <td>A</td>\n",
       "      <td>-118.060410</td>\n",
       "      <td>33.963806</td>\n",
       "      <td>44</td>\n",
       "      <td>0</td>\n",
       "      <td>GM</td>\n",
       "      <td>F</td>\n",
       "      <td>1</td>\n",
       "      <td>0</td>\n",
       "    </tr>\n",
       "    <tr>\n",
       "      <th>1</th>\n",
       "      <td>8789755</td>\n",
       "      <td>3</td>\n",
       "      <td>2</td>\n",
       "      <td>2019</td>\n",
       "      <td>1549</td>\n",
       "      <td>1</td>\n",
       "      <td>B</td>\n",
       "      <td>A</td>\n",
       "      <td>C</td>\n",
       "      <td>N</td>\n",
       "      <td>...</td>\n",
       "      <td>H</td>\n",
       "      <td>A</td>\n",
       "      <td>-118.060410</td>\n",
       "      <td>33.963806</td>\n",
       "      <td>10</td>\n",
       "      <td>0</td>\n",
       "      <td>GM</td>\n",
       "      <td>F</td>\n",
       "      <td>3</td>\n",
       "      <td>0</td>\n",
       "    </tr>\n",
       "    <tr>\n",
       "      <th>2</th>\n",
       "      <td>90698692</td>\n",
       "      <td>1</td>\n",
       "      <td>1</td>\n",
       "      <td>2018</td>\n",
       "      <td>1850</td>\n",
       "      <td>5</td>\n",
       "      <td>A</td>\n",
       "      <td>A</td>\n",
       "      <td>C</td>\n",
       "      <td>Y</td>\n",
       "      <td>...</td>\n",
       "      <td>H</td>\n",
       "      <td>C</td>\n",
       "      <td>-118.289986</td>\n",
       "      <td>33.859360</td>\n",
       "      <td>40</td>\n",
       "      <td>0</td>\n",
       "      <td>GP</td>\n",
       "      <td>M</td>\n",
       "      <td>5</td>\n",
       "      <td>0</td>\n",
       "    </tr>\n",
       "    <tr>\n",
       "      <th>3</th>\n",
       "      <td>90698692</td>\n",
       "      <td>1</td>\n",
       "      <td>2</td>\n",
       "      <td>2018</td>\n",
       "      <td>1850</td>\n",
       "      <td>5</td>\n",
       "      <td>A</td>\n",
       "      <td>A</td>\n",
       "      <td>C</td>\n",
       "      <td>Y</td>\n",
       "      <td>...</td>\n",
       "      <td>H</td>\n",
       "      <td>C</td>\n",
       "      <td>-118.289986</td>\n",
       "      <td>33.859360</td>\n",
       "      <td>59</td>\n",
       "      <td>0</td>\n",
       "      <td>GM</td>\n",
       "      <td>M</td>\n",
       "      <td>3</td>\n",
       "      <td>0</td>\n",
       "    </tr>\n",
       "    <tr>\n",
       "      <th>4</th>\n",
       "      <td>8296242</td>\n",
       "      <td>2</td>\n",
       "      <td>1</td>\n",
       "      <td>2017</td>\n",
       "      <td>1710</td>\n",
       "      <td>5</td>\n",
       "      <td>A</td>\n",
       "      <td>A</td>\n",
       "      <td>D</td>\n",
       "      <td>N</td>\n",
       "      <td>...</td>\n",
       "      <td>H</td>\n",
       "      <td>B</td>\n",
       "      <td>-118.130630</td>\n",
       "      <td>34.718540</td>\n",
       "      <td>52</td>\n",
       "      <td>0</td>\n",
       "      <td>GM</td>\n",
       "      <td>M</td>\n",
       "      <td>1</td>\n",
       "      <td>0</td>\n",
       "    </tr>\n",
       "    <tr>\n",
       "      <th>...</th>\n",
       "      <td>...</td>\n",
       "      <td>...</td>\n",
       "      <td>...</td>\n",
       "      <td>...</td>\n",
       "      <td>...</td>\n",
       "      <td>...</td>\n",
       "      <td>...</td>\n",
       "      <td>...</td>\n",
       "      <td>...</td>\n",
       "      <td>...</td>\n",
       "      <td>...</td>\n",
       "      <td>...</td>\n",
       "      <td>...</td>\n",
       "      <td>...</td>\n",
       "      <td>...</td>\n",
       "      <td>...</td>\n",
       "      <td>...</td>\n",
       "      <td>...</td>\n",
       "      <td>...</td>\n",
       "      <td>...</td>\n",
       "      <td>...</td>\n",
       "    </tr>\n",
       "    <tr>\n",
       "      <th>12312</th>\n",
       "      <td>90977689</td>\n",
       "      <td>1</td>\n",
       "      <td>1</td>\n",
       "      <td>2019</td>\n",
       "      <td>1545</td>\n",
       "      <td>3</td>\n",
       "      <td>A</td>\n",
       "      <td>A</td>\n",
       "      <td>C</td>\n",
       "      <td>Y</td>\n",
       "      <td>...</td>\n",
       "      <td>H</td>\n",
       "      <td>A</td>\n",
       "      <td>-118.193039</td>\n",
       "      <td>33.890583</td>\n",
       "      <td>40</td>\n",
       "      <td>0</td>\n",
       "      <td>GM</td>\n",
       "      <td>M</td>\n",
       "      <td>1</td>\n",
       "      <td>0</td>\n",
       "    </tr>\n",
       "    <tr>\n",
       "      <th>12313</th>\n",
       "      <td>91083697</td>\n",
       "      <td>2</td>\n",
       "      <td>1</td>\n",
       "      <td>2019</td>\n",
       "      <td>2325</td>\n",
       "      <td>3</td>\n",
       "      <td>A</td>\n",
       "      <td>A</td>\n",
       "      <td>B</td>\n",
       "      <td>N</td>\n",
       "      <td>...</td>\n",
       "      <td>H</td>\n",
       "      <td>C</td>\n",
       "      <td>-118.146523</td>\n",
       "      <td>33.995522</td>\n",
       "      <td>55</td>\n",
       "      <td>0</td>\n",
       "      <td>GM</td>\n",
       "      <td>M</td>\n",
       "      <td>1</td>\n",
       "      <td>0</td>\n",
       "    </tr>\n",
       "    <tr>\n",
       "      <th>12314</th>\n",
       "      <td>91146485</td>\n",
       "      <td>2</td>\n",
       "      <td>1</td>\n",
       "      <td>2019</td>\n",
       "      <td>1545</td>\n",
       "      <td>7</td>\n",
       "      <td>B</td>\n",
       "      <td>A</td>\n",
       "      <td>A</td>\n",
       "      <td>N</td>\n",
       "      <td>...</td>\n",
       "      <td>H</td>\n",
       "      <td>A</td>\n",
       "      <td>-117.833542</td>\n",
       "      <td>34.292549</td>\n",
       "      <td>48</td>\n",
       "      <td>0</td>\n",
       "      <td>GM</td>\n",
       "      <td>M</td>\n",
       "      <td>3</td>\n",
       "      <td>0</td>\n",
       "    </tr>\n",
       "    <tr>\n",
       "      <th>12315</th>\n",
       "      <td>90671067</td>\n",
       "      <td>2</td>\n",
       "      <td>1</td>\n",
       "      <td>2018</td>\n",
       "      <td>1705</td>\n",
       "      <td>4</td>\n",
       "      <td>A</td>\n",
       "      <td>A</td>\n",
       "      <td>C</td>\n",
       "      <td>N</td>\n",
       "      <td>...</td>\n",
       "      <td>H</td>\n",
       "      <td>A</td>\n",
       "      <td>-118.061035</td>\n",
       "      <td>34.006775</td>\n",
       "      <td>19</td>\n",
       "      <td>0</td>\n",
       "      <td>GM</td>\n",
       "      <td>M</td>\n",
       "      <td>1</td>\n",
       "      <td>0</td>\n",
       "    </tr>\n",
       "    <tr>\n",
       "      <th>12316</th>\n",
       "      <td>90671067</td>\n",
       "      <td>2</td>\n",
       "      <td>2</td>\n",
       "      <td>2018</td>\n",
       "      <td>1705</td>\n",
       "      <td>4</td>\n",
       "      <td>A</td>\n",
       "      <td>A</td>\n",
       "      <td>C</td>\n",
       "      <td>N</td>\n",
       "      <td>...</td>\n",
       "      <td>H</td>\n",
       "      <td>A</td>\n",
       "      <td>-118.061035</td>\n",
       "      <td>34.006775</td>\n",
       "      <td>22</td>\n",
       "      <td>0</td>\n",
       "      <td>GP</td>\n",
       "      <td>M</td>\n",
       "      <td>4</td>\n",
       "      <td>0</td>\n",
       "    </tr>\n",
       "  </tbody>\n",
       "</table>\n",
       "<p>12317 rows × 29 columns</p>\n",
       "</div>"
      ],
      "text/plain": [
       "        case_id  party_number  victim_number  accident_year  collision_time  \\\n",
       "0       8789755             3              1           2019            1549   \n",
       "1       8789755             3              2           2019            1549   \n",
       "2      90698692             1              1           2018            1850   \n",
       "3      90698692             1              2           2018            1850   \n",
       "4       8296242             2              1           2017            1710   \n",
       "...         ...           ...            ...            ...             ...   \n",
       "12312  90977689             1              1           2019            1545   \n",
       "12313  91083697             2              1           2019            2325   \n",
       "12314  91146485             2              1           2019            1545   \n",
       "12315  90671067             2              1           2018            1705   \n",
       "12316  90671067             2              2           2018            1705   \n",
       "\n",
       "       day_of_week weather_1 primary_coll_factor type_of_collision at_fault  \\\n",
       "0                1         B                   A                 C        N   \n",
       "1                1         B                   A                 C        N   \n",
       "2                5         A                   A                 C        Y   \n",
       "3                5         A                   A                 C        Y   \n",
       "4                5         A                   A                 D        N   \n",
       "...            ...       ...                 ...               ...      ...   \n",
       "12312            3         A                   A                 C        Y   \n",
       "12313            3         A                   A                 B        N   \n",
       "12314            7         B                   A                 A        N   \n",
       "12315            4         A                   A                 C        N   \n",
       "12316            4         A                   A                 C        N   \n",
       "\n",
       "       ... road_cond_1 lighting     point_x    point_y  victim_age  \\\n",
       "0      ...           H        A -118.060410  33.963806          44   \n",
       "1      ...           H        A -118.060410  33.963806          10   \n",
       "2      ...           H        C -118.289986  33.859360          40   \n",
       "3      ...           H        C -118.289986  33.859360          59   \n",
       "4      ...           H        B -118.130630  34.718540          52   \n",
       "...    ...         ...      ...         ...        ...         ...   \n",
       "12312  ...           H        A -118.193039  33.890583          40   \n",
       "12313  ...           H        C -118.146523  33.995522          55   \n",
       "12314  ...           H        A -117.833542  34.292549          48   \n",
       "12315  ...           H        A -118.061035  34.006775          19   \n",
       "12316  ...           H        A -118.061035  34.006775          22   \n",
       "\n",
       "      severe_injury safety_equip_used victim_sex victim_seating_postion  \\\n",
       "0                 0                GM          F                      1   \n",
       "1                 0                GM          F                      3   \n",
       "2                 0                GP          M                      5   \n",
       "3                 0                GM          M                      3   \n",
       "4                 0                GM          M                      1   \n",
       "...             ...               ...        ...                    ...   \n",
       "12312             0                GM          M                      1   \n",
       "12313             0                GM          M                      1   \n",
       "12314             0                GM          M                      3   \n",
       "12315             0                GM          M                      1   \n",
       "12316             0                GP          M                      4   \n",
       "\n",
       "      victim_ejected  \n",
       "0                  0  \n",
       "1                  0  \n",
       "2                  0  \n",
       "3                  0  \n",
       "4                  0  \n",
       "...              ...  \n",
       "12312              0  \n",
       "12313              0  \n",
       "12314              0  \n",
       "12315              0  \n",
       "12316              0  \n",
       "\n",
       "[12317 rows x 29 columns]"
      ]
     },
     "execution_count": 6,
     "metadata": {},
     "output_type": "execute_result"
    }
   ],
   "source": [
    "# Load the data\n",
    "file_path = Path('collision_data_ml_truck.csv')\n",
    "ml_df = pd.read_csv(file_path)\n",
    "ml_df"
   ]
  },
  {
   "cell_type": "code",
   "execution_count": 7,
   "id": "8b1293b4-7183-4783-8f8d-cf348d9b9eff",
   "metadata": {},
   "outputs": [
    {
     "data": {
      "text/html": [
       "<div>\n",
       "<style scoped>\n",
       "    .dataframe tbody tr th:only-of-type {\n",
       "        vertical-align: middle;\n",
       "    }\n",
       "\n",
       "    .dataframe tbody tr th {\n",
       "        vertical-align: top;\n",
       "    }\n",
       "\n",
       "    .dataframe thead th {\n",
       "        text-align: right;\n",
       "    }\n",
       "</style>\n",
       "<table border=\"1\" class=\"dataframe\">\n",
       "  <thead>\n",
       "    <tr style=\"text-align: right;\">\n",
       "      <th></th>\n",
       "      <th>collision_time</th>\n",
       "      <th>day_of_week</th>\n",
       "      <th>weather_1</th>\n",
       "      <th>type_of_collision</th>\n",
       "      <th>party_soberiety</th>\n",
       "      <th>move_pre_acc</th>\n",
       "      <th>vehicle_year</th>\n",
       "      <th>road_surface</th>\n",
       "      <th>road_cond_1</th>\n",
       "      <th>lighting</th>\n",
       "      <th>severe_injury</th>\n",
       "      <th>safety_equip_used</th>\n",
       "      <th>victim_seating_postion</th>\n",
       "      <th>victim_ejected</th>\n",
       "    </tr>\n",
       "  </thead>\n",
       "  <tbody>\n",
       "    <tr>\n",
       "      <th>0</th>\n",
       "      <td>1549</td>\n",
       "      <td>1</td>\n",
       "      <td>B</td>\n",
       "      <td>C</td>\n",
       "      <td>A</td>\n",
       "      <td>A</td>\n",
       "      <td>2007</td>\n",
       "      <td>B</td>\n",
       "      <td>H</td>\n",
       "      <td>A</td>\n",
       "      <td>0</td>\n",
       "      <td>GM</td>\n",
       "      <td>1</td>\n",
       "      <td>0</td>\n",
       "    </tr>\n",
       "    <tr>\n",
       "      <th>1</th>\n",
       "      <td>1549</td>\n",
       "      <td>1</td>\n",
       "      <td>B</td>\n",
       "      <td>C</td>\n",
       "      <td>A</td>\n",
       "      <td>A</td>\n",
       "      <td>2007</td>\n",
       "      <td>B</td>\n",
       "      <td>H</td>\n",
       "      <td>A</td>\n",
       "      <td>0</td>\n",
       "      <td>GM</td>\n",
       "      <td>3</td>\n",
       "      <td>0</td>\n",
       "    </tr>\n",
       "    <tr>\n",
       "      <th>2</th>\n",
       "      <td>1850</td>\n",
       "      <td>5</td>\n",
       "      <td>A</td>\n",
       "      <td>C</td>\n",
       "      <td>A</td>\n",
       "      <td>B</td>\n",
       "      <td>2012</td>\n",
       "      <td>A</td>\n",
       "      <td>H</td>\n",
       "      <td>C</td>\n",
       "      <td>0</td>\n",
       "      <td>GP</td>\n",
       "      <td>5</td>\n",
       "      <td>0</td>\n",
       "    </tr>\n",
       "    <tr>\n",
       "      <th>3</th>\n",
       "      <td>1850</td>\n",
       "      <td>5</td>\n",
       "      <td>A</td>\n",
       "      <td>C</td>\n",
       "      <td>A</td>\n",
       "      <td>B</td>\n",
       "      <td>2012</td>\n",
       "      <td>A</td>\n",
       "      <td>H</td>\n",
       "      <td>C</td>\n",
       "      <td>0</td>\n",
       "      <td>GM</td>\n",
       "      <td>3</td>\n",
       "      <td>0</td>\n",
       "    </tr>\n",
       "    <tr>\n",
       "      <th>4</th>\n",
       "      <td>1710</td>\n",
       "      <td>5</td>\n",
       "      <td>A</td>\n",
       "      <td>D</td>\n",
       "      <td>A</td>\n",
       "      <td>B</td>\n",
       "      <td>2005</td>\n",
       "      <td>A</td>\n",
       "      <td>H</td>\n",
       "      <td>B</td>\n",
       "      <td>0</td>\n",
       "      <td>GM</td>\n",
       "      <td>1</td>\n",
       "      <td>0</td>\n",
       "    </tr>\n",
       "    <tr>\n",
       "      <th>...</th>\n",
       "      <td>...</td>\n",
       "      <td>...</td>\n",
       "      <td>...</td>\n",
       "      <td>...</td>\n",
       "      <td>...</td>\n",
       "      <td>...</td>\n",
       "      <td>...</td>\n",
       "      <td>...</td>\n",
       "      <td>...</td>\n",
       "      <td>...</td>\n",
       "      <td>...</td>\n",
       "      <td>...</td>\n",
       "      <td>...</td>\n",
       "      <td>...</td>\n",
       "    </tr>\n",
       "    <tr>\n",
       "      <th>12312</th>\n",
       "      <td>1545</td>\n",
       "      <td>3</td>\n",
       "      <td>A</td>\n",
       "      <td>C</td>\n",
       "      <td>A</td>\n",
       "      <td>B</td>\n",
       "      <td>2004</td>\n",
       "      <td>A</td>\n",
       "      <td>H</td>\n",
       "      <td>A</td>\n",
       "      <td>0</td>\n",
       "      <td>GM</td>\n",
       "      <td>1</td>\n",
       "      <td>0</td>\n",
       "    </tr>\n",
       "    <tr>\n",
       "      <th>12313</th>\n",
       "      <td>2325</td>\n",
       "      <td>3</td>\n",
       "      <td>A</td>\n",
       "      <td>B</td>\n",
       "      <td>A</td>\n",
       "      <td>B</td>\n",
       "      <td>1996</td>\n",
       "      <td>A</td>\n",
       "      <td>H</td>\n",
       "      <td>C</td>\n",
       "      <td>0</td>\n",
       "      <td>GM</td>\n",
       "      <td>1</td>\n",
       "      <td>0</td>\n",
       "    </tr>\n",
       "    <tr>\n",
       "      <th>12314</th>\n",
       "      <td>1545</td>\n",
       "      <td>7</td>\n",
       "      <td>B</td>\n",
       "      <td>A</td>\n",
       "      <td>A</td>\n",
       "      <td>B</td>\n",
       "      <td>1998</td>\n",
       "      <td>B</td>\n",
       "      <td>H</td>\n",
       "      <td>A</td>\n",
       "      <td>0</td>\n",
       "      <td>GM</td>\n",
       "      <td>3</td>\n",
       "      <td>0</td>\n",
       "    </tr>\n",
       "    <tr>\n",
       "      <th>12315</th>\n",
       "      <td>1705</td>\n",
       "      <td>4</td>\n",
       "      <td>A</td>\n",
       "      <td>C</td>\n",
       "      <td>A</td>\n",
       "      <td>A</td>\n",
       "      <td>2015</td>\n",
       "      <td>A</td>\n",
       "      <td>H</td>\n",
       "      <td>A</td>\n",
       "      <td>0</td>\n",
       "      <td>GM</td>\n",
       "      <td>1</td>\n",
       "      <td>0</td>\n",
       "    </tr>\n",
       "    <tr>\n",
       "      <th>12316</th>\n",
       "      <td>1705</td>\n",
       "      <td>4</td>\n",
       "      <td>A</td>\n",
       "      <td>C</td>\n",
       "      <td>A</td>\n",
       "      <td>A</td>\n",
       "      <td>2015</td>\n",
       "      <td>A</td>\n",
       "      <td>H</td>\n",
       "      <td>A</td>\n",
       "      <td>0</td>\n",
       "      <td>GP</td>\n",
       "      <td>4</td>\n",
       "      <td>0</td>\n",
       "    </tr>\n",
       "  </tbody>\n",
       "</table>\n",
       "<p>12317 rows × 14 columns</p>\n",
       "</div>"
      ],
      "text/plain": [
       "       collision_time  day_of_week weather_1 type_of_collision  \\\n",
       "0                1549            1         B                 C   \n",
       "1                1549            1         B                 C   \n",
       "2                1850            5         A                 C   \n",
       "3                1850            5         A                 C   \n",
       "4                1710            5         A                 D   \n",
       "...               ...          ...       ...               ...   \n",
       "12312            1545            3         A                 C   \n",
       "12313            2325            3         A                 B   \n",
       "12314            1545            7         B                 A   \n",
       "12315            1705            4         A                 C   \n",
       "12316            1705            4         A                 C   \n",
       "\n",
       "      party_soberiety move_pre_acc  vehicle_year road_surface road_cond_1  \\\n",
       "0                   A            A          2007            B           H   \n",
       "1                   A            A          2007            B           H   \n",
       "2                   A            B          2012            A           H   \n",
       "3                   A            B          2012            A           H   \n",
       "4                   A            B          2005            A           H   \n",
       "...               ...          ...           ...          ...         ...   \n",
       "12312               A            B          2004            A           H   \n",
       "12313               A            B          1996            A           H   \n",
       "12314               A            B          1998            B           H   \n",
       "12315               A            A          2015            A           H   \n",
       "12316               A            A          2015            A           H   \n",
       "\n",
       "      lighting  severe_injury safety_equip_used  victim_seating_postion  \\\n",
       "0            A              0                GM                       1   \n",
       "1            A              0                GM                       3   \n",
       "2            C              0                GP                       5   \n",
       "3            C              0                GM                       3   \n",
       "4            B              0                GM                       1   \n",
       "...        ...            ...               ...                     ...   \n",
       "12312        A              0                GM                       1   \n",
       "12313        C              0                GM                       1   \n",
       "12314        A              0                GM                       3   \n",
       "12315        A              0                GM                       1   \n",
       "12316        A              0                GP                       4   \n",
       "\n",
       "       victim_ejected  \n",
       "0                   0  \n",
       "1                   0  \n",
       "2                   0  \n",
       "3                   0  \n",
       "4                   0  \n",
       "...               ...  \n",
       "12312               0  \n",
       "12313               0  \n",
       "12314               0  \n",
       "12315               0  \n",
       "12316               0  \n",
       "\n",
       "[12317 rows x 14 columns]"
      ]
     },
     "execution_count": 7,
     "metadata": {},
     "output_type": "execute_result"
    }
   ],
   "source": [
    "ml_df = ml_df.drop(columns=[\"case_id\", \"party_number\", \"victim_number\", \n",
    "                            \"accident_year\", \"vehicle_make\", \"point_x\", \n",
    "                            \"point_y\", \"stwd_vehicle_type\", \"oaf_1\", \n",
    "                            \"primary_coll_factor\", \"party_sex\", \"at_fault\",\n",
    "                           \"victim_age\", \"victim_sex\", \"race\"])\n",
    "ml_df            "
   ]
  },
  {
   "cell_type": "code",
   "execution_count": 8,
   "id": "758e5953-954c-4525-8f69-88166c016dc5",
   "metadata": {},
   "outputs": [
    {
     "data": {
      "text/plain": [
       "weather_1            object\n",
       "type_of_collision    object\n",
       "party_soberiety      object\n",
       "move_pre_acc         object\n",
       "road_surface         object\n",
       "road_cond_1          object\n",
       "lighting             object\n",
       "safety_equip_used    object\n",
       "dtype: object"
      ]
     },
     "execution_count": 8,
     "metadata": {},
     "output_type": "execute_result"
    }
   ],
   "source": [
    "ml_df.dtypes[ml_df.dtypes != 'int64'][ml_df.dtypes != 'float64']"
   ]
  },
  {
   "cell_type": "code",
   "execution_count": 9,
   "id": "bafe66ca-b0a7-45e3-9462-213dbabbacc2",
   "metadata": {},
   "outputs": [
    {
     "data": {
      "text/plain": [
       "A    10686\n",
       "B     1221\n",
       "C      378\n",
       "E       13\n",
       "F        9\n",
       "G        6\n",
       "D        4\n",
       "Name: weather_1, dtype: int64"
      ]
     },
     "execution_count": 9,
     "metadata": {},
     "output_type": "execute_result"
    }
   ],
   "source": [
    "# Check weather data\n",
    "ml_df[\"weather_1\"].value_counts()"
   ]
  },
  {
   "cell_type": "markdown",
   "id": "219f3b66-393f-44bf-9a53-12d9f71677ec",
   "metadata": {},
   "source": [
    "A - Clear\n",
    "B - Cloudy\n",
    "C - Raining\n",
    "D - Snowing\n",
    "E - Fog\n",
    "F - Other\n",
    "G - Wind"
   ]
  },
  {
   "cell_type": "code",
   "execution_count": 11,
   "id": "5edd9eee-76f6-4259-9961-61792268b4d4",
   "metadata": {},
   "outputs": [],
   "source": [
    "# Check collision factor\n",
    "# ml_df[\"primary_coll_factor\"].value_counts()"
   ]
  },
  {
   "cell_type": "markdown",
   "id": "24f31609-4f75-4ead-96ba-ae69fd8859cf",
   "metadata": {},
   "source": [
    "A - (Vehicle) Code Violation\n",
    "B - Other Improper Driving"
   ]
  },
  {
   "cell_type": "code",
   "execution_count": 12,
   "id": "46086bde-e146-4676-b7d3-4fe4b7cfa18b",
   "metadata": {},
   "outputs": [
    {
     "data": {
      "text/plain": [
       "C    5054\n",
       "D    3812\n",
       "B    1254\n",
       "A     962\n",
       "E     902\n",
       "F     168\n",
       "G     115\n",
       "H      50\n",
       "Name: type_of_collision, dtype: int64"
      ]
     },
     "execution_count": 12,
     "metadata": {},
     "output_type": "execute_result"
    }
   ],
   "source": [
    "# Check type of collision\n",
    "ml_df[\"type_of_collision\"].value_counts()"
   ]
  },
  {
   "cell_type": "markdown",
   "id": "516eaca9-9096-41c1-8c06-5528958fb257",
   "metadata": {},
   "source": [
    "A - Head-On\n",
    "B - Sideswipe\n",
    "C - Rear End\n",
    "D - Broadside\n",
    "E - Hit Object\n",
    "F - Overturned\n",
    "G - Vehicle/Pedestrian\n",
    "H - Other"
   ]
  },
  {
   "cell_type": "code",
   "execution_count": 14,
   "id": "ec673cba-11c1-4381-a619-13718b0ea77e",
   "metadata": {},
   "outputs": [],
   "source": [
    "# Check at fault data\n",
    "# ml_df[\"at_fault\"].value_counts()"
   ]
  },
  {
   "cell_type": "code",
   "execution_count": 10,
   "id": "94972ac9-aeeb-4de1-bf0a-45a37bba96cc",
   "metadata": {},
   "outputs": [
    {
     "data": {
      "text/plain": [
       "M    86648\n",
       "F    85700\n",
       "X        4\n",
       "Name: party_sex, dtype: int64"
      ]
     },
     "execution_count": 10,
     "metadata": {},
     "output_type": "execute_result"
    }
   ],
   "source": [
    "# Check victim sex data\n",
    "ml_df[\"party_sex\"].value_counts()"
   ]
  },
  {
   "cell_type": "code",
   "execution_count": 11,
   "id": "fc74966b-6123-4faa-a4a0-80a5a6649a08",
   "metadata": {},
   "outputs": [
    {
     "data": {
      "text/plain": [
       "A    158264\n",
       "B      6170\n",
       "H      3327\n",
       "G      2674\n",
       "C      1548\n",
       "D       369\n",
       "Name: party_soberiety, dtype: int64"
      ]
     },
     "execution_count": 11,
     "metadata": {},
     "output_type": "execute_result"
    }
   ],
   "source": [
    "# Check sobriety factor\n",
    "ml_df[\"party_soberiety\"].value_counts()"
   ]
  },
  {
   "cell_type": "markdown",
   "id": "b62658e4-da8d-4a0b-97f0-92ec4faab363",
   "metadata": {},
   "source": [
    "A - Had not been Drinking\n",
    "B - Had been Drinking, Under Influence\n",
    "C - Had been Drinking, Not Under Influence\n",
    "D - Had been Drinking, Impairment Unknown\n",
    "G - Impairment Unknown\n",
    "H - Not Applicable"
   ]
  },
  {
   "cell_type": "code",
   "execution_count": 17,
   "id": "9466501d-f5e5-4880-9b91-77dc22385dd5",
   "metadata": {},
   "outputs": [],
   "source": [
    "# Check oaf factor\n",
    "# ml_df[\"oaf_1\"].value_counts()"
   ]
  },
  {
   "cell_type": "markdown",
   "id": "b5a8df96-bc39-4a27-aacb-c9b751f18c4a",
   "metadata": {},
   "source": [
    "A - Violation\n",
    "E - Vision Obscurements\n",
    "F - Inattention (beginning 1/1/01; see Inattention Item Name near end of record for A-K, P values)\n",
    "G - Stop and Go Traffic\n",
    "H - Entering/Leaving Ramp\n",
    "I - Previous Collision\n",
    "J - Unfamiliar With Road\n",
    "K - Defective Vehicle Equipment\n",
    "L - Uninvolved Vehicle\n",
    "M - Other\n",
    "N - None Apparent\n",
    "O - Runaway Vehicle\n",
    "P - Inattention, Cell Phone (1/1/01)\n",
    "Q - Inattention, Electronic Equip.(1/1/01)\n",
    "R - Inattention, Radio/CD (1/1/01)\n",
    "S - Inattention, Smoking (1/1/01)\n",
    "T - Inattention, Eating (1/1/01)\n",
    "U - Inattention, Children (1/1/01)\n",
    "V - Inattention, Animal (1/1/01)\n",
    "W - Inattention, Personal Hygiene (1/1/01)\n",
    "X - Inattention, Reading (1/1/01)\n",
    "Y - Inattention, Other (1/1/01)\n",
    "- - Not Stated"
   ]
  },
  {
   "cell_type": "code",
   "execution_count": null,
   "id": "6723b082-1903-44a8-a647-ab8159cb59d8",
   "metadata": {},
   "outputs": [],
   "source": []
  },
  {
   "cell_type": "code",
   "execution_count": 19,
   "id": "34d2ee41-13f7-4857-a29a-5f4cb06929b5",
   "metadata": {},
   "outputs": [
    {
     "data": {
      "text/plain": [
       "B    6259\n",
       "A    2436\n",
       "E    1128\n",
       "H     866\n",
       "R     381\n",
       "M     256\n",
       "J     213\n",
       "D     197\n",
       "C     154\n",
       "L     125\n",
       "F     108\n",
       "N      66\n",
       "G      44\n",
       "I      26\n",
       "Q      20\n",
       "P      17\n",
       "K      12\n",
       "O       9\n",
       "Name: move_pre_acc, dtype: int64"
      ]
     },
     "execution_count": 19,
     "metadata": {},
     "output_type": "execute_result"
    }
   ],
   "source": [
    "# Check movement pre accident factor\n",
    "move_pre_acc = ml_df[\"move_pre_acc\"].value_counts()\n",
    "move_pre_acc"
   ]
  },
  {
   "cell_type": "code",
   "execution_count": 20,
   "id": "384989ea-ecc7-4b47-b782-0bb2f6e2727b",
   "metadata": {},
   "outputs": [
    {
     "data": {
      "image/png": "[encoded data removed]",
      "text/plain": [
       "<Figure size 432x288 with 1 Axes>"
      ]
     },
     "metadata": {
      "needs_background": "light"
     },
     "output_type": "display_data"
    }
   ],
   "source": [
    "# Visualize the value counts of move_pre_acc\n",
    "plot = move_pre_acc.plot.density()\n",
    "fig = plot.get_figure()\n"
   ]
  },
  {
   "cell_type": "markdown",
   "id": "d980bcbd-9b64-4803-9772-094e704ebe9a",
   "metadata": {},
   "source": [
    "A - Stopped\n",
    "B - Proceeding Straight\n",
    "C - Ran Off Road\n",
    "D - Making Right Turn\n",
    "E - Making Left Turn\n",
    "F - Making U-Turn\n",
    "G - Backing\n",
    "H - Slowing/Stopping\n",
    "I - Passing Other Vehicle\n",
    "J - Changing Lanes\n",
    "K - Parking Maneuver\n",
    "L - Entering Traffic\n",
    "M - Other Unsafe Turning\n",
    "N - Crossed Into Opposing Lane\n",
    "O - Parked\n",
    "P - Merging\n",
    "Q - Traveling Wrong Way\n",
    "R - Other\n",
    "- - Not Stated"
   ]
  },
  {
   "cell_type": "code",
   "execution_count": 22,
   "id": "043bc793-8f9c-4cfd-a839-273151e37c65",
   "metadata": {},
   "outputs": [],
   "source": [
    "# Check race feature\n",
    "# ml_df[\"race\"].value_counts()"
   ]
  },
  {
   "cell_type": "code",
   "execution_count": 23,
   "id": "996794db-e8ca-45d9-b564-22e74cee0cc2",
   "metadata": {},
   "outputs": [
    {
     "data": {
      "text/plain": [
       "A    11486\n",
       "B      808\n",
       "C       20\n",
       "D        3\n",
       "Name: road_surface, dtype: int64"
      ]
     },
     "execution_count": 23,
     "metadata": {},
     "output_type": "execute_result"
    }
   ],
   "source": [
    "# Check road type factor\n",
    "ml_df[\"road_surface\"].value_counts()"
   ]
  },
  {
   "cell_type": "markdown",
   "id": "4c06f2bc-95a2-4353-ae9e-8318a4a3505d",
   "metadata": {},
   "source": [
    "A - Dry\n",
    "B - Wet\n",
    "C - Snowy or Icy\n",
    "D - Slippery (Muddy, Oily, etc.)"
   ]
  },
  {
   "cell_type": "code",
   "execution_count": 25,
   "id": "200d8294-b7c8-45f4-a6fa-c811eb0d497c",
   "metadata": {},
   "outputs": [
    {
     "data": {
      "text/plain": [
       "H    12043\n",
       "D      190\n",
       "C       32\n",
       "G       19\n",
       "A       15\n",
       "F       12\n",
       "E        4\n",
       "B        2\n",
       "Name: road_cond_1, dtype: int64"
      ]
     },
     "execution_count": 25,
     "metadata": {},
     "output_type": "execute_result"
    }
   ],
   "source": [
    "# Check road conditions factor\n",
    "ml_df[\"road_cond_1\"].value_counts()"
   ]
  },
  {
   "cell_type": "markdown",
   "id": "0d231ae2-649b-4c4a-812f-f662f8fdbe73",
   "metadata": {},
   "source": [
    "\t\n",
    "A - Holes, Deep Ruts\n",
    "B - Loose Material on Roadway\n",
    "C - Obstruction on Roadway\n",
    "D - Construction or Repair Zone\n",
    "E - Reduced Roadway Width\n",
    "F - Flooded\n",
    "G - Other\n",
    "H - No Unusual Condition"
   ]
  },
  {
   "cell_type": "code",
   "execution_count": 26,
   "id": "ac657762-6bb2-42d8-a928-a1471a350106",
   "metadata": {},
   "outputs": [
    {
     "data": {
      "text/plain": [
       "A    8765\n",
       "C    2526\n",
       "D     560\n",
       "B     452\n",
       "E      14\n",
       "Name: lighting, dtype: int64"
      ]
     },
     "execution_count": 26,
     "metadata": {},
     "output_type": "execute_result"
    }
   ],
   "source": [
    "# Check lighting conditions factor\n",
    "ml_df[\"lighting\"].value_counts()"
   ]
  },
  {
   "cell_type": "markdown",
   "id": "bc6b2b65-92a5-4866-898c-8bf380686d63",
   "metadata": {},
   "source": [
    "\t\n",
    "A - Daylight\n",
    "B - Dusk - Dawn\n",
    "C - Dark - Street Lights\n",
    "D - Dark - No Street Lights\n",
    "E - Dark - Street Lights Not "
   ]
  },
  {
   "cell_type": "code",
   "execution_count": 27,
   "id": "872f18ac-6394-4651-898d-84870b3d5bd2",
   "metadata": {},
   "outputs": [
    {
     "data": {
      "text/plain": [
       "GM    7901\n",
       "GL    3039\n",
       "GP     509\n",
       "MQ     142\n",
       "HM     104\n",
       "HL      89\n",
       "BM      60\n",
       "PQ      57\n",
       "CM      55\n",
       "BL      42\n",
       "LQ      34\n",
       "CP      24\n",
       "HP      20\n",
       "LM      19\n",
       "CL      19\n",
       "GN      18\n",
       "FM      16\n",
       "EM      16\n",
       "BP      15\n",
       "BG      13\n",
       "MP      11\n",
       "EL       9\n",
       "PW       7\n",
       "AP       6\n",
       "FL       6\n",
       "LU       6\n",
       "MU       6\n",
       "AL       6\n",
       "PP       5\n",
       "AM       5\n",
       "PU       4\n",
       "BN       4\n",
       "DM       4\n",
       "KM       3\n",
       "MN       3\n",
       "JQ       3\n",
       "CN       3\n",
       "MS       3\n",
       "EP       2\n",
       "AG       2\n",
       "MR       2\n",
       "GH       2\n",
       "BB       2\n",
       "DN       2\n",
       "LN       1\n",
       "KL       1\n",
       "PT       1\n",
       "JP       1\n",
       "FP       1\n",
       "CG       1\n",
       "DL       1\n",
       "FN       1\n",
       "HN       1\n",
       "MT       1\n",
       "DP       1\n",
       "NQ       1\n",
       "PR       1\n",
       "HU       1\n",
       "GU       1\n",
       "CY       1\n",
       "NY       1\n",
       "DQ       1\n",
       "LP       1\n",
       "Name: safety_equip_used, dtype: int64"
      ]
     },
     "execution_count": 27,
     "metadata": {},
     "output_type": "execute_result"
    }
   ],
   "source": [
    "# Check safety equipment used conditions factor\n",
    "pd.set_option('display.max_rows', 120)\n",
    "ml_df[\"safety_equip_used\"].value_counts()"
   ]
  },
  {
   "cell_type": "markdown",
   "id": "79465582-d3c7-4a38-968a-e7f4dc159a2a",
   "metadata": {},
   "source": [
    "A - None in Vehicle\n",
    "B - Unknown\n",
    "C - Lap Belt Used\n",
    "D - Lap Belt Not Used\n",
    "E - Shoulder Harness Used\n",
    "F - Shoulder Harness Not Used\n",
    "G - Lap/Shoulder Harness Used\n",
    "H - Lap/Shoulder Harness Not Used\n",
    "J - Passive Restraint Used\n",
    "K - Passive Restraint Not Used\n",
    "L - Air Bag Deployed\n",
    "M - Air Bag Not Deployed\n",
    "N - Other\n",
    "P - Not Required\n",
    "Q - Child Restraint in Vehicle Used\n",
    "R - Child Restraint in Vehicle Not Used\n",
    "S - Child Restraint in Vehicle, Use Unknown\n",
    "T - Child Restraint in Vehicle, Improper Use\n",
    "U - No Child Restraint in Vehicle\n",
    "V - Driver, Motorcycle Helmet Not Used\n",
    "W - Driver, Motorcycle Helmet Used\n",
    "X - Passenger, Motorcycle Helmet Not Used\n",
    "Y - Passenger, Motorcycle Helmet Used\n",
    "- or blank - Not Stated AX  Z ˛z"
   ]
  },
  {
   "cell_type": "code",
   "execution_count": 29,
   "id": "e07bb356-d7c1-4996-b54c-5236abc77fdd",
   "metadata": {},
   "outputs": [],
   "source": [
    "# Check safety equipment used conditions factor\n",
    "# ml_df[\"victim_sex\"].value_counts()"
   ]
  },
  {
   "cell_type": "markdown",
   "id": "8b0ac4e9-e7a2-499e-9261-9fbc13e4d890",
   "metadata": {},
   "source": [
    "# Machine Learning Modeling"
   ]
  },
  {
   "cell_type": "code",
   "execution_count": 31,
   "id": "454efa22-f466-4e3f-9581-191db25f3102",
   "metadata": {},
   "outputs": [
    {
     "data": {
      "text/html": [
       "<div>\n",
       "<style scoped>\n",
       "    .dataframe tbody tr th:only-of-type {\n",
       "        vertical-align: middle;\n",
       "    }\n",
       "\n",
       "    .dataframe tbody tr th {\n",
       "        vertical-align: top;\n",
       "    }\n",
       "\n",
       "    .dataframe thead th {\n",
       "        text-align: right;\n",
       "    }\n",
       "</style>\n",
       "<table border=\"1\" class=\"dataframe\">\n",
       "  <thead>\n",
       "    <tr style=\"text-align: right;\">\n",
       "      <th></th>\n",
       "      <th>collision_time</th>\n",
       "      <th>day_of_week</th>\n",
       "      <th>vehicle_year</th>\n",
       "      <th>severe_injury</th>\n",
       "      <th>victim_seating_postion</th>\n",
       "      <th>victim_ejected</th>\n",
       "      <th>weather_1_A</th>\n",
       "      <th>weather_1_B</th>\n",
       "      <th>weather_1_C</th>\n",
       "      <th>weather_1_D</th>\n",
       "      <th>...</th>\n",
       "      <th>safety_equip_used_MT</th>\n",
       "      <th>safety_equip_used_MU</th>\n",
       "      <th>safety_equip_used_NQ</th>\n",
       "      <th>safety_equip_used_NY</th>\n",
       "      <th>safety_equip_used_PP</th>\n",
       "      <th>safety_equip_used_PQ</th>\n",
       "      <th>safety_equip_used_PR</th>\n",
       "      <th>safety_equip_used_PT</th>\n",
       "      <th>safety_equip_used_PU</th>\n",
       "      <th>safety_equip_used_PW</th>\n",
       "    </tr>\n",
       "  </thead>\n",
       "  <tbody>\n",
       "    <tr>\n",
       "      <th>0</th>\n",
       "      <td>1549</td>\n",
       "      <td>1</td>\n",
       "      <td>2007</td>\n",
       "      <td>0</td>\n",
       "      <td>1</td>\n",
       "      <td>0</td>\n",
       "      <td>0</td>\n",
       "      <td>1</td>\n",
       "      <td>0</td>\n",
       "      <td>0</td>\n",
       "      <td>...</td>\n",
       "      <td>0</td>\n",
       "      <td>0</td>\n",
       "      <td>0</td>\n",
       "      <td>0</td>\n",
       "      <td>0</td>\n",
       "      <td>0</td>\n",
       "      <td>0</td>\n",
       "      <td>0</td>\n",
       "      <td>0</td>\n",
       "      <td>0</td>\n",
       "    </tr>\n",
       "    <tr>\n",
       "      <th>1</th>\n",
       "      <td>1549</td>\n",
       "      <td>1</td>\n",
       "      <td>2007</td>\n",
       "      <td>0</td>\n",
       "      <td>3</td>\n",
       "      <td>0</td>\n",
       "      <td>0</td>\n",
       "      <td>1</td>\n",
       "      <td>0</td>\n",
       "      <td>0</td>\n",
       "      <td>...</td>\n",
       "      <td>0</td>\n",
       "      <td>0</td>\n",
       "      <td>0</td>\n",
       "      <td>0</td>\n",
       "      <td>0</td>\n",
       "      <td>0</td>\n",
       "      <td>0</td>\n",
       "      <td>0</td>\n",
       "      <td>0</td>\n",
       "      <td>0</td>\n",
       "    </tr>\n",
       "    <tr>\n",
       "      <th>2</th>\n",
       "      <td>1850</td>\n",
       "      <td>5</td>\n",
       "      <td>2012</td>\n",
       "      <td>0</td>\n",
       "      <td>5</td>\n",
       "      <td>0</td>\n",
       "      <td>1</td>\n",
       "      <td>0</td>\n",
       "      <td>0</td>\n",
       "      <td>0</td>\n",
       "      <td>...</td>\n",
       "      <td>0</td>\n",
       "      <td>0</td>\n",
       "      <td>0</td>\n",
       "      <td>0</td>\n",
       "      <td>0</td>\n",
       "      <td>0</td>\n",
       "      <td>0</td>\n",
       "      <td>0</td>\n",
       "      <td>0</td>\n",
       "      <td>0</td>\n",
       "    </tr>\n",
       "    <tr>\n",
       "      <th>3</th>\n",
       "      <td>1850</td>\n",
       "      <td>5</td>\n",
       "      <td>2012</td>\n",
       "      <td>0</td>\n",
       "      <td>3</td>\n",
       "      <td>0</td>\n",
       "      <td>1</td>\n",
       "      <td>0</td>\n",
       "      <td>0</td>\n",
       "      <td>0</td>\n",
       "      <td>...</td>\n",
       "      <td>0</td>\n",
       "      <td>0</td>\n",
       "      <td>0</td>\n",
       "      <td>0</td>\n",
       "      <td>0</td>\n",
       "      <td>0</td>\n",
       "      <td>0</td>\n",
       "      <td>0</td>\n",
       "      <td>0</td>\n",
       "      <td>0</td>\n",
       "    </tr>\n",
       "    <tr>\n",
       "      <th>4</th>\n",
       "      <td>1710</td>\n",
       "      <td>5</td>\n",
       "      <td>2005</td>\n",
       "      <td>0</td>\n",
       "      <td>1</td>\n",
       "      <td>0</td>\n",
       "      <td>1</td>\n",
       "      <td>0</td>\n",
       "      <td>0</td>\n",
       "      <td>0</td>\n",
       "      <td>...</td>\n",
       "      <td>0</td>\n",
       "      <td>0</td>\n",
       "      <td>0</td>\n",
       "      <td>0</td>\n",
       "      <td>0</td>\n",
       "      <td>0</td>\n",
       "      <td>0</td>\n",
       "      <td>0</td>\n",
       "      <td>0</td>\n",
       "      <td>0</td>\n",
       "    </tr>\n",
       "  </tbody>\n",
       "</table>\n",
       "<p>5 rows × 125 columns</p>\n",
       "</div>"
      ],
      "text/plain": [
       "   collision_time  day_of_week  vehicle_year  severe_injury  \\\n",
       "0            1549            1          2007              0   \n",
       "1            1549            1          2007              0   \n",
       "2            1850            5          2012              0   \n",
       "3            1850            5          2012              0   \n",
       "4            1710            5          2005              0   \n",
       "\n",
       "   victim_seating_postion  victim_ejected  weather_1_A  weather_1_B  \\\n",
       "0                       1               0            0            1   \n",
       "1                       3               0            0            1   \n",
       "2                       5               0            1            0   \n",
       "3                       3               0            1            0   \n",
       "4                       1               0            1            0   \n",
       "\n",
       "   weather_1_C  weather_1_D  ...  safety_equip_used_MT  safety_equip_used_MU  \\\n",
       "0            0            0  ...                     0                     0   \n",
       "1            0            0  ...                     0                     0   \n",
       "2            0            0  ...                     0                     0   \n",
       "3            0            0  ...                     0                     0   \n",
       "4            0            0  ...                     0                     0   \n",
       "\n",
       "   safety_equip_used_NQ  safety_equip_used_NY  safety_equip_used_PP  \\\n",
       "0                     0                     0                     0   \n",
       "1                     0                     0                     0   \n",
       "2                     0                     0                     0   \n",
       "3                     0                     0                     0   \n",
       "4                     0                     0                     0   \n",
       "\n",
       "   safety_equip_used_PQ  safety_equip_used_PR  safety_equip_used_PT  \\\n",
       "0                     0                     0                     0   \n",
       "1                     0                     0                     0   \n",
       "2                     0                     0                     0   \n",
       "3                     0                     0                     0   \n",
       "4                     0                     0                     0   \n",
       "\n",
       "   safety_equip_used_PU  safety_equip_used_PW  \n",
       "0                     0                     0  \n",
       "1                     0                     0  \n",
       "2                     0                     0  \n",
       "3                     0                     0  \n",
       "4                     0                     0  \n",
       "\n",
       "[5 rows x 125 columns]"
      ]
     },
     "execution_count": 31,
     "metadata": {},
     "output_type": "execute_result"
    }
   ],
   "source": [
    "# Convert strings to numeric values\n",
    "from sklearn.preprocessing import LabelEncoder\n",
    "ml_encoded = pd.get_dummies(ml_df, columns=[\"weather_1\", \"type_of_collision\", \"party_soberiety\", \n",
    "                                            \"move_pre_acc\", \"road_surface\", \"road_cond_1\", \n",
    "                                            \"lighting\", \"safety_equip_used\"])\n",
    "ml_encoded.head()\n"
   ]
  },
  {
   "cell_type": "code",
   "execution_count": 72,
   "id": "71de31a0-1401-4346-86db-82c664ec2a40",
   "metadata": {},
   "outputs": [],
   "source": [
    "# Create our features\n",
    "X = ml_encoded.drop(\"severe_injury\", axis=1)\n",
    "X.head()\n",
    "\n",
    "# Create our target\n",
    "y = ml_encoded[\"severe_injury\"]"
   ]
  },
  {
   "cell_type": "code",
   "execution_count": 73,
   "id": "d9894e93-67ff-46c1-be9b-4294aa872b11",
   "metadata": {},
   "outputs": [
    {
     "data": {
      "text/plain": [
       "0    11941\n",
       "1      376\n",
       "Name: severe_injury, dtype: int64"
      ]
     },
     "execution_count": 73,
     "metadata": {},
     "output_type": "execute_result"
    }
   ],
   "source": [
    "# Check the balance of our target values\n",
    "y.value_counts()"
   ]
  },
  {
   "cell_type": "code",
   "execution_count": 74,
   "id": "22fa4e7d-3669-4038-a1b8-3d51e6a93936",
   "metadata": {},
   "outputs": [
    {
     "name": "stdout",
     "output_type": "stream",
     "text": [
      "Training Set X (9237, 124)\n",
      "Testing Set X (3080, 124)\n",
      "Training Set y (9237,)\n",
      "Testing Set y (3080,)\n"
     ]
    }
   ],
   "source": [
    "# Create training and testing sets\n",
    "from sklearn.model_selection import train_test_split\n",
    "from sklearn.preprocessing import StandardScaler\n",
    "\n",
    "X_train, X_test, y_train, y_test = train_test_split(X, y, random_state=1)\n",
    "\n",
    "# Determine the shape of our training and testing sets.\n",
    "print(f\"Training Set X\", X_train.shape)\n",
    "print(f\"Testing Set X\", X_test.shape)\n",
    "print(f\"Training Set y\", y_train.shape)\n",
    "print(f\"Testing Set y\", y_test.shape)"
   ]
  },
  {
   "cell_type": "markdown",
   "id": "a8dd934d-e1e2-47c9-9707-9dabe4dfec0a",
   "metadata": {},
   "source": [
    "# Random Oversampler"
   ]
  },
  {
   "cell_type": "code",
   "execution_count": 35,
   "id": "d18a8b97-f75b-4a43-800b-cfc099ef9b60",
   "metadata": {},
   "outputs": [
    {
     "data": {
      "text/plain": [
       "Counter({0: 8949, 1: 8949})"
      ]
     },
     "execution_count": 35,
     "metadata": {},
     "output_type": "execute_result"
    }
   ],
   "source": [
    "# Resample the training data with the RandomOversampler\n",
    "from imblearn.over_sampling import RandomOverSampler\n",
    "ros = RandomOverSampler(random_state=1)\n",
    "X_resampled, y_resampled = ros.fit_resample(X_train, y_train)\n",
    "Counter(y_resampled)"
   ]
  },
  {
   "cell_type": "code",
   "execution_count": 36,
   "id": "bec3bef8-f5e4-4abd-80f1-6a419305105e",
   "metadata": {},
   "outputs": [
    {
     "data": {
      "text/plain": [
       "LogisticRegression(random_state=1)"
      ]
     },
     "execution_count": 36,
     "metadata": {},
     "output_type": "execute_result"
    }
   ],
   "source": [
    "# Train the Logistic Regression model using the resampled data\n",
    "from sklearn.linear_model import LogisticRegression\n",
    "\n",
    "model = LogisticRegression(solver='lbfgs', random_state=1)\n",
    "model.fit(X_resampled, y_resampled)"
   ]
  },
  {
   "cell_type": "code",
   "execution_count": 37,
   "id": "327c87bc-512b-465a-aac4-b4aacc245933",
   "metadata": {},
   "outputs": [
    {
     "name": "stdout",
     "output_type": "stream",
     "text": [
      "Training Score: 0.8211540543466493\n",
      "Testing Score: 0.8207792207792208\n"
     ]
    }
   ],
   "source": [
    "print(f'Training Score: {model.score(X_train, y_train)}')\n",
    "print(f'Testing Score: {model.score(X_test, y_test)}')"
   ]
  },
  {
   "cell_type": "code",
   "execution_count": 38,
   "id": "e8e4c74c-4e56-46b4-b6f6-4a6eb3b5005a",
   "metadata": {},
   "outputs": [
    {
     "data": {
      "text/plain": [
       "0.7698863636363636"
      ]
     },
     "execution_count": 38,
     "metadata": {},
     "output_type": "execute_result"
    }
   ],
   "source": [
    "# Calculated the balanced accuracy score\n",
    "from sklearn.metrics import balanced_accuracy_score\n",
    "y_pred = model.predict(X_test)\n",
    "balanced_accuracy_score(y_test, y_pred)"
   ]
  },
  {
   "cell_type": "code",
   "execution_count": 39,
   "id": "2fed8e17-4c77-4df8-b847-c6bd70d62ac8",
   "metadata": {},
   "outputs": [
    {
     "data": {
      "text/html": [
       "<div>\n",
       "<style scoped>\n",
       "    .dataframe tbody tr th:only-of-type {\n",
       "        vertical-align: middle;\n",
       "    }\n",
       "\n",
       "    .dataframe tbody tr th {\n",
       "        vertical-align: top;\n",
       "    }\n",
       "\n",
       "    .dataframe thead th {\n",
       "        text-align: right;\n",
       "    }\n",
       "</style>\n",
       "<table border=\"1\" class=\"dataframe\">\n",
       "  <thead>\n",
       "    <tr style=\"text-align: right;\">\n",
       "      <th></th>\n",
       "      <th>Predicted Minor/No Injuries</th>\n",
       "      <th>PredictedSevere/Fatality</th>\n",
       "    </tr>\n",
       "  </thead>\n",
       "  <tbody>\n",
       "    <tr>\n",
       "      <th>Actual Minor/No Injuries</th>\n",
       "      <td>2465</td>\n",
       "      <td>527</td>\n",
       "    </tr>\n",
       "    <tr>\n",
       "      <th>Actual Severe/Fatality</th>\n",
       "      <td>25</td>\n",
       "      <td>63</td>\n",
       "    </tr>\n",
       "  </tbody>\n",
       "</table>\n",
       "</div>"
      ],
      "text/plain": [
       "                          Predicted Minor/No Injuries  \\\n",
       "Actual Minor/No Injuries                         2465   \n",
       "Actual Severe/Fatality                             25   \n",
       "\n",
       "                          PredictedSevere/Fatality  \n",
       "Actual Minor/No Injuries                       527  \n",
       "Actual Severe/Fatality                          63  "
      ]
     },
     "execution_count": 39,
     "metadata": {},
     "output_type": "execute_result"
    }
   ],
   "source": [
    "# Display the confusion matrix\n",
    "from sklearn.metrics import confusion_matrix\n",
    "\n",
    "cm = confusion_matrix(y_test, y_pred)\n",
    "\n",
    "cm_df = pd.DataFrame(\n",
    "    cm, index=[\"Actual Minor/No Injuries\", \"Actual Severe/Fatality\"], columns=[\"Predicted Minor/No Injuries\", \"PredictedSevere/Fatality\"])\n",
    "\n",
    "cm_df"
   ]
  },
  {
   "cell_type": "markdown",
   "id": "abbfcb48-8f6c-4682-9b51-9748500a9d48",
   "metadata": {},
   "source": [
    "# SMOTE Imbalanced sampling "
   ]
  },
  {
   "cell_type": "code",
   "execution_count": 40,
   "id": "5b471c3a-4ea9-497b-ad7f-15fa31363e8f",
   "metadata": {},
   "outputs": [
    {
     "data": {
      "text/plain": [
       "Counter({0: 8949, 1: 8949})"
      ]
     },
     "execution_count": 40,
     "metadata": {},
     "output_type": "execute_result"
    }
   ],
   "source": [
    "# Resample the training data with SMOTE\n",
    "from imblearn.over_sampling import SMOTE\n",
    "X_resampled, y_resampled = SMOTE(random_state=1, sampling_strategy='auto').fit_resample(X_train, y_train)\n",
    "\n",
    "Counter(y_resampled)"
   ]
  },
  {
   "cell_type": "code",
   "execution_count": 41,
   "id": "9e91c4f8-9953-4962-af4c-ba116080223e",
   "metadata": {},
   "outputs": [
    {
     "data": {
      "text/plain": [
       "LogisticRegression(random_state=1)"
      ]
     },
     "execution_count": 41,
     "metadata": {},
     "output_type": "execute_result"
    }
   ],
   "source": [
    "# Train the Logistic Regression model using the resampled data\n",
    "model = LogisticRegression(solver='lbfgs', random_state=1)\n",
    "model.fit(X_resampled, y_resampled)"
   ]
  },
  {
   "cell_type": "code",
   "execution_count": 42,
   "id": "8ce51a41-2c0a-4009-8b1c-fe9b51f071b0",
   "metadata": {},
   "outputs": [
    {
     "name": "stdout",
     "output_type": "stream",
     "text": [
      "Training Score: 0.932662119735845\n",
      "Testing Score: 0.935064935064935\n"
     ]
    }
   ],
   "source": [
    "print(f'Training Score: {model.score(X_train, y_train)}')\n",
    "print(f'Testing Score: {model.score(X_test, y_test)}')"
   ]
  },
  {
   "cell_type": "code",
   "execution_count": 43,
   "id": "c9d63b1f-8d4e-4b32-aaa0-1cfb9d829efa",
   "metadata": {},
   "outputs": [
    {
     "data": {
      "text/plain": [
       "0.674298128342246"
      ]
     },
     "execution_count": 43,
     "metadata": {},
     "output_type": "execute_result"
    }
   ],
   "source": [
    "# Calculated the balanced accuracy score\n",
    "y_pred = model.predict(X_test)\n",
    "balanced_accuracy_score(y_test, y_pred)"
   ]
  },
  {
   "cell_type": "code",
   "execution_count": 44,
   "id": "7e8d005b-5a4d-45e7-bfa2-132ff15a86a1",
   "metadata": {},
   "outputs": [
    {
     "data": {
      "text/html": [
       "<div>\n",
       "<style scoped>\n",
       "    .dataframe tbody tr th:only-of-type {\n",
       "        vertical-align: middle;\n",
       "    }\n",
       "\n",
       "    .dataframe tbody tr th {\n",
       "        vertical-align: top;\n",
       "    }\n",
       "\n",
       "    .dataframe thead th {\n",
       "        text-align: right;\n",
       "    }\n",
       "</style>\n",
       "<table border=\"1\" class=\"dataframe\">\n",
       "  <thead>\n",
       "    <tr style=\"text-align: right;\">\n",
       "      <th></th>\n",
       "      <th>Predicted Minor/No Injuries</th>\n",
       "      <th>PredictedSevere/Fatality</th>\n",
       "    </tr>\n",
       "  </thead>\n",
       "  <tbody>\n",
       "    <tr>\n",
       "      <th>Actual Minor/No Injuries</th>\n",
       "      <td>2845</td>\n",
       "      <td>147</td>\n",
       "    </tr>\n",
       "    <tr>\n",
       "      <th>Actual Severe/Fatality</th>\n",
       "      <td>53</td>\n",
       "      <td>35</td>\n",
       "    </tr>\n",
       "  </tbody>\n",
       "</table>\n",
       "</div>"
      ],
      "text/plain": [
       "                          Predicted Minor/No Injuries  \\\n",
       "Actual Minor/No Injuries                         2845   \n",
       "Actual Severe/Fatality                             53   \n",
       "\n",
       "                          PredictedSevere/Fatality  \n",
       "Actual Minor/No Injuries                       147  \n",
       "Actual Severe/Fatality                          35  "
      ]
     },
     "execution_count": 44,
     "metadata": {},
     "output_type": "execute_result"
    }
   ],
   "source": [
    "# Display the confusion matrix\n",
    "cm = confusion_matrix(y_test, y_pred)\n",
    "cm_df = pd.DataFrame(\n",
    "    cm, index=[\"Actual Minor/No Injuries\", \"Actual Severe/Fatality\"], columns=[\"Predicted Minor/No Injuries\", \"PredictedSevere/Fatality\"])\n",
    "\n",
    "cm_df"
   ]
  },
  {
   "cell_type": "code",
   "execution_count": 45,
   "id": "829c7057-cb25-4d42-bd9b-d1d18de057b1",
   "metadata": {},
   "outputs": [
    {
     "name": "stdout",
     "output_type": "stream",
     "text": [
      "                   pre       rec       spe        f1       geo       iba       sup\n",
      "\n",
      "          0       0.98      0.95      0.40      0.97      0.61      0.40      2992\n",
      "          1       0.19      0.40      0.95      0.26      0.61      0.36        88\n",
      "\n",
      "avg / total       0.96      0.94      0.41      0.95      0.61      0.40      3080\n",
      "\n"
     ]
    }
   ],
   "source": [
    "# Print the imbalanced classification report\n",
    "from imblearn.metrics import classification_report_imbalanced\n",
    "print(classification_report_imbalanced(y_test, y_pred))"
   ]
  },
  {
   "cell_type": "markdown",
   "id": "a0b5706f-83ce-4d3e-83b7-eee15908d091",
   "metadata": {},
   "source": [
    "# SMOTEENN Imbalanced sampling"
   ]
  },
  {
   "cell_type": "code",
   "execution_count": 46,
   "id": "2a6ddd3e-df54-496e-9ed2-84765dd3bf94",
   "metadata": {},
   "outputs": [
    {
     "data": {
      "text/plain": [
       "Counter({0: 6563, 1: 8425})"
      ]
     },
     "execution_count": 46,
     "metadata": {},
     "output_type": "execute_result"
    }
   ],
   "source": [
    "# Resample the training data with SMOTEENN\n",
    "# Warning: This is a large dataset, and this step may take some time to complete\n",
    "from imblearn.combine import SMOTEENN\n",
    "\n",
    "smote_enn = SMOTEENN(random_state=1)\n",
    "X_resampled, y_resampled = smote_enn.fit_resample(X_train, y_train)\n",
    "Counter(y_resampled)"
   ]
  },
  {
   "cell_type": "code",
   "execution_count": 47,
   "id": "a6df3bbd-c15e-48fe-92f5-5676694f53b5",
   "metadata": {},
   "outputs": [
    {
     "data": {
      "text/plain": [
       "LogisticRegression(random_state=1)"
      ]
     },
     "execution_count": 47,
     "metadata": {},
     "output_type": "execute_result"
    }
   ],
   "source": [
    "# Train the Logistic Regression model using the resampled data\n",
    "model = LogisticRegression(solver='lbfgs', random_state=1)\n",
    "model.fit(X_resampled, y_resampled)"
   ]
  },
  {
   "cell_type": "code",
   "execution_count": 48,
   "id": "29b15fcd-0f0e-4a5d-8b54-6b106310e632",
   "metadata": {},
   "outputs": [
    {
     "data": {
      "text/plain": [
       "0.706216577540107"
      ]
     },
     "execution_count": 48,
     "metadata": {},
     "output_type": "execute_result"
    }
   ],
   "source": [
    "# Calculated the balanced accuracy score\n",
    "y_pred = model.predict(X_test)\n",
    "balanced_accuracy_score(y_test, y_pred)"
   ]
  },
  {
   "cell_type": "code",
   "execution_count": 75,
   "id": "97279359-0c8b-4b90-8a8f-f4d4457f0e9b",
   "metadata": {},
   "outputs": [
    {
     "data": {
      "text/html": [
       "<div>\n",
       "<style scoped>\n",
       "    .dataframe tbody tr th:only-of-type {\n",
       "        vertical-align: middle;\n",
       "    }\n",
       "\n",
       "    .dataframe tbody tr th {\n",
       "        vertical-align: top;\n",
       "    }\n",
       "\n",
       "    .dataframe thead th {\n",
       "        text-align: right;\n",
       "    }\n",
       "</style>\n",
       "<table border=\"1\" class=\"dataframe\">\n",
       "  <thead>\n",
       "    <tr style=\"text-align: right;\">\n",
       "      <th></th>\n",
       "      <th>Predicted Minor/No Injuries</th>\n",
       "      <th>PredictedSevere/Fatality</th>\n",
       "    </tr>\n",
       "  </thead>\n",
       "  <tbody>\n",
       "    <tr>\n",
       "      <th>Actual Minor/No Injuries</th>\n",
       "      <td>2256</td>\n",
       "      <td>736</td>\n",
       "    </tr>\n",
       "    <tr>\n",
       "      <th>Actual Severe/Fatality</th>\n",
       "      <td>21</td>\n",
       "      <td>67</td>\n",
       "    </tr>\n",
       "  </tbody>\n",
       "</table>\n",
       "</div>"
      ],
      "text/plain": [
       "                          Predicted Minor/No Injuries  \\\n",
       "Actual Minor/No Injuries                         2256   \n",
       "Actual Severe/Fatality                             21   \n",
       "\n",
       "                          PredictedSevere/Fatality  \n",
       "Actual Minor/No Injuries                       736  \n",
       "Actual Severe/Fatality                          67  "
      ]
     },
     "execution_count": 75,
     "metadata": {},
     "output_type": "execute_result"
    }
   ],
   "source": [
    "# Display the confusion matrix\n",
    "cm = confusion_matrix(y_test, y_pred)\n",
    "cm_df = pd.DataFrame(\n",
    "    cm, index=[\"Actual Minor/No Injuries\", \"Actual Severe/Fatality\"], \n",
    "    columns=[\"Predicted Minor/No Injuries\", \"PredictedSevere/Fatality\"])\n",
    "cm_df"
   ]
  },
  {
   "cell_type": "code",
   "execution_count": 76,
   "id": "ed86968a-c206-4117-af4d-af3060bb38fe",
   "metadata": {},
   "outputs": [
    {
     "name": "stdout",
     "output_type": "stream",
     "text": [
      "                   pre       rec       spe        f1       geo       iba       sup\n",
      "\n",
      "          0       0.99      0.75      0.76      0.86      0.76      0.57      2992\n",
      "          1       0.08      0.76      0.75      0.15      0.76      0.57        88\n",
      "\n",
      "avg / total       0.96      0.75      0.76      0.84      0.76      0.57      3080\n",
      "\n"
     ]
    }
   ],
   "source": [
    "# Print the imbalanced classification report\n",
    "print( classification_report_imbalanced(y_test, y_pred))"
   ]
  },
  {
   "cell_type": "markdown",
   "id": "8ab26542-b47e-409a-a363-b71e8cdc50a3",
   "metadata": {},
   "source": [
    "# Balanced Random Forest Classifier"
   ]
  },
  {
   "cell_type": "code",
   "execution_count": 77,
   "id": "67c462d8-3eb7-4edf-9c84-1b03cded76e1",
   "metadata": {},
   "outputs": [],
   "source": [
    "# Imported sklearn and imblearn dependancies\n",
    "from sklearn.metrics import confusion_matrix, accuracy_score, classification_report, balanced_accuracy_score\n",
    "from imblearn.metrics import classification_report_imbalanced\n",
    "from sklearn.preprocessing import StandardScaler, LabelEncoder\n",
    "from sklearn.model_selection import train_test_split\n",
    "from imblearn.ensemble import BalancedRandomForestClassifier\n",
    "from sklearn.datasets import make_classification\n",
    "from sklearn.linear_model import LogisticRegression\n",
    "from sklearn import datasets\n",
    "from sklearn.tree import DecisionTreeClassifier, plot_tree\n",
    "from sklearn import tree\n",
    "from sklearn import datasets"
   ]
  },
  {
   "cell_type": "code",
   "execution_count": 78,
   "id": "b05c07e4-3951-485d-b0a5-2c69e811846a",
   "metadata": {},
   "outputs": [
    {
     "name": "stdout",
     "output_type": "stream",
     "text": [
      "(9237, 124)\n",
      "(3080, 124)\n",
      "(9237,)\n",
      "(3080,)\n"
     ]
    }
   ],
   "source": [
    "# Creating a StandardScaler instance and fit with the training data.\n",
    "scaler = StandardScaler().fit(X_train)\n",
    "# Scale the X data\n",
    "X_train_scaler = scaler.transform(X_train)\n",
    "X_test_scaler = scaler.transform(X_test)\n",
    "\n",
    "# Determine the shape of our training and testing sets.\n",
    "print(X_train.shape)\n",
    "print(X_test.shape)\n",
    "print(y_train.shape)\n",
    "print(y_test.shape)"
   ]
  },
  {
   "cell_type": "code",
   "execution_count": 79,
   "id": "615613c8-f21c-4344-a407-572011b9e689",
   "metadata": {},
   "outputs": [
    {
     "name": "stdout",
     "output_type": "stream",
     "text": [
      "Training Score: 0.7853199090613836\n",
      "Testing Score: 0.7675324675324675\n"
     ]
    }
   ],
   "source": [
    "# Resample the training data with the BalancedRandomForestClassifier\n",
    "brf_model = BalancedRandomForestClassifier(n_estimators = 100, random_state=1)\n",
    "\n",
    "# Fitting the model\n",
    "brf_model = brf_model.fit(X_train_scaler, y_train)\n",
    "\n",
    "# View accuracy of models\n",
    "print(f'Training Score: {brf_model.score(X_train_scaler, y_train)}')\n",
    "print(f'Testing Score: {brf_model.score(X_test_scaler, y_test)}')\n",
    "\n",
    "# Make Prediction\n",
    "predictions = brf_model.predict(X_test_scaler)"
   ]
  },
  {
   "cell_type": "code",
   "execution_count": 80,
   "id": "47a1a335-c772-4451-bf12-82788273f0e0",
   "metadata": {},
   "outputs": [
    {
     "data": {
      "text/plain": [
       "0.7675324675324675"
      ]
     },
     "execution_count": 80,
     "metadata": {},
     "output_type": "execute_result"
    }
   ],
   "source": [
    "# Calculated the balanced accuracy score\n",
    "acc_score = accuracy_score(y_test, predictions)\n",
    "acc_score"
   ]
  },
  {
   "cell_type": "code",
   "execution_count": null,
   "id": "3924911a-09ff-472e-8d54-e54b929c5c3c",
   "metadata": {},
   "outputs": [],
   "source": []
  },
  {
   "cell_type": "code",
   "execution_count": 81,
   "id": "6321169e-1d23-4fd0-b781-ee5bacd2b35b",
   "metadata": {},
   "outputs": [
    {
     "data": {
      "text/html": [
       "<div>\n",
       "<style scoped>\n",
       "    .dataframe tbody tr th:only-of-type {\n",
       "        vertical-align: middle;\n",
       "    }\n",
       "\n",
       "    .dataframe tbody tr th {\n",
       "        vertical-align: top;\n",
       "    }\n",
       "\n",
       "    .dataframe thead th {\n",
       "        text-align: right;\n",
       "    }\n",
       "</style>\n",
       "<table border=\"1\" class=\"dataframe\">\n",
       "  <thead>\n",
       "    <tr style=\"text-align: right;\">\n",
       "      <th></th>\n",
       "      <th>Predicted Minor/No Injuries</th>\n",
       "      <th>PredictedSevere/Fatality</th>\n",
       "    </tr>\n",
       "  </thead>\n",
       "  <tbody>\n",
       "    <tr>\n",
       "      <th>Actual Minor/No Injuries</th>\n",
       "      <td>2294</td>\n",
       "      <td>698</td>\n",
       "    </tr>\n",
       "    <tr>\n",
       "      <th>Actual Severe/Fatality</th>\n",
       "      <td>18</td>\n",
       "      <td>70</td>\n",
       "    </tr>\n",
       "  </tbody>\n",
       "</table>\n",
       "</div>"
      ],
      "text/plain": [
       "                          Predicted Minor/No Injuries  \\\n",
       "Actual Minor/No Injuries                         2294   \n",
       "Actual Severe/Fatality                             18   \n",
       "\n",
       "                          PredictedSevere/Fatality  \n",
       "Actual Minor/No Injuries                       698  \n",
       "Actual Severe/Fatality                          70  "
      ]
     },
     "execution_count": 81,
     "metadata": {},
     "output_type": "execute_result"
    }
   ],
   "source": [
    "# Display the confusion matrix\n",
    "cm = confusion_matrix(y_test, predictions)\n",
    "\n",
    "# Create a DataFrame from the confusion matrix.\n",
    "cm_df = pd.DataFrame(\n",
    "    cm, index=[\"Actual Minor/No Injuries\", \"Actual Severe/Fatality\"], \n",
    "    columns=[\"Predicted Minor/No Injuries\", \"PredictedSevere/Fatality\"])\n",
    "cm_df\n"
   ]
  },
  {
   "cell_type": "code",
   "execution_count": 56,
   "id": "6a438eaa-37b8-4bbc-b7a4-814a10abe2f7",
   "metadata": {},
   "outputs": [
    {
     "name": "stdout",
     "output_type": "stream",
     "text": [
      "                   pre       rec       spe        f1       geo       iba       sup\n",
      "\n",
      "          0       0.99      0.77      0.80      0.87      0.78      0.61      2992\n",
      "          1       0.09      0.80      0.77      0.16      0.78      0.61        88\n",
      "\n",
      "avg / total       0.97      0.77      0.79      0.84      0.78      0.61      3080\n",
      "\n"
     ]
    }
   ],
   "source": [
    "# Print the imbalanced classification report\n",
    "print(classification_report_imbalanced(y_test, predictions))"
   ]
  },
  {
   "cell_type": "code",
   "execution_count": 57,
   "id": "73ba3758-f384-4999-a19b-d1dd7c8d4a5b",
   "metadata": {},
   "outputs": [],
   "source": [
    "# List the features sorted in descending order by feature importance\n",
    "importances = brf_model.feature_importances_\n"
   ]
  },
  {
   "cell_type": "code",
   "execution_count": null,
   "id": "53d438de-ee36-4f8c-a37f-fc2acd4d33fd",
   "metadata": {},
   "outputs": [],
   "source": [
    "# Create dataframe with X data for ranked importance columns\n",
    "ml_encoded_X = ml_encoded.drop(\"severe_injury\", axis=1)\n",
    "ml_encoded_X"
   ]
  },
  {
   "cell_type": "code",
   "execution_count": 67,
   "id": "cb891075-4c19-47ca-bdf7-f14012457869",
   "metadata": {},
   "outputs": [
    {
     "data": {
      "text/plain": [
       "[(0.13981762236291262, 'collision_time'),\n",
       " (0.12421556393856925, 'vehicle_year'),\n",
       " (0.0759801458822396, 'safety_equip_used_GL'),\n",
       " (0.07170905784257771, 'day_of_week'),\n",
       " (0.05962265057644955, 'type_of_collision_H'),\n",
       " (0.040133979823186304, 'severe_injury'),\n",
       " (0.03783108559143831, 'type_of_collision_D'),\n",
       " (0.0317110436983611, 'road_cond_1_H'),\n",
       " (0.027935496227880344, 'party_soberiety_A'),\n",
       " (0.027155822920190278, 'safety_equip_used_GH'),\n",
       " (0.024737074286099815, 'type_of_collision_B'),\n",
       " (0.01983762940790999, 'type_of_collision_C'),\n",
       " (0.019742095725339276, 'move_pre_acc_A'),\n",
       " (0.01845601755216552, 'party_soberiety_H'),\n",
       " (0.01761350561347951, 'lighting_C'),\n",
       " (0.01648839480674774, 'lighting_B'),\n",
       " (0.016091317584205553, 'move_pre_acc_Q'),\n",
       " (0.016074055096515508, 'party_soberiety_D'),\n",
       " (0.013677314525699532, 'weather_1_G'),\n",
       " (0.01279228550610658, 'safety_equip_used_HL'),\n",
       " (0.011992965946259627, 'safety_equip_used_GU'),\n",
       " (0.0115445330043717, 'type_of_collision_A'),\n",
       " (0.011315230982354487, 'victim_seating_postion'),\n",
       " (0.0112493246006482, 'victim_ejected'),\n",
       " (0.010438765129808758, 'move_pre_acc_L'),\n",
       " (0.010274152718676552, 'weather_1_A'),\n",
       " (0.00978518635547589, 'lighting_A'),\n",
       " (0.009018563343898783, 'move_pre_acc_G'),\n",
       " (0.008976394896841107, 'move_pre_acc_D'),\n",
       " (0.007682998694333044, 'safety_equip_used_GN'),\n",
       " (0.006563197845047575, 'type_of_collision_E'),\n",
       " (0.006168791450287914, 'move_pre_acc_R'),\n",
       " (0.006144781141912961, 'move_pre_acc_B'),\n",
       " (0.005814170184119695, 'road_surface_A'),\n",
       " (0.004354811147336122, 'road_cond_1_G'),\n",
       " (0.004038707225271946, 'move_pre_acc_M'),\n",
       " (0.0037171297601900238, 'move_pre_acc_I'),\n",
       " (0.00361086025563596, 'party_soberiety_B'),\n",
       " (0.0036038412567850715, 'weather_1_B'),\n",
       " (0.0027855979655353334, 'road_cond_1_C'),\n",
       " (0.0027007838611704765, 'safety_equip_used_MP'),\n",
       " (0.002666986424059211, 'party_soberiety_C'),\n",
       " (0.0023118203820453012, 'party_soberiety_G'),\n",
       " (0.0020348100874224796, 'type_of_collision_F'),\n",
       " (0.0020162911071389083, 'safety_equip_used_HN'),\n",
       " (0.0017961414751552652, 'safety_equip_used_BL'),\n",
       " (0.0017208503820396967, 'move_pre_acc_C'),\n",
       " (0.0016809710779387794, 'safety_equip_used_FL'),\n",
       " (0.0015533306503909801, 'move_pre_acc_K'),\n",
       " (0.001453573907562061, 'safety_equip_used_BG'),\n",
       " (0.001183929419831235, 'safety_equip_used_DQ'),\n",
       " (0.0011653205668326644, 'road_cond_1_B'),\n",
       " (0.0011525056008998696, 'safety_equip_used_CL'),\n",
       " (0.001109323234836468, 'type_of_collision_G'),\n",
       " (0.001060913544689329, 'safety_equip_used_GM'),\n",
       " (0.0008854032622752169, 'road_cond_1_F'),\n",
       " (0.0008608748749361744, 'safety_equip_used_PP'),\n",
       " (0.000830813839681123, 'safety_equip_used_BN'),\n",
       " (0.0007888923946007296, 'safety_equip_used_BB'),\n",
       " (0.0007888676659660336, 'safety_equip_used_LQ'),\n",
       " (0.0007758027086383227, 'safety_equip_used_AM'),\n",
       " (0.0007394464347220181, 'move_pre_acc_E'),\n",
       " (0.0006577035891944394, 'safety_equip_used_LP'),\n",
       " (0.0005668996855673379, 'move_pre_acc_H'),\n",
       " (0.0005404819971518641, 'safety_equip_used_MN'),\n",
       " (0.0005297238753556539, 'safety_equip_used_CG'),\n",
       " (0.00044431461014243225, 'safety_equip_used_PT'),\n",
       " (0.00043971216159281306, 'safety_equip_used_KM'),\n",
       " (0.00042481896713292614, 'move_pre_acc_P'),\n",
       " (0.0003935667764765202, 'safety_equip_used_EM'),\n",
       " (0.00032590665881392046, 'safety_equip_used_PU'),\n",
       " (0.0003182756008062716, 'move_pre_acc_N'),\n",
       " (0.0002906294861024539, 'road_cond_1_E'),\n",
       " (0.0002875771483873675, 'safety_equip_used_CN'),\n",
       " (0.0002722435972612428, 'move_pre_acc_F'),\n",
       " (0.00026337447084726453, 'safety_equip_used_MT'),\n",
       " (0.000260631394070964, 'safety_equip_used_MR'),\n",
       " (0.00023599222974962126, 'lighting_D'),\n",
       " (0.00020414379077062913, 'road_surface_B'),\n",
       " (0.0001889583540617165, 'move_pre_acc_O'),\n",
       " (0.0001848232674004769, 'safety_equip_used_EL'),\n",
       " (0.00013191199891074767, 'move_pre_acc_J'),\n",
       " (0.0001318274276853347, 'safety_equip_used_BM'),\n",
       " (0.00012548878769153265, 'safety_equip_used_AP'),\n",
       " (0.00011755807146938748, 'weather_1_D'),\n",
       " (9.818483926436175e-05, 'safety_equip_used_FN'),\n",
       " (9.811492164433339e-05, 'safety_equip_used_AG'),\n",
       " (9.486020646456534e-05, 'safety_equip_used_EP'),\n",
       " (8.131457199953399e-05, 'safety_equip_used_KL'),\n",
       " (7.220427918770143e-05, 'road_surface_D'),\n",
       " (4.974296731261314e-05, 'safety_equip_used_FM'),\n",
       " (3.990644855364847e-05, 'safety_equip_used_FP'),\n",
       " (3.472389679286232e-05, 'safety_equip_used_AL'),\n",
       " (2.8082492321193507e-05, 'weather_1_F'),\n",
       " (2.0833584509844096e-05, 'weather_1_C'),\n",
       " (1.6204485170002358e-05, 'safety_equip_used_LU'),\n",
       " (1.3909179817200533e-05, 'safety_equip_used_JQ'),\n",
       " (1.322815115918566e-05, 'safety_equip_used_BP'),\n",
       " (1.0085344332018792e-05, 'safety_equip_used_CM'),\n",
       " (3.968445347755718e-06, 'safety_equip_used_DM'),\n",
       " (3.47238967928622e-06, 'road_cond_1_A'),\n",
       " (2.4989891241910585e-06, 'road_surface_C'),\n",
       " (1.241291563872197e-06, 'safety_equip_used_LM'),\n",
       " (1.043793415886479e-06, 'weather_1_E'),\n",
       " (0.0, 'safety_equip_used_PR'),\n",
       " (0.0, 'safety_equip_used_PQ'),\n",
       " (0.0, 'safety_equip_used_NY'),\n",
       " (0.0, 'safety_equip_used_NQ'),\n",
       " (0.0, 'safety_equip_used_MU'),\n",
       " (0.0, 'safety_equip_used_MS'),\n",
       " (0.0, 'safety_equip_used_MQ'),\n",
       " (0.0, 'safety_equip_used_LN'),\n",
       " (0.0, 'safety_equip_used_JP'),\n",
       " (0.0, 'safety_equip_used_HU'),\n",
       " (0.0, 'safety_equip_used_HP'),\n",
       " (0.0, 'safety_equip_used_HM'),\n",
       " (0.0, 'safety_equip_used_GP'),\n",
       " (0.0, 'safety_equip_used_DP'),\n",
       " (0.0, 'safety_equip_used_DN'),\n",
       " (0.0, 'safety_equip_used_DL'),\n",
       " (0.0, 'safety_equip_used_CY'),\n",
       " (0.0, 'safety_equip_used_CP'),\n",
       " (0.0, 'road_cond_1_D'),\n",
       " (0.0, 'lighting_E')]"
      ]
     },
     "execution_count": 67,
     "metadata": {},
     "output_type": "execute_result"
    }
   ],
   "source": [
    "# Create dataframe containing ranked and sorted feature importances\n",
    "ranked_importances = sorted(zip(brf_model.feature_importances_, ml_encoded.columns), reverse=True)\n",
    "ranked_importances"
   ]
  },
  {
   "cell_type": "code",
   "execution_count": 68,
   "id": "0927cefc-f9c0-4614-b15b-5b522098bc6e",
   "metadata": {},
   "outputs": [
    {
     "data": {
      "text/html": [
       "<div>\n",
       "<style scoped>\n",
       "    .dataframe tbody tr th:only-of-type {\n",
       "        vertical-align: middle;\n",
       "    }\n",
       "\n",
       "    .dataframe tbody tr th {\n",
       "        vertical-align: top;\n",
       "    }\n",
       "\n",
       "    .dataframe thead th {\n",
       "        text-align: right;\n",
       "    }\n",
       "</style>\n",
       "<table border=\"1\" class=\"dataframe\">\n",
       "  <thead>\n",
       "    <tr style=\"text-align: right;\">\n",
       "      <th></th>\n",
       "      <th>Importance</th>\n",
       "      <th>Feature</th>\n",
       "    </tr>\n",
       "  </thead>\n",
       "  <tbody>\n",
       "    <tr>\n",
       "      <th>0</th>\n",
       "      <td>0.139818</td>\n",
       "      <td>collision_time</td>\n",
       "    </tr>\n",
       "    <tr>\n",
       "      <th>1</th>\n",
       "      <td>0.124216</td>\n",
       "      <td>vehicle_year</td>\n",
       "    </tr>\n",
       "    <tr>\n",
       "      <th>2</th>\n",
       "      <td>0.075980</td>\n",
       "      <td>safety_equip_used_GL</td>\n",
       "    </tr>\n",
       "    <tr>\n",
       "      <th>3</th>\n",
       "      <td>0.071709</td>\n",
       "      <td>day_of_week</td>\n",
       "    </tr>\n",
       "    <tr>\n",
       "      <th>4</th>\n",
       "      <td>0.059623</td>\n",
       "      <td>type_of_collision_H</td>\n",
       "    </tr>\n",
       "    <tr>\n",
       "      <th>...</th>\n",
       "      <td>...</td>\n",
       "      <td>...</td>\n",
       "    </tr>\n",
       "    <tr>\n",
       "      <th>119</th>\n",
       "      <td>0.000000</td>\n",
       "      <td>safety_equip_used_DL</td>\n",
       "    </tr>\n",
       "    <tr>\n",
       "      <th>120</th>\n",
       "      <td>0.000000</td>\n",
       "      <td>safety_equip_used_CY</td>\n",
       "    </tr>\n",
       "    <tr>\n",
       "      <th>121</th>\n",
       "      <td>0.000000</td>\n",
       "      <td>safety_equip_used_CP</td>\n",
       "    </tr>\n",
       "    <tr>\n",
       "      <th>122</th>\n",
       "      <td>0.000000</td>\n",
       "      <td>road_cond_1_D</td>\n",
       "    </tr>\n",
       "    <tr>\n",
       "      <th>123</th>\n",
       "      <td>0.000000</td>\n",
       "      <td>lighting_E</td>\n",
       "    </tr>\n",
       "  </tbody>\n",
       "</table>\n",
       "<p>124 rows × 2 columns</p>\n",
       "</div>"
      ],
      "text/plain": [
       "     Importance               Feature\n",
       "0      0.139818        collision_time\n",
       "1      0.124216          vehicle_year\n",
       "2      0.075980  safety_equip_used_GL\n",
       "3      0.071709           day_of_week\n",
       "4      0.059623   type_of_collision_H\n",
       "..          ...                   ...\n",
       "119    0.000000  safety_equip_used_DL\n",
       "120    0.000000  safety_equip_used_CY\n",
       "121    0.000000  safety_equip_used_CP\n",
       "122    0.000000         road_cond_1_D\n",
       "123    0.000000            lighting_E\n",
       "\n",
       "[124 rows x 2 columns]"
      ]
     },
     "execution_count": 68,
     "metadata": {},
     "output_type": "execute_result"
    }
   ],
   "source": [
    "# Create dataframe containing ranked and sorted feature importances\n",
    "ranked_importances_df = pd.DataFrame(sorted(ranked_importances, reverse=True), columns=[\"Importance\", \"Feature\"])\n",
    "ranked_importances_df"
   ]
  },
  {
   "cell_type": "code",
   "execution_count": 71,
   "id": "7593313d-f7a0-4b01-97f4-0cad9c58ec21",
   "metadata": {},
   "outputs": [
    {
     "data": {
      "text/plain": [
       "<Figure size 1440x720 with 0 Axes>"
      ]
     },
     "metadata": {},
     "output_type": "display_data"
    },
    {
     "data": {
      "image/png": "[encoded data removed]",
      "text/plain": [
       "<Figure size 432x288 with 1 Axes>"
      ]
     },
     "metadata": {
      "needs_background": "light"
     },
     "output_type": "display_data"
    }
   ],
   "source": [
    "# Visualize top 10 feature importances\n",
    "top_importances_df = ranked_importances_df.head(15)\n",
    "\n",
    "plt.figure(figsize=(20,10))\n",
    "top_importances_df.plot.barh(x=\"Feature\", y=\"Importance\", align='edge', width=0.9,\n",
    "                      title=\"Top 15 Feature Importances\",\n",
    "                           ylabel=\"% Importance\")\n",
    "plt.gca().invert_yaxis()\n",
    "plt.show\n",
    "plt.savefig('topfeatureranking.png')\n"
   ]
  },
  {
   "cell_type": "code",
   "execution_count": 60,
   "id": "8b6cb934-47a3-4fd1-902d-fb691f19a202",
   "metadata": {},
   "outputs": [
    {
     "name": "stdout",
     "output_type": "stream",
     "text": [
      "100\n"
     ]
    }
   ],
   "source": [
    "# Show count of total estimators in Balanced Random Forest Classifier\n",
    "print(len(brf_model.estimators_))"
   ]
  },
  {
   "cell_type": "markdown",
   "id": "be136636-7406-42eb-97b8-1b07cf282f30",
   "metadata": {},
   "source": [
    "# Easy Ensemble Classifier"
   ]
  },
  {
   "cell_type": "code",
   "execution_count": 61,
   "id": "ce3a8bb4-8702-4344-8930-5de73e3bbe2a",
   "metadata": {},
   "outputs": [
    {
     "name": "stdout",
     "output_type": "stream",
     "text": [
      "Training Score: 0.7590126664501462\n",
      "Testing Score: 0.7542207792207792\n"
     ]
    }
   ],
   "source": [
    "# Train the EasyEnsembleClassifier\n",
    "from imblearn.ensemble import EasyEnsembleClassifier, RUSBoostClassifier\n",
    "eec = EasyEnsembleClassifier(n_estimators=100, random_state=1)\n",
    "eec.fit(X_train_scaler, y_train)\n",
    "\n",
    "# View accuracy of models\n",
    "print(f'Training Score: {eec.score(X_train_scaler, y_train)}')\n",
    "print(f'Testing Score: {eec.score(X_test_scaler, y_test)}')\n",
    "\n",
    "\n",
    "predictions = eec.predict(X_test_scaler)"
   ]
  },
  {
   "cell_type": "code",
   "execution_count": 62,
   "id": "817f08a9-d787-400f-b952-d36cc71119fa",
   "metadata": {},
   "outputs": [
    {
     "data": {
      "text/plain": [
       "0.7542207792207792"
      ]
     },
     "execution_count": 62,
     "metadata": {},
     "output_type": "execute_result"
    }
   ],
   "source": [
    "# Calculated the balanced accuracy score\n",
    "acc_score = accuracy_score(y_test, predictions)\n",
    "acc_score"
   ]
  },
  {
   "cell_type": "code",
   "execution_count": 63,
   "id": "e2ff8d7b-263d-4750-9df5-07432a4317c5",
   "metadata": {},
   "outputs": [],
   "source": [
    "# Display the confusion matrix\n",
    "y_pred = eec.predict(X_test_scaler)\n",
    "cm = confusion_matrix(y_test, y_pred)"
   ]
  },
  {
   "cell_type": "code",
   "execution_count": 64,
   "id": "19106dd1-949c-42d5-a17b-062b51545201",
   "metadata": {},
   "outputs": [
    {
     "data": {
      "text/html": [
       "<div>\n",
       "<style scoped>\n",
       "    .dataframe tbody tr th:only-of-type {\n",
       "        vertical-align: middle;\n",
       "    }\n",
       "\n",
       "    .dataframe tbody tr th {\n",
       "        vertical-align: top;\n",
       "    }\n",
       "\n",
       "    .dataframe thead th {\n",
       "        text-align: right;\n",
       "    }\n",
       "</style>\n",
       "<table border=\"1\" class=\"dataframe\">\n",
       "  <thead>\n",
       "    <tr style=\"text-align: right;\">\n",
       "      <th></th>\n",
       "      <th>Predicted High Risk</th>\n",
       "      <th>Predicted Low Risk</th>\n",
       "    </tr>\n",
       "  </thead>\n",
       "  <tbody>\n",
       "    <tr>\n",
       "      <th>Actual High Risk</th>\n",
       "      <td>2256</td>\n",
       "      <td>736</td>\n",
       "    </tr>\n",
       "    <tr>\n",
       "      <th>Actual Low Risk</th>\n",
       "      <td>21</td>\n",
       "      <td>67</td>\n",
       "    </tr>\n",
       "  </tbody>\n",
       "</table>\n",
       "</div>"
      ],
      "text/plain": [
       "                  Predicted High Risk  Predicted Low Risk\n",
       "Actual High Risk                 2256                 736\n",
       "Actual Low Risk                    21                  67"
      ]
     },
     "execution_count": 64,
     "metadata": {},
     "output_type": "execute_result"
    }
   ],
   "source": [
    "# Create a DataFrame from the confusion matrix.\n",
    "cm_df = pd.DataFrame(\n",
    "    cm, index=[\"Actual High Risk\", \"Actual Low Risk\"], columns=[\"Predicted High Risk\", \"Predicted Low Risk\"])\n",
    "\n",
    "cm_df\n"
   ]
  },
  {
   "cell_type": "code",
   "execution_count": 65,
   "id": "41ae870d-764d-43ec-b8f4-cc65c9f8474f",
   "metadata": {},
   "outputs": [
    {
     "name": "stdout",
     "output_type": "stream",
     "text": [
      "                   pre       rec       spe        f1       geo       iba       sup\n",
      "\n",
      "          0       0.99      0.75      0.76      0.86      0.76      0.57      2992\n",
      "          1       0.08      0.76      0.75      0.15      0.76      0.57        88\n",
      "\n",
      "avg / total       0.96      0.75      0.76      0.84      0.76      0.57      3080\n",
      "\n"
     ]
    }
   ],
   "source": [
    "# Print the imbalanced classification report\n",
    "print(classification_report_imbalanced(y_test, predictions))"
   ]
  },
  {
   "cell_type": "code",
   "execution_count": null,
   "id": "a3ff7dd0-ad41-4aae-bfab-b10fce755e5b",
   "metadata": {},
   "outputs": [],
   "source": []
  }
 ],
 "metadata": {
  "kernelspec": {
   "display_name": "mlenv",
   "language": "python",
   "name": "mlenv"
  },
  "language_info": {
   "codemirror_mode": {
    "name": "ipython",
    "version": 3
   },
   "file_extension": ".py",
   "mimetype": "text/x-python",
   "name": "python",
   "nbconvert_exporter": "python",
   "pygments_lexer": "ipython3",
   "version": "3.8.12"
  }
 },
 "nbformat": 4,
 "nbformat_minor": 5
}
